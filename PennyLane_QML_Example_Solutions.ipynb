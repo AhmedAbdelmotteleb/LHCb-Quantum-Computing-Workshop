{
  "cells": [
    {
      "cell_type": "markdown",
      "source": [
        "# **QML Exercise**: Classification with Quantum & Classical Models\n",
        "In this exercise, we will explore how Quantum Machine Learning (QML) can be used to solve a complex, two-dimensional classification problem. We will build two types of quantum classifiers and compare their performance against a standard classical model.\n",
        "\n",
        "\\\n",
        "\n",
        "A major bottleneck in QML can be the time it takes to simulate quantum circuits. To address this, we will leverage **lightning.qubit**, a high-performance CPU simulator provided by PennyLane, to dramatically speed up the computation.\n",
        "\n",
        "\\\n",
        "\n",
        "**Getting Started**: Installing Libraries\n",
        "First, we need to install the necessary Python libraries. This code block will install PennyLane for quantum programming, Scikit-learn for classical machine learning tools, Matplotlib for plotting, and tqdm for progress bars."
      ],
      "metadata": {
        "id": "IfUd7U6uLvdz"
      }
    },
    {
      "cell_type": "code",
      "source": [
        "!pip install pennylane --quiet\n",
        "!pip install scikit-learn --quiet\n",
        "!pip install matplotlib --quiet\n",
        "!pip install tqdm --quiet\n",
        "!pip install ipywidgets --quiet"
      ],
      "metadata": {
        "collapsed": true,
        "id": "sQLiZUVrTe84"
      },
      "execution_count": null,
      "outputs": []
    },
    {
      "cell_type": "markdown",
      "source": [
        "# **A Quick Primer on Quantum Circuits**\n",
        "Before we apply quantum computing to machine learning, let's understand the basics of building a quantum circuit.\n",
        "\n",
        "A **quantum circuit** is a sequence of operations, called **quantum gates**, applied to qubits.\n",
        "\n",
        "* **Qubits**: These are the basic units of quantum information. Unlike classical bits that are either 0 or 1, a qubit can exist in a **superposition** of both states simultaneously.\n",
        "\n",
        "* **Quantum Gates**: These are operations that manipulate the state of the qubits. For example, a Hadamard gate puts a qubit into a superposition, and a CNOT gate entangles two qubits.\n",
        "\n",
        "* **Measurement**: At the end of a circuit, we measure the qubits, which collapses their superposition into a classical state (either 0 or 1).\n",
        "\n",
        "\\\n",
        "\n",
        "**Building a Simple Circuit in PennyLane**\n",
        "\n",
        "Let's build a simple two-qubit circuit that creates an entangled state known as a Bell state.\n",
        "\n",
        "* **Define a Device**: A device is the \"backend\" that will run our circuit. It can be a quantum simulator (like default.qubit) or a real quantum computer.\n",
        "\n",
        "* **Create a QNode**: A QNode is a quantum circuit bound to a specific device. We define it in Python using the @qml.qnode decorator.\n",
        "\n",
        "* **Define the Circuit**: Inside our QNode function, we define the sequence of gates.\n",
        "\n",
        "* **Return a Measurement**: The function must return a classical measurement result."
      ],
      "metadata": {
        "id": "tHHA3sULhBPb"
      }
    },
    {
      "cell_type": "code",
      "source": [
        "import pennylane as qml\n",
        "import matplotlib.pyplot as plt\n",
        "\n",
        "# 1. Define a device (a 2-qubit simulator)\n",
        "dev_simple = qml.device(\"default.qubit\", wires=2)\n",
        "\n",
        "# 2. Create a QNode bound to the device\n",
        "@qml.qnode(dev_simple)\n",
        "def simple_bell_state_circuit():\n",
        "    \"\"\"\n",
        "    This quantum circuit creates a Bell state by applying a\n",
        "    Hadamard gate and a CNOT gate.\n",
        "    \"\"\"\n",
        "    # 3. Apply gates\n",
        "    qml.Hadamard(wires=0)  # Puts the first qubit in a superposition\n",
        "    qml.CNOT(wires=[0, 1])   # Entangles the two qubits\n",
        "\n",
        "    # 4. Return a measurement (in this case, the state probabilities)\n",
        "    return qml.probs(wires=[0, 1])\n",
        "\n",
        "# Run the circuit\n",
        "result = simple_bell_state_circuit()\n",
        "print(f\"Output probabilities: {result}\")\n",
        "print(\"This indicates a 50% chance of measuring |00> and a 50% chance of measuring |11>.\")\n"
      ],
      "metadata": {
        "colab": {
          "base_uri": "https://localhost:8080/"
        },
        "id": "wV1P7YAkgu7D",
        "outputId": "83382ef3-55f9-46a8-eab7-c40602aacf32"
      },
      "execution_count": null,
      "outputs": [
        {
          "output_type": "stream",
          "name": "stdout",
          "text": [
            "Output probabilities: [0.5 0.  0.  0.5]\n",
            "This indicates a 50% chance of measuring |00> and a 50% chance of measuring |11>.\n"
          ]
        }
      ]
    },
    {
      "cell_type": "markdown",
      "source": [
        "**Visualizing the Circuit**\n",
        "\n",
        "PennyLane makes it easy to visualize what we've just built. We can get both a graphical representation and a text-based one."
      ],
      "metadata": {
        "id": "qFf_nsJ-g2I6"
      }
    },
    {
      "cell_type": "code",
      "source": [
        "# Draw the circuit graphically\n",
        "fig, ax = qml.draw_mpl(simple_bell_state_circuit)()\n",
        "fig.suptitle(\"Simple Bell State Circuit\")\n",
        "plt.show()\n",
        "\n",
        "# You can also get a text-based drawing\n",
        "print(\"\\nCircuit Diagram (Text):\")\n",
        "print(qml.draw(simple_bell_state_circuit)())\n"
      ],
      "metadata": {
        "colab": {
          "base_uri": "https://localhost:8080/",
          "height": 406
        },
        "id": "CTQyxUy6gu2R",
        "outputId": "58b47e11-2ad2-4c73-f179-8277fd512159"
      },
      "execution_count": null,
      "outputs": [
        {
          "output_type": "display_data",
          "data": {
            "text/plain": [
              "<Figure size 500x300 with 1 Axes>"
            ],
            "image/png": "[encoded data removed]"
          },
          "metadata": {}
        },
        {
          "output_type": "stream",
          "name": "stdout",
          "text": [
            "\n",
            "Circuit Diagram (Text):\n",
            "0: ──H─╭●─┤ ╭Probs\n",
            "1: ────╰X─┤ ╰Probs\n"
          ]
        }
      ]
    },
    {
      "cell_type": "markdown",
      "source": [
        "This simple example shows the fundamental workflow of creating and running a quantum circuit. The machine learning models we build next will use these same principles but with more complex circuits."
      ],
      "metadata": {
        "id": "WDGlxG5Og8I8"
      }
    },
    {
      "cell_type": "markdown",
      "source": [
        "# **Conceptual Overview for Beginners**\n",
        "Before we get into the code, let's break down some of the key concepts for those new to machine learning or quantum computing.\n",
        "\n",
        "\\\n",
        "\n",
        "**What is a Support Vector Machine (SVM)?**\n",
        "\n",
        "A **Support Vector Machine (SVM)** is a powerful and popular supervised machine learning algorithm used for classification tasks. Imagine you have a dataset with two categories of points on a graph. The goal of an SVM is to find the best possible line (or hyperplane in higher dimensions) that separates these two categories. This line is called the \"decision boundary\". The \"best\" line is the one that is as far away as possible from the closest points in each category. These closest points are called \"support vectors,\" which give the SVM its name.\n",
        "\n",
        "\\\n",
        "\n",
        "**What is a Kernel?**\n",
        "\n",
        "Sometimes, data isn't easily separable by a straight line. This is where kernels come in. A kernel is a mathematical function that takes the original, non-separable data and transforms it into a higher-dimensional space where it becomes linearly separable. This is often called the \"kernel trick.\" Think of it as adding a new dimension to your data to make it easier to draw a dividing line. The function that performs this transformation is the kernel.\n",
        "\n",
        "\\\n",
        "\n",
        "**What is a Quantum Support Vector Machine (QSVM)?**\n",
        "\n",
        "A **Quantum Support Vector Machine (QSVM)** gives the concept of a kernel a quantum twist. Instead of using a classical mathematical function as a kernel, a QSVM uses a quantum circuit to transform the data. This quantum circuit, also known as a \"feature map,\" encodes the classical data into a quantum state. By doing this, we can explore a much larger and more complex feature space than what is available to classical computers. The hope is that this quantum-enhanced feature space will allow us to find better decision boundaries for our classification problems."
      ],
      "metadata": {
        "id": "Ig4WV0v8MTS2"
      }
    },
    {
      "cell_type": "markdown",
      "source": [
        "# **Part 1: Generating the 2D \"Two Moons\" Data**\n",
        "\n",
        "We will start by generating a \"two moons\" dataset using Scikit-learn. This dataset is a classic example of a problem where the two classes are not linearly separable, meaning you can't draw a single straight line to separate them perfectly. This makes it an interesting challenge for our models.\n"
      ],
      "metadata": {
        "id": "16S3iAkqg0N0"
      }
    },
    {
      "cell_type": "code",
      "source": [
        "import pennylane as qml\n",
        "from pennylane import numpy as np\n",
        "import matplotlib.pyplot as plt\n",
        "from sklearn.datasets import make_moons\n",
        "from sklearn.svm import SVC\n",
        "from sklearn.preprocessing import StandardScaler\n",
        "from tqdm.notebook import tqdm # Import tqdm for progress bars\n",
        "\n",
        "# Generate the two moons dataset\n",
        "X, Y = make_moons(n_samples=100, noise=0.1, random_state=42)\n",
        "\n",
        "# It's good practice to scale the data for kernel methods\n",
        "scaler = StandardScaler().fit(X)\n",
        "X_scaled = scaler.transform(X)\n",
        "\n",
        "# Plot the data to see the challenge\n",
        "plt.figure(figsize=(6, 4))\n",
        "plt.scatter(X_scaled[Y==0, 0], X_scaled[Y==0, 1], c=\"royalblue\", marker=\"o\", edgecolors=\"k\", label=\"Class 0\")\n",
        "plt.scatter(X_scaled[Y==1, 0], X_scaled[Y==1, 1], c=\"gold\", marker=\"s\", edgecolors=\"k\", label=\"Class 1\")\n",
        "plt.title(\"Two Moons Dataset\")\n",
        "plt.xlabel(\"Feature 1\")\n",
        "plt.ylabel(\"Feature 2\")\n",
        "plt.legend()\n",
        "plt.show()\n"
      ],
      "metadata": {
        "colab": {
          "base_uri": "https://localhost:8080/",
          "height": 403
        },
        "id": "37Nc1IOVYCi5",
        "outputId": "c7d1f72e-2999-463c-f774-fbb62ba0290e"
      },
      "execution_count": null,
      "outputs": [
        {
          "output_type": "display_data",
          "data": {
            "text/plain": [
              "<Figure size 600x400 with 1 Axes>"
            ],
            "image/png": "[encoded data removed]"
          },
          "metadata": {}
        }
      ]
    },
    {
      "cell_type": "markdown",
      "source": [
        "# **Part 2: Building and Training the QSVM**\n",
        "\n",
        "This is where we define our quantum kernel. We specify **lightning.qubit** as our device, which uses a highly optimized C++ backend to run simulations much faster than the default Python-based simulator.\n",
        "\n",
        "\\\n",
        "\n",
        "**Defining the Quantum Kernel**\n",
        "\n",
        "The kernel is created by a quantum circuit that encodes the data points. The similarity between two data points **x1** and **x2** is calculated by running the feature map for **x1**, followed by the inverse of the feature map for **x2**, and then measuring the probability of the qubits returning to the all-zero state."
      ],
      "metadata": {
        "id": "F00hmfikiRIG"
      }
    },
    {
      "cell_type": "code",
      "source": [
        "# --- 2. Define an Improved Quantum Kernel ---\n",
        "num_qubits = 2\n",
        "dev = qml.device(\"lightning.qubit\", wires=num_qubits)\n",
        "\n",
        "def feature_map(x):\n",
        "    \"\"\"\n",
        "    A more expressive feature map (the ansatz).\n",
        "    This circuit encodes the data and adds entanglement.\n",
        "    \"\"\"\n",
        "    qml.AngleEmbedding(x, wires=range(num_qubits))\n",
        "    qml.CNOT(wires=[0, 1])\n",
        "    qml.RY(x[0], wires=0)\n",
        "    qml.RY(x[1], wires=1)\n",
        "    qml.CNOT(wires=[0, 1])\n",
        "    qml.RY(x[0], wires=0)\n",
        "    qml.RY(x[1], wires=1)\n",
        "\n",
        "# Define the quantum circuit that will be our feature map\n",
        "@qml.qnode(dev)\n",
        "def kernel_circuit(x1, x2):\n",
        "    \"\"\"The quantum circuit that uses the improved feature map.\"\"\"\n",
        "    # Apply the feature map for the first data point\n",
        "    feature_map(x1)\n",
        "    # Apply the inverse of the feature map for the second data point\n",
        "    qml.adjoint(feature_map)(x2)\n",
        "    # Return the probability of being in the all-zero state\n",
        "    return qml.probs(wires=range(num_qubits))\n",
        "\n",
        "def quantum_kernel(X1, X2):\n",
        "    \"\"\"The quantum kernel function that uses the circuit.\"\"\"\n",
        "    # The kernel is the probability of measuring the all-zero state\n",
        "    # We add a tqdm progress bar to the outer loop\n",
        "    return np.array([[kernel_circuit(x1, x2)[0] for x2 in X2] for x1 in tqdm(X1, desc=\"Kernel Rows\")])"
      ],
      "metadata": {
        "id": "zqcIDKLvYCgs"
      },
      "execution_count": null,
      "outputs": []
    },
    {
      "cell_type": "markdown",
      "source": [
        "**Visualizing the QSVM Kernel Circuit**\n",
        "\n",
        "Let's draw the circuit to see what it looks like. We'll pass in some dummy data to render the circuit diagram."
      ],
      "metadata": {
        "id": "Gi798QqjN5P5"
      }
    },
    {
      "cell_type": "code",
      "source": [
        "# Create some dummy data points to draw the circuit\n",
        "dummy_x1 = np.array([0.5, 0.3])\n",
        "dummy_x2 = np.array([-0.2, 0.7])\n",
        "\n",
        "# Draw the kernel circuit\n",
        "fig, ax = qml.draw_mpl(kernel_circuit)(dummy_x1, dummy_x2)\n",
        "fig.suptitle(\"QSVM Kernel Circuit\")\n",
        "plt.show()\n",
        "\n",
        "# You can also get a text-based drawing\n",
        "print(\"QSVM Kernel Circuit (Text):\")\n",
        "print(qml.draw(kernel_circuit)(dummy_x1, dummy_x2))"
      ],
      "metadata": {
        "colab": {
          "base_uri": "https://localhost:8080/",
          "height": 316
        },
        "id": "P6ftbNHgN27t",
        "outputId": "3c72d190-a259-4dfa-f13d-353678bf0f0e"
      },
      "execution_count": null,
      "outputs": [
        {
          "output_type": "display_data",
          "data": {
            "text/plain": [
              "<Figure size 1300x300 with 1 Axes>"
            ],
            "image/png": "[encoded data removed]"
          },
          "metadata": {}
        },
        {
          "output_type": "stream",
          "name": "stdout",
          "text": [
            "QSVM Kernel Circuit (Text):\n",
            "0: ──RX(0.50)─╭●──RY(0.50)─╭●──RY(0.50)──RY(-0.20)†─╭X†──RY(-0.20)†─╭X†──RX(-0.20)†─┤ ╭Probs\n",
            "1: ──RX(0.30)─╰X──RY(0.30)─╰X──RY(0.30)──RY(0.70)†──╰X†──RY(0.70)†──╰X†──RX(0.70)†──┤ ╰Probs\n"
          ]
        }
      ]
    },
    {
      "cell_type": "markdown",
      "source": [
        "**Training the QSVM and Classical SVM**\n",
        "\n",
        "Now we train both the QSVM and a classical SVM with a standard Radial Basis Function (RBF) kernel. This will allow us to directly compare the performance of the quantum kernel against a powerful classical alternative."
      ],
      "metadata": {
        "id": "HcIYFSv_ivvr"
      }
    },
    {
      "cell_type": "code",
      "source": [
        "# --- Train the QSVM Classifier ---\n",
        "print(\"Calculating the improved quantum kernel matrix...\")\n",
        "# The 'precomputed' kernel tells the SVM to use our custom quantum kernel\n",
        "qsvm_classifier = SVC(kernel=quantum_kernel)\n",
        "qsvm_classifier.fit(X_scaled, Y)\n",
        "print(\"QSVM training complete.\")\n",
        "\n",
        "# --- 3. Train the Classical SVM Classifier ---\n",
        "print(\"\\nTraining the classical SVM classifier...\")\n",
        "svm_classifier = SVC(kernel=\"rbf\", gamma=0.5, C=1.0)\n",
        "svm_classifier.fit(X_scaled, Y)\n",
        "print(\"SVM training complete.\")"
      ],
      "metadata": {
        "colab": {
          "base_uri": "https://localhost:8080/",
          "height": 136,
          "referenced_widgets": [
            "0d38ccf2361942719c564bde6664257d",
            "f67e6e0a5773441dbb91079fcee2a040",
            "04489d2de7184ecc9b9c3bbf9689b56b",
            "7e79486540ba475eae9bad275281c080",
            "04e1732bd339445ab84b7f5cd3f18ccc",
            "0cfd89b0437c4248a7dd392aacaa7813",
            "6780d4a9995b453da49919840503257e",
            "25756268c8ad43318b92e49e7158c6ca",
            "6c22030732c74b308f312c8225a9f4c7",
            "1c510fc3f28943a2834338257d1b8045",
            "f6450bc3b4fd4f8eaae89dad43971618"
          ]
        },
        "id": "o0N2dZqzYCeD",
        "outputId": "f0d29b60-3fda-4800-bbd4-f18d49f44b61"
      },
      "execution_count": null,
      "outputs": [
        {
          "output_type": "stream",
          "name": "stdout",
          "text": [
            "Calculating the improved quantum kernel matrix...\n"
          ]
        },
        {
          "output_type": "display_data",
          "data": {
            "text/plain": [
              "Kernel Rows:   0%|          | 0/100 [00:00<?, ?it/s]"
            ],
            "application/vnd.jupyter.widget-view+json": {
              "version_major": 2,
              "version_minor": 0,
              "model_id": "0d38ccf2361942719c564bde6664257d"
            }
          },
          "metadata": {}
        },
        {
          "output_type": "stream",
          "name": "stdout",
          "text": [
            "QSVM training complete.\n",
            "\n",
            "Training the classical SVM classifier...\n",
            "SVM training complete.\n"
          ]
        }
      ]
    },
    {
      "cell_type": "markdown",
      "source": [
        "# **Part 3: Building a Variational Quantum Classifier (VQC)**\n",
        "Now we'll build a different kind of quantum model.\n",
        "\n",
        "**What is a Variational Quantum Classifier (VQC)?**\n",
        "\n",
        "A **Variational Quantum Classifier (VQC)** is another type of quantum machine learning model. Instead of using a quantum circuit as a kernel for a classical SVM, a VQC uses a \"parameterized\" quantum circuit as the core of the classifier itself.\n",
        "\n",
        "Here's a simple breakdown of how it works:\n",
        "\n",
        "* **Data Encoding**: We first encode our classical data into a quantum state.\n",
        "\n",
        "* **Variational Circuit**: This is the heart of the VQC. It's a quantum circuit with adjustable parameters (or \"weights\"). We can think of these as knobs we can turn to change the behavior of the circuit.\n",
        "\n",
        "* **Measurement**: After the data is processed by the variational circuit, we measure one of the qubits. The outcome of this measurement is used to make a prediction (e.g., class \"0\" or \"1\").\n",
        "\n",
        "* **Training**: We use a classical optimizer to \"tune\" the parameters of our variational circuit. The optimizer's goal is to find the set of parameters that minimizes a \"cost function,\" which measures how many mistakes the classifier is making.\n",
        "\n",
        "In essence, a VQC is a hybrid quantum-classical algorithm where a quantum computer performs the classification and a classical computer optimizes the quantum circuit.\n",
        "\n",
        "**Defining the VQC Circuit**\n",
        "\n",
        "The VQC consists of layers of gates with trainable weights. The input data is first encoded, and then it passes through these trainable layers before a final measurement is made."
      ],
      "metadata": {
        "id": "psAMHb0tDqGb"
      }
    },
    {
      "cell_type": "code",
      "source": [
        "# --- Part 3: Building the Variational Quantum Classifier (VQC) ---\n",
        "\n",
        "# Define the number of layers in our variational circuit\n",
        "num_layers = 12\n",
        "num_qubits = 2\n",
        "\n",
        "# Use the same high-performance simulator\n",
        "dev_vqc = qml.device(\"lightning.qubit\", wires=num_qubits)\n",
        "\n",
        "def layer(W):\n",
        "    \"\"\"A single layer of the variational circuit.\"\"\"\n",
        "    qml.RY(W[0], wires=0)\n",
        "    qml.RY(W[1], wires=1)\n",
        "\n",
        "    # 2. Entangling layer\n",
        "    qml.CNOT(wires=[0, 1])\n",
        "\n",
        "    qml.RX(W[2], wires=0)\n",
        "    qml.RX(W[3], wires=1)\n",
        "\n",
        "    qml.CNOT(wires=[0, 1])\n",
        "\n",
        "    qml.RZ(W[4], wires=0)\n",
        "    qml.RZ(W[5], wires=1)\n",
        "\n",
        "    qml.CNOT(wires=[0, 1])\n",
        "\n",
        "    qml.RY(W[6], wires=0)\n",
        "    qml.RY(W[7], wires=1)\n",
        "\n",
        "\n",
        "@qml.qnode(dev_vqc)\n",
        "def vqc_circuit(weights, x):\n",
        "    \"\"\"The full VQC circuit.\"\"\"\n",
        "    # Encode the input data\n",
        "    qml.AngleEmbedding(x, wires=range(num_qubits))\n",
        "    # Apply the trainable layers\n",
        "    for W in weights:\n",
        "        layer(W)\n",
        "    # Return the expectation value of the Pauli-Z operator on the first qubit\n",
        "    return qml.expval(qml.PauliZ(0))\n",
        "\n",
        "def variational_classifier(weights, x):\n",
        "    \"\"\"A wrapper for the VQC circuit that returns a class label.\"\"\"\n",
        "    # The bias term is a classical parameter\n",
        "    bias = weights[1]\n",
        "    # The weights for the quantum circuit\n",
        "    circuit_weights = weights[0]\n",
        "    # The raw output from the circuit\n",
        "    raw_output = vqc_circuit(circuit_weights, x)\n",
        "    return raw_output + bias\n",
        "\n",
        "print(\"VQC components defined.\")"
      ],
      "metadata": {
        "colab": {
          "base_uri": "https://localhost:8080/"
        },
        "id": "XCH8Cb2T7M0u",
        "outputId": "f0c5d6ec-1fe6-4268-9aec-a3130e171bbe"
      },
      "execution_count": null,
      "outputs": [
        {
          "output_type": "stream",
          "name": "stdout",
          "text": [
            "VQC components defined.\n"
          ]
        }
      ]
    },
    {
      "cell_type": "markdown",
      "source": [
        "**Visualizing the VQC Circuit**\n",
        "\n",
        "Let's draw the VQC circuit. Since it has many layers, the diagram will be quite large, but it clearly shows the structure of data encoding followed by trainable layers."
      ],
      "metadata": {
        "id": "1DSEmxwIO8Lt"
      }
    },
    {
      "cell_type": "code",
      "source": [
        "# Create dummy weights and a data point to draw the circuit\n",
        "dummy_weights = np.random.uniform(0, 2 * np.pi, size=(num_layers, 12))\n",
        "dummy_x = np.array([0.5, 0.3])\n",
        "\n",
        "# Draw the VQC circuit\n",
        "fig, ax = qml.draw_mpl(vqc_circuit)(dummy_weights, dummy_x)\n",
        "fig.suptitle(\"Variational Quantum Classifier (VQC) Circuit\")\n",
        "plt.show()\n",
        "\n",
        "# You can also get a text-based drawing\n",
        "#print(\"VQC Circuit (Text):\")\n",
        "#print(qml.draw(vqc_circuit)(dummy_weights, dummy_x))"
      ],
      "metadata": {
        "colab": {
          "base_uri": "https://localhost:8080/",
          "height": 62
        },
        "id": "HqK6Qm25O8Ws",
        "outputId": "6f6c7969-53fa-4f3a-ab94-badcb40487e7"
      },
      "execution_count": null,
      "outputs": [
        {
          "output_type": "display_data",
          "data": {
            "text/plain": [
              "<Figure size 8800x300 with 1 Axes>"
            ],
            "image/png": "[encoded data removed]"
          },
          "metadata": {}
        }
      ]
    },
    {
      "cell_type": "markdown",
      "source": [
        "**Training the VQC**\n",
        "\n",
        "We train the VQC by minimizing a cost function (square loss) using a classical optimizer. The optimizer iteratively updates the circuit's weights to improve its accuracy."
      ],
      "metadata": {
        "id": "nnnqE3jvPMnU"
      }
    },
    {
      "cell_type": "code",
      "source": [
        "# --- Part 4: Training the VQC ---\n",
        "\n",
        "def square_loss(labels, predictions):\n",
        "    \"\"\"Calculates the mean square loss.\"\"\"\n",
        "    loss = 0\n",
        "    for l, p in zip(labels, predictions):\n",
        "        loss = loss + (l - p) ** 2\n",
        "    return loss / len(labels)\n",
        "\n",
        "def cost(weights, X, Y):\n",
        "    \"\"\"The cost function to be minimized.\"\"\"\n",
        "    # The VQC gives predictions in the range [-1, 1]. We shift the labels to match.\n",
        "    Y_shifted = Y * 2 - 1\n",
        "    predictions = [variational_classifier(weights, x) for x in X]\n",
        "    return square_loss(Y_shifted, predictions)\n",
        "\n",
        "# Initialize the weights and bias\n",
        "np.random.seed(0)\n",
        "circuit_weights = np.random.uniform(0, 2 * np.pi, size=(num_layers, 12))\n",
        "bias = np.array(0.0, requires_grad=True)\n",
        "weights = [circuit_weights, bias]\n",
        "\n",
        "# Set up the optimizer\n",
        "optimizer = qml.NesterovMomentumOptimizer(0.05)\n",
        "batch_size = 10\n",
        "training_steps = 150\n",
        "\n",
        "print(\"Training the VQC...\")\n",
        "# Training loop\n",
        "for i in tqdm(range(training_steps), desc=\"VQC Training\"):\n",
        "    # Select a batch of data\n",
        "    batch_index = np.random.randint(0, len(X), (batch_size,))\n",
        "    X_batch = X_scaled[batch_index]\n",
        "    Y_batch = Y[batch_index]\n",
        "    # Update the weights\n",
        "    weights, cost_val = optimizer.step_and_cost(lambda w: cost(w, X_batch, Y_batch), weights)\n",
        "    if (i + 1) % 10 == 0:\n",
        "        print(f\"Step {i+1:3d}: Cost = {cost_val:.4f}\")\n",
        "\n",
        "print(\"VQC training complete.\")\n"
      ],
      "metadata": {
        "colab": {
          "base_uri": "https://localhost:8080/",
          "height": 399,
          "referenced_widgets": [
            "006ec948de6e40c4acfdba698cb99724",
            "46e5131ef85e4d1fa93bfa82fceb72c1",
            "e365a66a032d45dcb028c6f4e4c97999",
            "2851b0007c284e84bc285be9859e47fc",
            "e85e5c154a5f4381a5f7af7e9a0f0257",
            "4e92c259b6e94a47bd94f9a7b3aea85b",
            "9cf7fbf58a9246b88a290e69942a2d7f",
            "5492f47b39e24b7a916b0a45a82809d5",
            "b9bc196b84a6423c9680298601935793",
            "694c16e1b44b4cc0b06bd5dc410b860f",
            "9a7c60aa321143bc94a33846ced89160"
          ]
        },
        "id": "08A1DQZL7MsI",
        "outputId": "ac2a90d9-1868-4dd0-f5f3-4d3aeacca80f"
      },
      "execution_count": null,
      "outputs": [
        {
          "output_type": "stream",
          "name": "stdout",
          "text": [
            "Training the VQC...\n"
          ]
        },
        {
          "output_type": "display_data",
          "data": {
            "text/plain": [
              "VQC Training:   0%|          | 0/150 [00:00<?, ?it/s]"
            ],
            "application/vnd.jupyter.widget-view+json": {
              "version_major": 2,
              "version_minor": 0,
              "model_id": "006ec948de6e40c4acfdba698cb99724"
            }
          },
          "metadata": {}
        },
        {
          "output_type": "stream",
          "name": "stderr",
          "text": [
            "/usr/local/lib/python3.11/dist-packages/pennylane/_grad.py:216: UserWarning: Attempted to differentiate a function with no trainable parameters. If this is unintended, please add trainable parameters via the 'requires_grad' attribute or 'argnum' keyword.\n",
            "  warnings.warn(\n"
          ]
        },
        {
          "output_type": "stream",
          "name": "stdout",
          "text": [
            "Step  10: Cost = 1.7324\n",
            "Step  20: Cost = 1.2280\n",
            "Step  30: Cost = 1.5063\n",
            "Step  40: Cost = 1.9830\n",
            "Step  50: Cost = 1.8395\n",
            "Step  60: Cost = 1.3939\n",
            "Step  70: Cost = 1.8519\n",
            "Step  80: Cost = 1.2920\n",
            "Step  90: Cost = 1.4129\n",
            "Step 100: Cost = 1.7019\n",
            "Step 110: Cost = 1.5302\n",
            "Step 120: Cost = 1.5237\n",
            "Step 130: Cost = 1.5659\n",
            "Step 140: Cost = 2.0237\n",
            "Step 150: Cost = 1.7660\n",
            "VQC training complete.\n"
          ]
        }
      ]
    },
    {
      "cell_type": "markdown",
      "source": [
        "# **Part 4: Visualize and Compare All Results**\n",
        "Finally, we'll calculate the accuracy of all three models and plot their decision boundaries to visually compare how they classified the data.\n",
        "\n",
        "**Calculating Predictions and Accuracy**\n",
        "\n",
        "Here we generate predictions for a grid of points to visualize the decision boundaries."
      ],
      "metadata": {
        "id": "uAeUyN7rPU-N"
      }
    },
    {
      "cell_type": "code",
      "source": [
        "# --- Calculate QSVM Results ---\n",
        "print(\"\\nPredicting with QSVM...\")\n",
        "grid_resolution_qsvm = 0.2 # Make this larger if its very slow\n",
        "qsvm_accuracy = qsvm_classifier.score(X_scaled, Y)\n",
        "x_min, x_max = X_scaled[:, 0].min() - 0.5, X_scaled[:, 0].max() + 0.5\n",
        "y_min, y_max = X_scaled[:, 1].min() - 0.5, X_scaled[:, 1].max() + 0.5\n",
        "xx_qsvm, yy_qsvm = np.meshgrid(np.arange(x_min, x_max, grid_resolution_qsvm), np.arange(y_min, y_max, grid_resolution_qsvm))\n",
        "grid_points_qsvm = np.c_[xx_qsvm.ravel(), yy_qsvm.ravel()]\n",
        "qsvm_predictions_grid = qsvm_classifier.predict(grid_points_qsvm)\n",
        "Z_qsvm = qsvm_predictions_grid.reshape(xx_qsvm.shape)"
      ],
      "metadata": {
        "colab": {
          "base_uri": "https://localhost:8080/",
          "height": 116,
          "referenced_widgets": [
            "c31a92504dab4138ba6dbeff377c4aac",
            "c31819befb2f44109b0e8bbd7e0a5a15",
            "59a094b541bc4918b0a021192568bbc9",
            "44e7161a3a4b4dfda71ad2db69ee6214",
            "e8cb6ae12e104e5897f6e89ff028fc12",
            "7ea9b0ec368c4dd791b1458220a5f375",
            "12375aeb83b54c68904958a3092b34ca",
            "754700ce11a0446597c7d3fd9576fa2a",
            "10c6364e605a4a06b2ed72c8bdc5d09e",
            "75eeb2980b1947d7bf4fac6df3f86ba1",
            "92cf3f9515f34162a6bbca565d1c316d",
            "90fe6d80a8754e9f8cddb2ee42717466",
            "4b2aa605117d4f459e6d12588a18907b",
            "208c610a5c6249748f6d0436e975a932",
            "284e682a71264bac87f4b7ac0579ff67",
            "176c70f8120f4f8da7b4885507c8af35",
            "88d4b89bf66e4d02afd1430612cd6fb1",
            "4edecc4820664bdfa22301b082cc7624",
            "8dfed0ccec9e49318566e17d67ca1636",
            "c29486dcfc6b435fa8a5ae3ff11353ec",
            "916400075a9c44339a35bab634a9d1b2",
            "ebc3e99c8252469d960e87c819f0733b"
          ]
        },
        "id": "m7ro53ZSDxf6",
        "outputId": "de226715-a1f0-46d0-af05-bdad0ba3d1e8"
      },
      "execution_count": null,
      "outputs": [
        {
          "output_type": "stream",
          "name": "stdout",
          "text": [
            "\n",
            "Predicting with QSVM...\n"
          ]
        },
        {
          "output_type": "display_data",
          "data": {
            "text/plain": [
              "Kernel Rows:   0%|          | 0/100 [00:00<?, ?it/s]"
            ],
            "application/vnd.jupyter.widget-view+json": {
              "version_major": 2,
              "version_minor": 0,
              "model_id": "c31a92504dab4138ba6dbeff377c4aac"
            }
          },
          "metadata": {}
        },
        {
          "output_type": "display_data",
          "data": {
            "text/plain": [
              "Kernel Rows:   0%|          | 0/575 [00:00<?, ?it/s]"
            ],
            "application/vnd.jupyter.widget-view+json": {
              "version_major": 2,
              "version_minor": 0,
              "model_id": "90fe6d80a8754e9f8cddb2ee42717466"
            }
          },
          "metadata": {}
        }
      ]
    },
    {
      "cell_type": "code",
      "source": [
        "# --- Calculate Classical SVM Results ---\n",
        "grid_resolution_svm = 0.2 # Make this larger if its very slow\n",
        "x_min, x_max = X_scaled[:, 0].min() - 0.5, X_scaled[:, 0].max() + 0.5\n",
        "y_min, y_max = X_scaled[:, 1].min() - 0.5, X_scaled[:, 1].max() + 0.5\n",
        "xx_svm, yy_svm = np.meshgrid(np.arange(x_min, x_max, grid_resolution_svm), np.arange(y_min, y_max, grid_resolution_svm))\n",
        "grid_points_svm = np.c_[xx_svm.ravel(), yy_svm.ravel()]\n",
        "svm_accuracy = svm_classifier.score(X_scaled, Y)\n",
        "svm_predictions_grid = svm_classifier.predict(grid_points_svm)\n",
        "Z_svm = svm_predictions_grid.reshape(xx_svm.shape)"
      ],
      "metadata": {
        "id": "Alz_VNjA8PZt"
      },
      "execution_count": null,
      "outputs": []
    },
    {
      "cell_type": "code",
      "source": [
        "# --- Calculate VQC Results ---\n",
        "print(\"\\nPredicting with VQC...\")\n",
        "grid_resolution_vqc = 0.2 # Make this larger if its very slow\n",
        "x_min, x_max = X_scaled[:, 0].min() - 0.5, X_scaled[:, 0].max() + 0.5\n",
        "y_min, y_max = X_scaled[:, 1].min() - 0.5, X_scaled[:, 1].max() + 0.5\n",
        "xx_vqc, yy_vqc = np.meshgrid(np.arange(x_min, x_max, grid_resolution_vqc), np.arange(y_min, y_max, grid_resolution_vqc))\n",
        "grid_points_vqc = np.c_[xx_vqc.ravel(), yy_vqc.ravel()]\n",
        "vqc_predictions = [np.sign(variational_classifier(weights, x)) for x in tqdm(X_scaled, desc=\"VQC Predictions\")]\n",
        "vqc_accuracy = np.sum(vqc_predictions == (Y * 2 - 1)) / len(Y)\n",
        "vqc_predictions_grid = np.array([np.sign(variational_classifier(weights, p)) for p in tqdm(grid_points_vqc, desc=\"VQC Grid\")]).reshape(xx_vqc.shape)"
      ],
      "metadata": {
        "colab": {
          "base_uri": "https://localhost:8080/",
          "height": 116,
          "referenced_widgets": [
            "eead3b2855b845a491fa5403020b9057",
            "da5b94fe9323471c880c8aeb2af558a8",
            "15f36b7f8f9044598bf642832f3d424e",
            "2ff74d985ed541e6aaaeb389e9ae5494",
            "34cefae9e7ec4e199dfdf3b8fd1ea5d8",
            "5ae3ce3013154954b588c7616f21224f",
            "9eebbc7081cb4cfa9fc4ef767c729835",
            "5bf4d48d66404a3782f095fcb4ad5480",
            "1f2bb0c5d1924135b351738eaf6f5ef5",
            "9fbcda889dff43e691229c6b00cc0e53",
            "c6e30b606ba146af966b9e11efcc324a",
            "4092597fcf14489aa86bb4da4c75d1a1",
            "55e768da95184c61a9a72489b3dcd526",
            "b9077a8309754a748a6db552a5e38158",
            "1ff182c0a4c04b95a1f0a9209786a55a",
            "3b9d53e739c14bb9a8a68cda388210cb",
            "ee8de65e263e4de48648c2247938d574",
            "71a01db28dbc413cb588499eac5bc985",
            "4b03d64dbb9c4225bb213d468e845a5f",
            "cbfb901af3534973954d3e7b55940cab",
            "1d5a00f48e464ec4a0aba6954b49c44a",
            "d263f788dcb94d999ebcfe0bc2356a76"
          ]
        },
        "id": "qqqNomA6D01L",
        "outputId": "950accf4-6ef0-43cf-f608-adefb4beab21"
      },
      "execution_count": null,
      "outputs": [
        {
          "output_type": "stream",
          "name": "stdout",
          "text": [
            "\n",
            "Predicting with VQC...\n"
          ]
        },
        {
          "output_type": "display_data",
          "data": {
            "text/plain": [
              "VQC Predictions:   0%|          | 0/100 [00:00<?, ?it/s]"
            ],
            "application/vnd.jupyter.widget-view+json": {
              "version_major": 2,
              "version_minor": 0,
              "model_id": "eead3b2855b845a491fa5403020b9057"
            }
          },
          "metadata": {}
        },
        {
          "output_type": "display_data",
          "data": {
            "text/plain": [
              "VQC Grid:   0%|          | 0/575 [00:00<?, ?it/s]"
            ],
            "application/vnd.jupyter.widget-view+json": {
              "version_major": 2,
              "version_minor": 0,
              "model_id": "4092597fcf14489aa86bb4da4c75d1a1"
            }
          },
          "metadata": {}
        }
      ]
    },
    {
      "cell_type": "markdown",
      "source": [
        "**Plotting the Decision Boundaries**"
      ],
      "metadata": {
        "id": "z7J5yefnRaKH"
      }
    },
    {
      "cell_type": "code",
      "source": [
        "# --- Part 6: Visualize and Compare All Results ---\n",
        "plt.style.use(\"seaborn-v0_8-whitegrid\")\n",
        "fig, (ax1, ax2, ax3) = plt.subplots(1, 3, figsize=(21, 6))\n",
        "\n",
        "# --- Rescale SVM and QSVM predictions to match VQC's -1 to 1 scale ---\n",
        "# The original Z_qsvm and Z_svm contain 0s and 1s.\n",
        "# We map them to -1s and 1s using the formula: y_new = 2*y_old - 1\n",
        "Z_qsvm_rescaled = 2 * Z_qsvm - 1\n",
        "Z_svm_rescaled = 2 * Z_svm - 1\n",
        "\n",
        "\n",
        "# --- Plot QSVM Results ---\n",
        "# Now using the rescaled data and level=0 for the boundary\n",
        "ax1.contourf(xx_qsvm, yy_qsvm, Z_qsvm_rescaled, alpha=0.3, colors=[\"royalblue\", \"gold\"])\n",
        "ax1.contour(xx_qsvm, yy_qsvm, Z_qsvm_rescaled, levels=[0], colors=\"black\", linestyles=\"--\")\n",
        "ax1.scatter(X_scaled[Y==0, 0], X_scaled[Y==0, 1], c=\"royalblue\", marker=\"o\", edgecolors=\"k\", label=\"Class 0\")\n",
        "ax1.scatter(X_scaled[Y==1, 0], X_scaled[Y==1, 1], c=\"gold\", marker=\"s\", edgecolors=\"k\", label=\"Class 1\")\n",
        "ax1.set_title(f\"Quantum SVM (QSVM) Boundary\\nAccuracy: {qsvm_accuracy:.2%}\")\n",
        "ax1.set_xlabel(\"Feature 1\")\n",
        "ax1.set_ylabel(\"Feature 2\")\n",
        "ax1.legend(loc=\"upper left\")\n",
        "\n",
        "\n",
        "# --- Plot Classical SVM Results ---\n",
        "# Now using the rescaled data and level=0 for the boundary\n",
        "ax2.contourf(xx_svm, yy_svm, Z_svm_rescaled, alpha=0.3, colors=[\"royalblue\", \"gold\"])\n",
        "ax2.contour(xx_svm, yy_svm, Z_svm_rescaled, levels=[0], colors=\"black\", linestyles=\"--\")\n",
        "ax2.scatter(X_scaled[Y==0, 0], X_scaled[Y==0, 1], c=\"royalblue\", marker=\"o\", edgecolors=\"k\", label=\"Class 0\")\n",
        "ax2.scatter(X_scaled[Y==1, 0], X_scaled[Y==1, 1], c=\"gold\", marker=\"s\", edgecolors=\"k\", label=\"Class 1\")\n",
        "ax2.set_title(f\"Classical SVM (RBF Kernel) Boundary\\nAccuracy: {svm_accuracy:.2%}\")\n",
        "ax2.set_xlabel(\"Feature 1\")\n",
        "ax2.legend(loc=\"upper left\")\n",
        "\n",
        "\n",
        "# --- Plot VQC Results ---\n",
        "# The VQC data is already in the -1 to 1 range, so no change is needed here.\n",
        "# The contour level is set to 0 to match the others.\n",
        "ax3.contourf(xx_vqc, yy_vqc, vqc_predictions_grid, alpha=0.3, colors=[\"royalblue\", \"gold\"])\n",
        "ax3.contour(xx_vqc, yy_vqc, vqc_predictions_grid, levels=[0], colors=\"black\", linestyles=\"--\")\n",
        "ax3.scatter(X_scaled[Y==0, 0], X_scaled[Y==0, 1], c=\"royalblue\", marker=\"o\", edgecolors=\"k\", label=\"Class 0\")\n",
        "ax3.scatter(X_scaled[Y==1, 0], X_scaled[Y==1, 1], c=\"gold\", marker=\"s\", edgecolors=\"k\", label=\"Class 1\")\n",
        "ax3.set_title(f\"Variational Quantum Classifier (VQC) Boundary\\nAccuracy: {vqc_accuracy:.2%}\")\n",
        "ax3.set_xlabel(\"Feature 1\")\n",
        "ax3.legend(loc=\"upper left\")\n",
        "\n",
        "\n",
        "plt.tight_layout()\n",
        "#plt.savefig(\"qsvm_vqc_vs_svm_classification.png\")\n",
        "plt.show()\n",
        "\n",
        "print(f\"\\nQSVM Accuracy: {qsvm_accuracy:.4f}\")\n",
        "print(f\"VQC Accuracy: {vqc_accuracy:.4f}\")\n",
        "print(f\"Classical SVM Accuracy: {svm_accuracy:.4f}\")"
      ],
      "metadata": {
        "colab": {
          "base_uri": "https://localhost:8080/",
          "height": 436
        },
        "id": "aRSDxy4RDg0v",
        "outputId": "990e49d8-f87c-46b3-dde2-812c408f020a"
      },
      "execution_count": null,
      "outputs": [
        {
          "output_type": "display_data",
          "data": {
            "text/plain": [
              "<Figure size 2100x600 with 3 Axes>"
            ],
            "image/png": "[encoded data removed]"
          },
          "metadata": {}
        },
        {
          "output_type": "stream",
          "name": "stdout",
          "text": [
            "\n",
            "QSVM Accuracy: 0.9500\n",
            "VQC Accuracy: 0.1800\n",
            "Classical SVM Accuracy: 0.9700\n"
          ]
        }
      ]
    }
  ],
  "metadata": {
    "colab": {
      "provenance": [],
      "toc_visible": true,
      "gpuType": "T4"
    },
    "kernelspec": {
      "display_name": "Python 3",
      "name": "python3"
    },
    "widgets": {
      "application/vnd.jupyter.widget-state+json": {
        "0d38ccf2361942719c564bde6664257d": {
          "model_module": "@jupyter-widgets/controls",
          "model_name": "HBoxModel",
          "model_module_version": "1.5.0",
          "state": {
            "_dom_classes": [],
            "_model_module": "@jupyter-widgets/controls",
            "_model_module_version": "1.5.0",
            "_model_name": "HBoxModel",
            "_view_count": null,
            "_view_module": "@jupyter-widgets/controls",
            "_view_module_version": "1.5.0",
            "_view_name": "HBoxView",
            "box_style": "",
            "children": [
              "IPY_MODEL_f67e6e0a5773441dbb91079fcee2a040",
              "IPY_MODEL_04489d2de7184ecc9b9c3bbf9689b56b",
              "IPY_MODEL_7e79486540ba475eae9bad275281c080"
            ],
            "layout": "IPY_MODEL_04e1732bd339445ab84b7f5cd3f18ccc"
          }
        },
        "f67e6e0a5773441dbb91079fcee2a040": {
          "model_module": "@jupyter-widgets/controls",
          "model_name": "HTMLModel",
          "model_module_version": "1.5.0",
          "state": {
            "_dom_classes": [],
            "_model_module": "@jupyter-widgets/controls",
            "_model_module_version": "1.5.0",
            "_model_name": "HTMLModel",
            "_view_count": null,
            "_view_module": "@jupyter-widgets/controls",
            "_view_module_version": "1.5.0",
            "_view_name": "HTMLView",
            "description": "",
            "description_tooltip": null,
            "layout": "IPY_MODEL_0cfd89b0437c4248a7dd392aacaa7813",
            "placeholder": "​",
            "style": "IPY_MODEL_6780d4a9995b453da49919840503257e",
            "value": "Kernel Rows: 100%"
          }
        },
        "04489d2de7184ecc9b9c3bbf9689b56b": {
          "model_module": "@jupyter-widgets/controls",
          "model_name": "FloatProgressModel",
          "model_module_version": "1.5.0",
          "state": {
            "_dom_classes": [],
            "_model_module": "@jupyter-widgets/controls",
            "_model_module_version": "1.5.0",
            "_model_name": "FloatProgressModel",
            "_view_count": null,
            "_view_module": "@jupyter-widgets/controls",
            "_view_module_version": "1.5.0",
            "_view_name": "ProgressView",
            "bar_style": "success",
            "description": "",
            "description_tooltip": null,
            "layout": "IPY_MODEL_25756268c8ad43318b92e49e7158c6ca",
            "max": 100,
            "min": 0,
            "orientation": "horizontal",
            "style": "IPY_MODEL_6c22030732c74b308f312c8225a9f4c7",
            "value": 100
          }
        },
        "7e79486540ba475eae9bad275281c080": {
          "model_module": "@jupyter-widgets/controls",
          "model_name": "HTMLModel",
          "model_module_version": "1.5.0",
          "state": {
            "_dom_classes": [],
            "_model_module": "@jupyter-widgets/controls",
            "_model_module_version": "1.5.0",
            "_model_name": "HTMLModel",
            "_view_count": null,
            "_view_module": "@jupyter-widgets/controls",
            "_view_module_version": "1.5.0",
            "_view_name": "HTMLView",
            "description": "",
            "description_tooltip": null,
            "layout": "IPY_MODEL_1c510fc3f28943a2834338257d1b8045",
            "placeholder": "​",
            "style": "IPY_MODEL_f6450bc3b4fd4f8eaae89dad43971618",
            "value": " 100/100 [00:37&lt;00:00,  4.87it/s]"
          }
        },
        "04e1732bd339445ab84b7f5cd3f18ccc": {
          "model_module": "@jupyter-widgets/base",
          "model_name": "LayoutModel",
          "model_module_version": "1.2.0",
          "state": {
            "_model_module": "@jupyter-widgets/base",
            "_model_module_version": "1.2.0",
            "_model_name": "LayoutModel",
            "_view_count": null,
            "_view_module": "@jupyter-widgets/base",
            "_view_module_version": "1.2.0",
            "_view_name": "LayoutView",
            "align_content": null,
            "align_items": null,
            "align_self": null,
            "border": null,
            "bottom": null,
            "display": null,
            "flex": null,
            "flex_flow": null,
            "grid_area": null,
            "grid_auto_columns": null,
            "grid_auto_flow": null,
            "grid_auto_rows": null,
            "grid_column": null,
            "grid_gap": null,
            "grid_row": null,
            "grid_template_areas": null,
            "grid_template_columns": null,
            "grid_template_rows": null,
            "height": null,
            "justify_content": null,
            "justify_items": null,
            "left": null,
            "margin": null,
            "max_height": null,
            "max_width": null,
            "min_height": null,
            "min_width": null,
            "object_fit": null,
            "object_position": null,
            "order": null,
            "overflow": null,
            "overflow_x": null,
            "overflow_y": null,
            "padding": null,
            "right": null,
            "top": null,
            "visibility": null,
            "width": null
          }
        },
        "0cfd89b0437c4248a7dd392aacaa7813": {
          "model_module": "@jupyter-widgets/base",
          "model_name": "LayoutModel",
          "model_module_version": "1.2.0",
          "state": {
            "_model_module": "@jupyter-widgets/base",
            "_model_module_version": "1.2.0",
            "_model_name": "LayoutModel",
            "_view_count": null,
            "_view_module": "@jupyter-widgets/base",
            "_view_module_version": "1.2.0",
            "_view_name": "LayoutView",
            "align_content": null,
            "align_items": null,
            "align_self": null,
            "border": null,
            "bottom": null,
            "display": null,
            "flex": null,
            "flex_flow": null,
            "grid_area": null,
            "grid_auto_columns": null,
            "grid_auto_flow": null,
            "grid_auto_rows": null,
            "grid_column": null,
            "grid_gap": null,
            "grid_row": null,
            "grid_template_areas": null,
            "grid_template_columns": null,
            "grid_template_rows": null,
            "height": null,
            "justify_content": null,
            "justify_items": null,
            "left": null,
            "margin": null,
            "max_height": null,
            "max_width": null,
            "min_height": null,
            "min_width": null,
            "object_fit": null,
            "object_position": null,
            "order": null,
            "overflow": null,
            "overflow_x": null,
            "overflow_y": null,
            "padding": null,
            "right": null,
            "top": null,
            "visibility": null,
            "width": null
          }
        },
        "6780d4a9995b453da49919840503257e": {
          "model_module": "@jupyter-widgets/controls",
          "model_name": "DescriptionStyleModel",
          "model_module_version": "1.5.0",
          "state": {
            "_model_module": "@jupyter-widgets/controls",
            "_model_module_version": "1.5.0",
            "_model_name": "DescriptionStyleModel",
            "_view_count": null,
            "_view_module": "@jupyter-widgets/base",
            "_view_module_version": "1.2.0",
            "_view_name": "StyleView",
            "description_width": ""
          }
        },
        "25756268c8ad43318b92e49e7158c6ca": {
          "model_module": "@jupyter-widgets/base",
          "model_name": "LayoutModel",
          "model_module_version": "1.2.0",
          "state": {
            "_model_module": "@jupyter-widgets/base",
            "_model_module_version": "1.2.0",
            "_model_name": "LayoutModel",
            "_view_count": null,
            "_view_module": "@jupyter-widgets/base",
            "_view_module_version": "1.2.0",
            "_view_name": "LayoutView",
            "align_content": null,
            "align_items": null,
            "align_self": null,
            "border": null,
            "bottom": null,
            "display": null,
            "flex": null,
            "flex_flow": null,
            "grid_area": null,
            "grid_auto_columns": null,
            "grid_auto_flow": null,
            "grid_auto_rows": null,
            "grid_column": null,
            "grid_gap": null,
            "grid_row": null,
            "grid_template_areas": null,
            "grid_template_columns": null,
            "grid_template_rows": null,
            "height": null,
            "justify_content": null,
            "justify_items": null,
            "left": null,
            "margin": null,
            "max_height": null,
            "max_width": null,
            "min_height": null,
            "min_width": null,
            "object_fit": null,
            "object_position": null,
            "order": null,
            "overflow": null,
            "overflow_x": null,
            "overflow_y": null,
            "padding": null,
            "right": null,
            "top": null,
            "visibility": null,
            "width": null
          }
        },
        "6c22030732c74b308f312c8225a9f4c7": {
          "model_module": "@jupyter-widgets/controls",
          "model_name": "ProgressStyleModel",
          "model_module_version": "1.5.0",
          "state": {
            "_model_module": "@jupyter-widgets/controls",
            "_model_module_version": "1.5.0",
            "_model_name": "ProgressStyleModel",
            "_view_count": null,
            "_view_module": "@jupyter-widgets/base",
            "_view_module_version": "1.2.0",
            "_view_name": "StyleView",
            "bar_color": null,
            "description_width": ""
          }
        },
        "1c510fc3f28943a2834338257d1b8045": {
          "model_module": "@jupyter-widgets/base",
          "model_name": "LayoutModel",
          "model_module_version": "1.2.0",
          "state": {
            "_model_module": "@jupyter-widgets/base",
            "_model_module_version": "1.2.0",
            "_model_name": "LayoutModel",
            "_view_count": null,
            "_view_module": "@jupyter-widgets/base",
            "_view_module_version": "1.2.0",
            "_view_name": "LayoutView",
            "align_content": null,
            "align_items": null,
            "align_self": null,
            "border": null,
            "bottom": null,
            "display": null,
            "flex": null,
            "flex_flow": null,
            "grid_area": null,
            "grid_auto_columns": null,
            "grid_auto_flow": null,
            "grid_auto_rows": null,
            "grid_column": null,
            "grid_gap": null,
            "grid_row": null,
            "grid_template_areas": null,
            "grid_template_columns": null,
            "grid_template_rows": null,
            "height": null,
            "justify_content": null,
            "justify_items": null,
            "left": null,
            "margin": null,
            "max_height": null,
            "max_width": null,
            "min_height": null,
            "min_width": null,
            "object_fit": null,
            "object_position": null,
            "order": null,
            "overflow": null,
            "overflow_x": null,
            "overflow_y": null,
            "padding": null,
            "right": null,
            "top": null,
            "visibility": null,
            "width": null
          }
        },
        "f6450bc3b4fd4f8eaae89dad43971618": {
          "model_module": "@jupyter-widgets/controls",
          "model_name": "DescriptionStyleModel",
          "model_module_version": "1.5.0",
          "state": {
            "_model_module": "@jupyter-widgets/controls",
            "_model_module_version": "1.5.0",
            "_model_name": "DescriptionStyleModel",
            "_view_count": null,
            "_view_module": "@jupyter-widgets/base",
            "_view_module_version": "1.2.0",
            "_view_name": "StyleView",
            "description_width": ""
          }
        },
        "c31a92504dab4138ba6dbeff377c4aac": {
          "model_module": "@jupyter-widgets/controls",
          "model_name": "HBoxModel",
          "model_module_version": "1.5.0",
          "state": {
            "_dom_classes": [],
            "_model_module": "@jupyter-widgets/controls",
            "_model_module_version": "1.5.0",
            "_model_name": "HBoxModel",
            "_view_count": null,
            "_view_module": "@jupyter-widgets/controls",
            "_view_module_version": "1.5.0",
            "_view_name": "HBoxView",
            "box_style": "",
            "children": [
              "IPY_MODEL_c31819befb2f44109b0e8bbd7e0a5a15",
              "IPY_MODEL_59a094b541bc4918b0a021192568bbc9",
              "IPY_MODEL_44e7161a3a4b4dfda71ad2db69ee6214"
            ],
            "layout": "IPY_MODEL_e8cb6ae12e104e5897f6e89ff028fc12"
          }
        },
        "c31819befb2f44109b0e8bbd7e0a5a15": {
          "model_module": "@jupyter-widgets/controls",
          "model_name": "HTMLModel",
          "model_module_version": "1.5.0",
          "state": {
            "_dom_classes": [],
            "_model_module": "@jupyter-widgets/controls",
            "_model_module_version": "1.5.0",
            "_model_name": "HTMLModel",
            "_view_count": null,
            "_view_module": "@jupyter-widgets/controls",
            "_view_module_version": "1.5.0",
            "_view_name": "HTMLView",
            "description": "",
            "description_tooltip": null,
            "layout": "IPY_MODEL_7ea9b0ec368c4dd791b1458220a5f375",
            "placeholder": "​",
            "style": "IPY_MODEL_12375aeb83b54c68904958a3092b34ca",
            "value": "Kernel Rows: 100%"
          }
        },
        "59a094b541bc4918b0a021192568bbc9": {
          "model_module": "@jupyter-widgets/controls",
          "model_name": "FloatProgressModel",
          "model_module_version": "1.5.0",
          "state": {
            "_dom_classes": [],
            "_model_module": "@jupyter-widgets/controls",
            "_model_module_version": "1.5.0",
            "_model_name": "FloatProgressModel",
            "_view_count": null,
            "_view_module": "@jupyter-widgets/controls",
            "_view_module_version": "1.5.0",
            "_view_name": "ProgressView",
            "bar_style": "success",
            "description": "",
            "description_tooltip": null,
            "layout": "IPY_MODEL_754700ce11a0446597c7d3fd9576fa2a",
            "max": 100,
            "min": 0,
            "orientation": "horizontal",
            "style": "IPY_MODEL_10c6364e605a4a06b2ed72c8bdc5d09e",
            "value": 100
          }
        },
        "44e7161a3a4b4dfda71ad2db69ee6214": {
          "model_module": "@jupyter-widgets/controls",
          "model_name": "HTMLModel",
          "model_module_version": "1.5.0",
          "state": {
            "_dom_classes": [],
            "_model_module": "@jupyter-widgets/controls",
            "_model_module_version": "1.5.0",
            "_model_name": "HTMLModel",
            "_view_count": null,
            "_view_module": "@jupyter-widgets/controls",
            "_view_module_version": "1.5.0",
            "_view_name": "HTMLView",
            "description": "",
            "description_tooltip": null,
            "layout": "IPY_MODEL_75eeb2980b1947d7bf4fac6df3f86ba1",
            "placeholder": "​",
            "style": "IPY_MODEL_92cf3f9515f34162a6bbca565d1c316d",
            "value": " 100/100 [00:22&lt;00:00,  4.69it/s]"
          }
        },
        "e8cb6ae12e104e5897f6e89ff028fc12": {
          "model_module": "@jupyter-widgets/base",
          "model_name": "LayoutModel",
          "model_module_version": "1.2.0",
          "state": {
            "_model_module": "@jupyter-widgets/base",
            "_model_module_version": "1.2.0",
            "_model_name": "LayoutModel",
            "_view_count": null,
            "_view_module": "@jupyter-widgets/base",
            "_view_module_version": "1.2.0",
            "_view_name": "LayoutView",
            "align_content": null,
            "align_items": null,
            "align_self": null,
            "border": null,
            "bottom": null,
            "display": null,
            "flex": null,
            "flex_flow": null,
            "grid_area": null,
            "grid_auto_columns": null,
            "grid_auto_flow": null,
            "grid_auto_rows": null,
            "grid_column": null,
            "grid_gap": null,
            "grid_row": null,
            "grid_template_areas": null,
            "grid_template_columns": null,
            "grid_template_rows": null,
            "height": null,
            "justify_content": null,
            "justify_items": null,
            "left": null,
            "margin": null,
            "max_height": null,
            "max_width": null,
            "min_height": null,
            "min_width": null,
            "object_fit": null,
            "object_position": null,
            "order": null,
            "overflow": null,
            "overflow_x": null,
            "overflow_y": null,
            "padding": null,
            "right": null,
            "top": null,
            "visibility": null,
            "width": null
          }
        },
        "7ea9b0ec368c4dd791b1458220a5f375": {
          "model_module": "@jupyter-widgets/base",
          "model_name": "LayoutModel",
          "model_module_version": "1.2.0",
          "state": {
            "_model_module": "@jupyter-widgets/base",
            "_model_module_version": "1.2.0",
            "_model_name": "LayoutModel",
            "_view_count": null,
            "_view_module": "@jupyter-widgets/base",
            "_view_module_version": "1.2.0",
            "_view_name": "LayoutView",
            "align_content": null,
            "align_items": null,
            "align_self": null,
            "border": null,
            "bottom": null,
            "display": null,
            "flex": null,
            "flex_flow": null,
            "grid_area": null,
            "grid_auto_columns": null,
            "grid_auto_flow": null,
            "grid_auto_rows": null,
            "grid_column": null,
            "grid_gap": null,
            "grid_row": null,
            "grid_template_areas": null,
            "grid_template_columns": null,
            "grid_template_rows": null,
            "height": null,
            "justify_content": null,
            "justify_items": null,
            "left": null,
            "margin": null,
            "max_height": null,
            "max_width": null,
            "min_height": null,
            "min_width": null,
            "object_fit": null,
            "object_position": null,
            "order": null,
            "overflow": null,
            "overflow_x": null,
            "overflow_y": null,
            "padding": null,
            "right": null,
            "top": null,
            "visibility": null,
            "width": null
          }
        },
        "12375aeb83b54c68904958a3092b34ca": {
          "model_module": "@jupyter-widgets/controls",
          "model_name": "DescriptionStyleModel",
          "model_module_version": "1.5.0",
          "state": {
            "_model_module": "@jupyter-widgets/controls",
            "_model_module_version": "1.5.0",
            "_model_name": "DescriptionStyleModel",
            "_view_count": null,
            "_view_module": "@jupyter-widgets/base",
            "_view_module_version": "1.2.0",
            "_view_name": "StyleView",
            "description_width": ""
          }
        },
        "754700ce11a0446597c7d3fd9576fa2a": {
          "model_module": "@jupyter-widgets/base",
          "model_name": "LayoutModel",
          "model_module_version": "1.2.0",
          "state": {
            "_model_module": "@jupyter-widgets/base",
            "_model_module_version": "1.2.0",
            "_model_name": "LayoutModel",
            "_view_count": null,
            "_view_module": "@jupyter-widgets/base",
            "_view_module_version": "1.2.0",
            "_view_name": "LayoutView",
            "align_content": null,
            "align_items": null,
            "align_self": null,
            "border": null,
            "bottom": null,
            "display": null,
            "flex": null,
            "flex_flow": null,
            "grid_area": null,
            "grid_auto_columns": null,
            "grid_auto_flow": null,
            "grid_auto_rows": null,
            "grid_column": null,
            "grid_gap": null,
            "grid_row": null,
            "grid_template_areas": null,
            "grid_template_columns": null,
            "grid_template_rows": null,
            "height": null,
            "justify_content": null,
            "justify_items": null,
            "left": null,
            "margin": null,
            "max_height": null,
            "max_width": null,
            "min_height": null,
            "min_width": null,
            "object_fit": null,
            "object_position": null,
            "order": null,
            "overflow": null,
            "overflow_x": null,
            "overflow_y": null,
            "padding": null,
            "right": null,
            "top": null,
            "visibility": null,
            "width": null
          }
        },
        "10c6364e605a4a06b2ed72c8bdc5d09e": {
          "model_module": "@jupyter-widgets/controls",
          "model_name": "ProgressStyleModel",
          "model_module_version": "1.5.0",
          "state": {
            "_model_module": "@jupyter-widgets/controls",
            "_model_module_version": "1.5.0",
            "_model_name": "ProgressStyleModel",
            "_view_count": null,
            "_view_module": "@jupyter-widgets/base",
            "_view_module_version": "1.2.0",
            "_view_name": "StyleView",
            "bar_color": null,
            "description_width": ""
          }
        },
        "75eeb2980b1947d7bf4fac6df3f86ba1": {
          "model_module": "@jupyter-widgets/base",
          "model_name": "LayoutModel",
          "model_module_version": "1.2.0",
          "state": {
            "_model_module": "@jupyter-widgets/base",
            "_model_module_version": "1.2.0",
            "_model_name": "LayoutModel",
            "_view_count": null,
            "_view_module": "@jupyter-widgets/base",
            "_view_module_version": "1.2.0",
            "_view_name": "LayoutView",
            "align_content": null,
            "align_items": null,
            "align_self": null,
            "border": null,
            "bottom": null,
            "display": null,
            "flex": null,
            "flex_flow": null,
            "grid_area": null,
            "grid_auto_columns": null,
            "grid_auto_flow": null,
            "grid_auto_rows": null,
            "grid_column": null,
            "grid_gap": null,
            "grid_row": null,
            "grid_template_areas": null,
            "grid_template_columns": null,
            "grid_template_rows": null,
            "height": null,
            "justify_content": null,
            "justify_items": null,
            "left": null,
            "margin": null,
            "max_height": null,
            "max_width": null,
            "min_height": null,
            "min_width": null,
            "object_fit": null,
            "object_position": null,
            "order": null,
            "overflow": null,
            "overflow_x": null,
            "overflow_y": null,
            "padding": null,
            "right": null,
            "top": null,
            "visibility": null,
            "width": null
          }
        },
        "92cf3f9515f34162a6bbca565d1c316d": {
          "model_module": "@jupyter-widgets/controls",
          "model_name": "DescriptionStyleModel",
          "model_module_version": "1.5.0",
          "state": {
            "_model_module": "@jupyter-widgets/controls",
            "_model_module_version": "1.5.0",
            "_model_name": "DescriptionStyleModel",
            "_view_count": null,
            "_view_module": "@jupyter-widgets/base",
            "_view_module_version": "1.2.0",
            "_view_name": "StyleView",
            "description_width": ""
          }
        },
        "90fe6d80a8754e9f8cddb2ee42717466": {
          "model_module": "@jupyter-widgets/controls",
          "model_name": "HBoxModel",
          "model_module_version": "1.5.0",
          "state": {
            "_dom_classes": [],
            "_model_module": "@jupyter-widgets/controls",
            "_model_module_version": "1.5.0",
            "_model_name": "HBoxModel",
            "_view_count": null,
            "_view_module": "@jupyter-widgets/controls",
            "_view_module_version": "1.5.0",
            "_view_name": "HBoxView",
            "box_style": "",
            "children": [
              "IPY_MODEL_4b2aa605117d4f459e6d12588a18907b",
              "IPY_MODEL_208c610a5c6249748f6d0436e975a932",
              "IPY_MODEL_284e682a71264bac87f4b7ac0579ff67"
            ],
            "layout": "IPY_MODEL_176c70f8120f4f8da7b4885507c8af35"
          }
        },
        "4b2aa605117d4f459e6d12588a18907b": {
          "model_module": "@jupyter-widgets/controls",
          "model_name": "HTMLModel",
          "model_module_version": "1.5.0",
          "state": {
            "_dom_classes": [],
            "_model_module": "@jupyter-widgets/controls",
            "_model_module_version": "1.5.0",
            "_model_name": "HTMLModel",
            "_view_count": null,
            "_view_module": "@jupyter-widgets/controls",
            "_view_module_version": "1.5.0",
            "_view_name": "HTMLView",
            "description": "",
            "description_tooltip": null,
            "layout": "IPY_MODEL_88d4b89bf66e4d02afd1430612cd6fb1",
            "placeholder": "​",
            "style": "IPY_MODEL_4edecc4820664bdfa22301b082cc7624",
            "value": "Kernel Rows: 100%"
          }
        },
        "208c610a5c6249748f6d0436e975a932": {
          "model_module": "@jupyter-widgets/controls",
          "model_name": "FloatProgressModel",
          "model_module_version": "1.5.0",
          "state": {
            "_dom_classes": [],
            "_model_module": "@jupyter-widgets/controls",
            "_model_module_version": "1.5.0",
            "_model_name": "FloatProgressModel",
            "_view_count": null,
            "_view_module": "@jupyter-widgets/controls",
            "_view_module_version": "1.5.0",
            "_view_name": "ProgressView",
            "bar_style": "success",
            "description": "",
            "description_tooltip": null,
            "layout": "IPY_MODEL_8dfed0ccec9e49318566e17d67ca1636",
            "max": 575,
            "min": 0,
            "orientation": "horizontal",
            "style": "IPY_MODEL_c29486dcfc6b435fa8a5ae3ff11353ec",
            "value": 575
          }
        },
        "284e682a71264bac87f4b7ac0579ff67": {
          "model_module": "@jupyter-widgets/controls",
          "model_name": "HTMLModel",
          "model_module_version": "1.5.0",
          "state": {
            "_dom_classes": [],
            "_model_module": "@jupyter-widgets/controls",
            "_model_module_version": "1.5.0",
            "_model_name": "HTMLModel",
            "_view_count": null,
            "_view_module": "@jupyter-widgets/controls",
            "_view_module_version": "1.5.0",
            "_view_name": "HTMLView",
            "description": "",
            "description_tooltip": null,
            "layout": "IPY_MODEL_916400075a9c44339a35bab634a9d1b2",
            "placeholder": "​",
            "style": "IPY_MODEL_ebc3e99c8252469d960e87c819f0733b",
            "value": " 575/575 [02:25&lt;00:00,  3.98it/s]"
          }
        },
        "176c70f8120f4f8da7b4885507c8af35": {
          "model_module": "@jupyter-widgets/base",
          "model_name": "LayoutModel",
          "model_module_version": "1.2.0",
          "state": {
            "_model_module": "@jupyter-widgets/base",
            "_model_module_version": "1.2.0",
            "_model_name": "LayoutModel",
            "_view_count": null,
            "_view_module": "@jupyter-widgets/base",
            "_view_module_version": "1.2.0",
            "_view_name": "LayoutView",
            "align_content": null,
            "align_items": null,
            "align_self": null,
            "border": null,
            "bottom": null,
            "display": null,
            "flex": null,
            "flex_flow": null,
            "grid_area": null,
            "grid_auto_columns": null,
            "grid_auto_flow": null,
            "grid_auto_rows": null,
            "grid_column": null,
            "grid_gap": null,
            "grid_row": null,
            "grid_template_areas": null,
            "grid_template_columns": null,
            "grid_template_rows": null,
            "height": null,
            "justify_content": null,
            "justify_items": null,
            "left": null,
            "margin": null,
            "max_height": null,
            "max_width": null,
            "min_height": null,
            "min_width": null,
            "object_fit": null,
            "object_position": null,
            "order": null,
            "overflow": null,
            "overflow_x": null,
            "overflow_y": null,
            "padding": null,
            "right": null,
            "top": null,
            "visibility": null,
            "width": null
          }
        },
        "88d4b89bf66e4d02afd1430612cd6fb1": {
          "model_module": "@jupyter-widgets/base",
          "model_name": "LayoutModel",
          "model_module_version": "1.2.0",
          "state": {
            "_model_module": "@jupyter-widgets/base",
            "_model_module_version": "1.2.0",
            "_model_name": "LayoutModel",
            "_view_count": null,
            "_view_module": "@jupyter-widgets/base",
            "_view_module_version": "1.2.0",
            "_view_name": "LayoutView",
            "align_content": null,
            "align_items": null,
            "align_self": null,
            "border": null,
            "bottom": null,
            "display": null,
            "flex": null,
            "flex_flow": null,
            "grid_area": null,
            "grid_auto_columns": null,
            "grid_auto_flow": null,
            "grid_auto_rows": null,
            "grid_column": null,
            "grid_gap": null,
            "grid_row": null,
            "grid_template_areas": null,
            "grid_template_columns": null,
            "grid_template_rows": null,
            "height": null,
            "justify_content": null,
            "justify_items": null,
            "left": null,
            "margin": null,
            "max_height": null,
            "max_width": null,
            "min_height": null,
            "min_width": null,
            "object_fit": null,
            "object_position": null,
            "order": null,
            "overflow": null,
            "overflow_x": null,
            "overflow_y": null,
            "padding": null,
            "right": null,
            "top": null,
            "visibility": null,
            "width": null
          }
        },
        "4edecc4820664bdfa22301b082cc7624": {
          "model_module": "@jupyter-widgets/controls",
          "model_name": "DescriptionStyleModel",
          "model_module_version": "1.5.0",
          "state": {
            "_model_module": "@jupyter-widgets/controls",
            "_model_module_version": "1.5.0",
            "_model_name": "DescriptionStyleModel",
            "_view_count": null,
            "_view_module": "@jupyter-widgets/base",
            "_view_module_version": "1.2.0",
            "_view_name": "StyleView",
            "description_width": ""
          }
        },
        "8dfed0ccec9e49318566e17d67ca1636": {
          "model_module": "@jupyter-widgets/base",
          "model_name": "LayoutModel",
          "model_module_version": "1.2.0",
          "state": {
            "_model_module": "@jupyter-widgets/base",
            "_model_module_version": "1.2.0",
            "_model_name": "LayoutModel",
            "_view_count": null,
            "_view_module": "@jupyter-widgets/base",
            "_view_module_version": "1.2.0",
            "_view_name": "LayoutView",
            "align_content": null,
            "align_items": null,
            "align_self": null,
            "border": null,
            "bottom": null,
            "display": null,
            "flex": null,
            "flex_flow": null,
            "grid_area": null,
            "grid_auto_columns": null,
            "grid_auto_flow": null,
            "grid_auto_rows": null,
            "grid_column": null,
            "grid_gap": null,
            "grid_row": null,
            "grid_template_areas": null,
            "grid_template_columns": null,
            "grid_template_rows": null,
            "height": null,
            "justify_content": null,
            "justify_items": null,
            "left": null,
            "margin": null,
            "max_height": null,
            "max_width": null,
            "min_height": null,
            "min_width": null,
            "object_fit": null,
            "object_position": null,
            "order": null,
            "overflow": null,
            "overflow_x": null,
            "overflow_y": null,
            "padding": null,
            "right": null,
            "top": null,
            "visibility": null,
            "width": null
          }
        },
        "c29486dcfc6b435fa8a5ae3ff11353ec": {
          "model_module": "@jupyter-widgets/controls",
          "model_name": "ProgressStyleModel",
          "model_module_version": "1.5.0",
          "state": {
            "_model_module": "@jupyter-widgets/controls",
            "_model_module_version": "1.5.0",
            "_model_name": "ProgressStyleModel",
            "_view_count": null,
            "_view_module": "@jupyter-widgets/base",
            "_view_module_version": "1.2.0",
            "_view_name": "StyleView",
            "bar_color": null,
            "description_width": ""
          }
        },
        "916400075a9c44339a35bab634a9d1b2": {
          "model_module": "@jupyter-widgets/base",
          "model_name": "LayoutModel",
          "model_module_version": "1.2.0",
          "state": {
            "_model_module": "@jupyter-widgets/base",
            "_model_module_version": "1.2.0",
            "_model_name": "LayoutModel",
            "_view_count": null,
            "_view_module": "@jupyter-widgets/base",
            "_view_module_version": "1.2.0",
            "_view_name": "LayoutView",
            "align_content": null,
            "align_items": null,
            "align_self": null,
            "border": null,
            "bottom": null,
            "display": null,
            "flex": null,
            "flex_flow": null,
            "grid_area": null,
            "grid_auto_columns": null,
            "grid_auto_flow": null,
            "grid_auto_rows": null,
            "grid_column": null,
            "grid_gap": null,
            "grid_row": null,
            "grid_template_areas": null,
            "grid_template_columns": null,
            "grid_template_rows": null,
            "height": null,
            "justify_content": null,
            "justify_items": null,
            "left": null,
            "margin": null,
            "max_height": null,
            "max_width": null,
            "min_height": null,
            "min_width": null,
            "object_fit": null,
            "object_position": null,
            "order": null,
            "overflow": null,
            "overflow_x": null,
            "overflow_y": null,
            "padding": null,
            "right": null,
            "top": null,
            "visibility": null,
            "width": null
          }
        },
        "ebc3e99c8252469d960e87c819f0733b": {
          "model_module": "@jupyter-widgets/controls",
          "model_name": "DescriptionStyleModel",
          "model_module_version": "1.5.0",
          "state": {
            "_model_module": "@jupyter-widgets/controls",
            "_model_module_version": "1.5.0",
            "_model_name": "DescriptionStyleModel",
            "_view_count": null,
            "_view_module": "@jupyter-widgets/base",
            "_view_module_version": "1.2.0",
            "_view_name": "StyleView",
            "description_width": ""
          }
        },
        "006ec948de6e40c4acfdba698cb99724": {
          "model_module": "@jupyter-widgets/controls",
          "model_name": "HBoxModel",
          "model_module_version": "1.5.0",
          "state": {
            "_dom_classes": [],
            "_model_module": "@jupyter-widgets/controls",
            "_model_module_version": "1.5.0",
            "_model_name": "HBoxModel",
            "_view_count": null,
            "_view_module": "@jupyter-widgets/controls",
            "_view_module_version": "1.5.0",
            "_view_name": "HBoxView",
            "box_style": "",
            "children": [
              "IPY_MODEL_46e5131ef85e4d1fa93bfa82fceb72c1",
              "IPY_MODEL_e365a66a032d45dcb028c6f4e4c97999",
              "IPY_MODEL_2851b0007c284e84bc285be9859e47fc"
            ],
            "layout": "IPY_MODEL_e85e5c154a5f4381a5f7af7e9a0f0257"
          }
        },
        "46e5131ef85e4d1fa93bfa82fceb72c1": {
          "model_module": "@jupyter-widgets/controls",
          "model_name": "HTMLModel",
          "model_module_version": "1.5.0",
          "state": {
            "_dom_classes": [],
            "_model_module": "@jupyter-widgets/controls",
            "_model_module_version": "1.5.0",
            "_model_name": "HTMLModel",
            "_view_count": null,
            "_view_module": "@jupyter-widgets/controls",
            "_view_module_version": "1.5.0",
            "_view_name": "HTMLView",
            "description": "",
            "description_tooltip": null,
            "layout": "IPY_MODEL_4e92c259b6e94a47bd94f9a7b3aea85b",
            "placeholder": "​",
            "style": "IPY_MODEL_9cf7fbf58a9246b88a290e69942a2d7f",
            "value": "VQC Training: 100%"
          }
        },
        "e365a66a032d45dcb028c6f4e4c97999": {
          "model_module": "@jupyter-widgets/controls",
          "model_name": "FloatProgressModel",
          "model_module_version": "1.5.0",
          "state": {
            "_dom_classes": [],
            "_model_module": "@jupyter-widgets/controls",
            "_model_module_version": "1.5.0",
            "_model_name": "FloatProgressModel",
            "_view_count": null,
            "_view_module": "@jupyter-widgets/controls",
            "_view_module_version": "1.5.0",
            "_view_name": "ProgressView",
            "bar_style": "success",
            "description": "",
            "description_tooltip": null,
            "layout": "IPY_MODEL_5492f47b39e24b7a916b0a45a82809d5",
            "max": 150,
            "min": 0,
            "orientation": "horizontal",
            "style": "IPY_MODEL_b9bc196b84a6423c9680298601935793",
            "value": 150
          }
        },
        "2851b0007c284e84bc285be9859e47fc": {
          "model_module": "@jupyter-widgets/controls",
          "model_name": "HTMLModel",
          "model_module_version": "1.5.0",
          "state": {
            "_dom_classes": [],
            "_model_module": "@jupyter-widgets/controls",
            "_model_module_version": "1.5.0",
            "_model_name": "HTMLModel",
            "_view_count": null,
            "_view_module": "@jupyter-widgets/controls",
            "_view_module_version": "1.5.0",
            "_view_name": "HTMLView",
            "description": "",
            "description_tooltip": null,
            "layout": "IPY_MODEL_694c16e1b44b4cc0b06bd5dc410b860f",
            "placeholder": "​",
            "style": "IPY_MODEL_9a7c60aa321143bc94a33846ced89160",
            "value": " 150/150 [00:34&lt;00:00,  3.75it/s]"
          }
        },
        "e85e5c154a5f4381a5f7af7e9a0f0257": {
          "model_module": "@jupyter-widgets/base",
          "model_name": "LayoutModel",
          "model_module_version": "1.2.0",
          "state": {
            "_model_module": "@jupyter-widgets/base",
            "_model_module_version": "1.2.0",
            "_model_name": "LayoutModel",
            "_view_count": null,
            "_view_module": "@jupyter-widgets/base",
            "_view_module_version": "1.2.0",
            "_view_name": "LayoutView",
            "align_content": null,
            "align_items": null,
            "align_self": null,
            "border": null,
            "bottom": null,
            "display": null,
            "flex": null,
            "flex_flow": null,
            "grid_area": null,
            "grid_auto_columns": null,
            "grid_auto_flow": null,
            "grid_auto_rows": null,
            "grid_column": null,
            "grid_gap": null,
            "grid_row": null,
            "grid_template_areas": null,
            "grid_template_columns": null,
            "grid_template_rows": null,
            "height": null,
            "justify_content": null,
            "justify_items": null,
            "left": null,
            "margin": null,
            "max_height": null,
            "max_width": null,
            "min_height": null,
            "min_width": null,
            "object_fit": null,
            "object_position": null,
            "order": null,
            "overflow": null,
            "overflow_x": null,
            "overflow_y": null,
            "padding": null,
            "right": null,
            "top": null,
            "visibility": null,
            "width": null
          }
        },
        "4e92c259b6e94a47bd94f9a7b3aea85b": {
          "model_module": "@jupyter-widgets/base",
          "model_name": "LayoutModel",
          "model_module_version": "1.2.0",
          "state": {
            "_model_module": "@jupyter-widgets/base",
            "_model_module_version": "1.2.0",
            "_model_name": "LayoutModel",
            "_view_count": null,
            "_view_module": "@jupyter-widgets/base",
            "_view_module_version": "1.2.0",
            "_view_name": "LayoutView",
            "align_content": null,
            "align_items": null,
            "align_self": null,
            "border": null,
            "bottom": null,
            "display": null,
            "flex": null,
            "flex_flow": null,
            "grid_area": null,
            "grid_auto_columns": null,
            "grid_auto_flow": null,
            "grid_auto_rows": null,
            "grid_column": null,
            "grid_gap": null,
            "grid_row": null,
            "grid_template_areas": null,
            "grid_template_columns": null,
            "grid_template_rows": null,
            "height": null,
            "justify_content": null,
            "justify_items": null,
            "left": null,
            "margin": null,
            "max_height": null,
            "max_width": null,
            "min_height": null,
            "min_width": null,
            "object_fit": null,
            "object_position": null,
            "order": null,
            "overflow": null,
            "overflow_x": null,
            "overflow_y": null,
            "padding": null,
            "right": null,
            "top": null,
            "visibility": null,
            "width": null
          }
        },
        "9cf7fbf58a9246b88a290e69942a2d7f": {
          "model_module": "@jupyter-widgets/controls",
          "model_name": "DescriptionStyleModel",
          "model_module_version": "1.5.0",
          "state": {
            "_model_module": "@jupyter-widgets/controls",
            "_model_module_version": "1.5.0",
            "_model_name": "DescriptionStyleModel",
            "_view_count": null,
            "_view_module": "@jupyter-widgets/base",
            "_view_module_version": "1.2.0",
            "_view_name": "StyleView",
            "description_width": ""
          }
        },
        "5492f47b39e24b7a916b0a45a82809d5": {
          "model_module": "@jupyter-widgets/base",
          "model_name": "LayoutModel",
          "model_module_version": "1.2.0",
          "state": {
            "_model_module": "@jupyter-widgets/base",
            "_model_module_version": "1.2.0",
            "_model_name": "LayoutModel",
            "_view_count": null,
            "_view_module": "@jupyter-widgets/base",
            "_view_module_version": "1.2.0",
            "_view_name": "LayoutView",
            "align_content": null,
            "align_items": null,
            "align_self": null,
            "border": null,
            "bottom": null,
            "display": null,
            "flex": null,
            "flex_flow": null,
            "grid_area": null,
            "grid_auto_columns": null,
            "grid_auto_flow": null,
            "grid_auto_rows": null,
            "grid_column": null,
            "grid_gap": null,
            "grid_row": null,
            "grid_template_areas": null,
            "grid_template_columns": null,
            "grid_template_rows": null,
            "height": null,
            "justify_content": null,
            "justify_items": null,
            "left": null,
            "margin": null,
            "max_height": null,
            "max_width": null,
            "min_height": null,
            "min_width": null,
            "object_fit": null,
            "object_position": null,
            "order": null,
            "overflow": null,
            "overflow_x": null,
            "overflow_y": null,
            "padding": null,
            "right": null,
            "top": null,
            "visibility": null,
            "width": null
          }
        },
        "b9bc196b84a6423c9680298601935793": {
          "model_module": "@jupyter-widgets/controls",
          "model_name": "ProgressStyleModel",
          "model_module_version": "1.5.0",
          "state": {
            "_model_module": "@jupyter-widgets/controls",
            "_model_module_version": "1.5.0",
            "_model_name": "ProgressStyleModel",
            "_view_count": null,
            "_view_module": "@jupyter-widgets/base",
            "_view_module_version": "1.2.0",
            "_view_name": "StyleView",
            "bar_color": null,
            "description_width": ""
          }
        },
        "694c16e1b44b4cc0b06bd5dc410b860f": {
          "model_module": "@jupyter-widgets/base",
          "model_name": "LayoutModel",
          "model_module_version": "1.2.0",
          "state": {
            "_model_module": "@jupyter-widgets/base",
            "_model_module_version": "1.2.0",
            "_model_name": "LayoutModel",
            "_view_count": null,
            "_view_module": "@jupyter-widgets/base",
            "_view_module_version": "1.2.0",
            "_view_name": "LayoutView",
            "align_content": null,
            "align_items": null,
            "align_self": null,
            "border": null,
            "bottom": null,
            "display": null,
            "flex": null,
            "flex_flow": null,
            "grid_area": null,
            "grid_auto_columns": null,
            "grid_auto_flow": null,
            "grid_auto_rows": null,
            "grid_column": null,
            "grid_gap": null,
            "grid_row": null,
            "grid_template_areas": null,
            "grid_template_columns": null,
            "grid_template_rows": null,
            "height": null,
            "justify_content": null,
            "justify_items": null,
            "left": null,
            "margin": null,
            "max_height": null,
            "max_width": null,
            "min_height": null,
            "min_width": null,
            "object_fit": null,
            "object_position": null,
            "order": null,
            "overflow": null,
            "overflow_x": null,
            "overflow_y": null,
            "padding": null,
            "right": null,
            "top": null,
            "visibility": null,
            "width": null
          }
        },
        "9a7c60aa321143bc94a33846ced89160": {
          "model_module": "@jupyter-widgets/controls",
          "model_name": "DescriptionStyleModel",
          "model_module_version": "1.5.0",
          "state": {
            "_model_module": "@jupyter-widgets/controls",
            "_model_module_version": "1.5.0",
            "_model_name": "DescriptionStyleModel",
            "_view_count": null,
            "_view_module": "@jupyter-widgets/base",
            "_view_module_version": "1.2.0",
            "_view_name": "StyleView",
            "description_width": ""
          }
        },
        "eead3b2855b845a491fa5403020b9057": {
          "model_module": "@jupyter-widgets/controls",
          "model_name": "HBoxModel",
          "model_module_version": "1.5.0",
          "state": {
            "_dom_classes": [],
            "_model_module": "@jupyter-widgets/controls",
            "_model_module_version": "1.5.0",
            "_model_name": "HBoxModel",
            "_view_count": null,
            "_view_module": "@jupyter-widgets/controls",
            "_view_module_version": "1.5.0",
            "_view_name": "HBoxView",
            "box_style": "",
            "children": [
              "IPY_MODEL_da5b94fe9323471c880c8aeb2af558a8",
              "IPY_MODEL_15f36b7f8f9044598bf642832f3d424e",
              "IPY_MODEL_2ff74d985ed541e6aaaeb389e9ae5494"
            ],
            "layout": "IPY_MODEL_34cefae9e7ec4e199dfdf3b8fd1ea5d8"
          }
        },
        "da5b94fe9323471c880c8aeb2af558a8": {
          "model_module": "@jupyter-widgets/controls",
          "model_name": "HTMLModel",
          "model_module_version": "1.5.0",
          "state": {
            "_dom_classes": [],
            "_model_module": "@jupyter-widgets/controls",
            "_model_module_version": "1.5.0",
            "_model_name": "HTMLModel",
            "_view_count": null,
            "_view_module": "@jupyter-widgets/controls",
            "_view_module_version": "1.5.0",
            "_view_name": "HTMLView",
            "description": "",
            "description_tooltip": null,
            "layout": "IPY_MODEL_5ae3ce3013154954b588c7616f21224f",
            "placeholder": "​",
            "style": "IPY_MODEL_9eebbc7081cb4cfa9fc4ef767c729835",
            "value": "VQC Predictions: 100%"
          }
        },
        "15f36b7f8f9044598bf642832f3d424e": {
          "model_module": "@jupyter-widgets/controls",
          "model_name": "FloatProgressModel",
          "model_module_version": "1.5.0",
          "state": {
            "_dom_classes": [],
            "_model_module": "@jupyter-widgets/controls",
            "_model_module_version": "1.5.0",
            "_model_name": "FloatProgressModel",
            "_view_count": null,
            "_view_module": "@jupyter-widgets/controls",
            "_view_module_version": "1.5.0",
            "_view_name": "ProgressView",
            "bar_style": "success",
            "description": "",
            "description_tooltip": null,
            "layout": "IPY_MODEL_5bf4d48d66404a3782f095fcb4ad5480",
            "max": 100,
            "min": 0,
            "orientation": "horizontal",
            "style": "IPY_MODEL_1f2bb0c5d1924135b351738eaf6f5ef5",
            "value": 100
          }
        },
        "2ff74d985ed541e6aaaeb389e9ae5494": {
          "model_module": "@jupyter-widgets/controls",
          "model_name": "HTMLModel",
          "model_module_version": "1.5.0",
          "state": {
            "_dom_classes": [],
            "_model_module": "@jupyter-widgets/controls",
            "_model_module_version": "1.5.0",
            "_model_name": "HTMLModel",
            "_view_count": null,
            "_view_module": "@jupyter-widgets/controls",
            "_view_module_version": "1.5.0",
            "_view_name": "HTMLView",
            "description": "",
            "description_tooltip": null,
            "layout": "IPY_MODEL_9fbcda889dff43e691229c6b00cc0e53",
            "placeholder": "​",
            "style": "IPY_MODEL_c6e30b606ba146af966b9e11efcc324a",
            "value": " 100/100 [00:08&lt;00:00, 15.55it/s]"
          }
        },
        "34cefae9e7ec4e199dfdf3b8fd1ea5d8": {
          "model_module": "@jupyter-widgets/base",
          "model_name": "LayoutModel",
          "model_module_version": "1.2.0",
          "state": {
            "_model_module": "@jupyter-widgets/base",
            "_model_module_version": "1.2.0",
            "_model_name": "LayoutModel",
            "_view_count": null,
            "_view_module": "@jupyter-widgets/base",
            "_view_module_version": "1.2.0",
            "_view_name": "LayoutView",
            "align_content": null,
            "align_items": null,
            "align_self": null,
            "border": null,
            "bottom": null,
            "display": null,
            "flex": null,
            "flex_flow": null,
            "grid_area": null,
            "grid_auto_columns": null,
            "grid_auto_flow": null,
            "grid_auto_rows": null,
            "grid_column": null,
            "grid_gap": null,
            "grid_row": null,
            "grid_template_areas": null,
            "grid_template_columns": null,
            "grid_template_rows": null,
            "height": null,
            "justify_content": null,
            "justify_items": null,
            "left": null,
            "margin": null,
            "max_height": null,
            "max_width": null,
            "min_height": null,
            "min_width": null,
            "object_fit": null,
            "object_position": null,
            "order": null,
            "overflow": null,
            "overflow_x": null,
            "overflow_y": null,
            "padding": null,
            "right": null,
            "top": null,
            "visibility": null,
            "width": null
          }
        },
        "5ae3ce3013154954b588c7616f21224f": {
          "model_module": "@jupyter-widgets/base",
          "model_name": "LayoutModel",
          "model_module_version": "1.2.0",
          "state": {
            "_model_module": "@jupyter-widgets/base",
            "_model_module_version": "1.2.0",
            "_model_name": "LayoutModel",
            "_view_count": null,
            "_view_module": "@jupyter-widgets/base",
            "_view_module_version": "1.2.0",
            "_view_name": "LayoutView",
            "align_content": null,
            "align_items": null,
            "align_self": null,
            "border": null,
            "bottom": null,
            "display": null,
            "flex": null,
            "flex_flow": null,
            "grid_area": null,
            "grid_auto_columns": null,
            "grid_auto_flow": null,
            "grid_auto_rows": null,
            "grid_column": null,
            "grid_gap": null,
            "grid_row": null,
            "grid_template_areas": null,
            "grid_template_columns": null,
            "grid_template_rows": null,
            "height": null,
            "justify_content": null,
            "justify_items": null,
            "left": null,
            "margin": null,
            "max_height": null,
            "max_width": null,
            "min_height": null,
            "min_width": null,
            "object_fit": null,
            "object_position": null,
            "order": null,
            "overflow": null,
            "overflow_x": null,
            "overflow_y": null,
            "padding": null,
            "right": null,
            "top": null,
            "visibility": null,
            "width": null
          }
        },
        "9eebbc7081cb4cfa9fc4ef767c729835": {
          "model_module": "@jupyter-widgets/controls",
          "model_name": "DescriptionStyleModel",
          "model_module_version": "1.5.0",
          "state": {
            "_model_module": "@jupyter-widgets/controls",
            "_model_module_version": "1.5.0",
            "_model_name": "DescriptionStyleModel",
            "_view_count": null,
            "_view_module": "@jupyter-widgets/base",
            "_view_module_version": "1.2.0",
            "_view_name": "StyleView",
            "description_width": ""
          }
        },
        "5bf4d48d66404a3782f095fcb4ad5480": {
          "model_module": "@jupyter-widgets/base",
          "model_name": "LayoutModel",
          "model_module_version": "1.2.0",
          "state": {
            "_model_module": "@jupyter-widgets/base",
            "_model_module_version": "1.2.0",
            "_model_name": "LayoutModel",
            "_view_count": null,
            "_view_module": "@jupyter-widgets/base",
            "_view_module_version": "1.2.0",
            "_view_name": "LayoutView",
            "align_content": null,
            "align_items": null,
            "align_self": null,
            "border": null,
            "bottom": null,
            "display": null,
            "flex": null,
            "flex_flow": null,
            "grid_area": null,
            "grid_auto_columns": null,
            "grid_auto_flow": null,
            "grid_auto_rows": null,
            "grid_column": null,
            "grid_gap": null,
            "grid_row": null,
            "grid_template_areas": null,
            "grid_template_columns": null,
            "grid_template_rows": null,
            "height": null,
            "justify_content": null,
            "justify_items": null,
            "left": null,
            "margin": null,
            "max_height": null,
            "max_width": null,
            "min_height": null,
            "min_width": null,
            "object_fit": null,
            "object_position": null,
            "order": null,
            "overflow": null,
            "overflow_x": null,
            "overflow_y": null,
            "padding": null,
            "right": null,
            "top": null,
            "visibility": null,
            "width": null
          }
        },
        "1f2bb0c5d1924135b351738eaf6f5ef5": {
          "model_module": "@jupyter-widgets/controls",
          "model_name": "ProgressStyleModel",
          "model_module_version": "1.5.0",
          "state": {
            "_model_module": "@jupyter-widgets/controls",
            "_model_module_version": "1.5.0",
            "_model_name": "ProgressStyleModel",
            "_view_count": null,
            "_view_module": "@jupyter-widgets/base",
            "_view_module_version": "1.2.0",
            "_view_name": "StyleView",
            "bar_color": null,
            "description_width": ""
          }
        },
        "9fbcda889dff43e691229c6b00cc0e53": {
          "model_module": "@jupyter-widgets/base",
          "model_name": "LayoutModel",
          "model_module_version": "1.2.0",
          "state": {
            "_model_module": "@jupyter-widgets/base",
            "_model_module_version": "1.2.0",
            "_model_name": "LayoutModel",
            "_view_count": null,
            "_view_module": "@jupyter-widgets/base",
            "_view_module_version": "1.2.0",
            "_view_name": "LayoutView",
            "align_content": null,
            "align_items": null,
            "align_self": null,
            "border": null,
            "bottom": null,
            "display": null,
            "flex": null,
            "flex_flow": null,
            "grid_area": null,
            "grid_auto_columns": null,
            "grid_auto_flow": null,
            "grid_auto_rows": null,
            "grid_column": null,
            "grid_gap": null,
            "grid_row": null,
            "grid_template_areas": null,
            "grid_template_columns": null,
            "grid_template_rows": null,
            "height": null,
            "justify_content": null,
            "justify_items": null,
            "left": null,
            "margin": null,
            "max_height": null,
            "max_width": null,
            "min_height": null,
            "min_width": null,
            "object_fit": null,
            "object_position": null,
            "order": null,
            "overflow": null,
            "overflow_x": null,
            "overflow_y": null,
            "padding": null,
            "right": null,
            "top": null,
            "visibility": null,
            "width": null
          }
        },
        "c6e30b606ba146af966b9e11efcc324a": {
          "model_module": "@jupyter-widgets/controls",
          "model_name": "DescriptionStyleModel",
          "model_module_version": "1.5.0",
          "state": {
            "_model_module": "@jupyter-widgets/controls",
            "_model_module_version": "1.5.0",
            "_model_name": "DescriptionStyleModel",
            "_view_count": null,
            "_view_module": "@jupyter-widgets/base",
            "_view_module_version": "1.2.0",
            "_view_name": "StyleView",
            "description_width": ""
          }
        },
        "4092597fcf14489aa86bb4da4c75d1a1": {
          "model_module": "@jupyter-widgets/controls",
          "model_name": "HBoxModel",
          "model_module_version": "1.5.0",
          "state": {
            "_dom_classes": [],
            "_model_module": "@jupyter-widgets/controls",
            "_model_module_version": "1.5.0",
            "_model_name": "HBoxModel",
            "_view_count": null,
            "_view_module": "@jupyter-widgets/controls",
            "_view_module_version": "1.5.0",
            "_view_name": "HBoxView",
            "box_style": "",
            "children": [
              "IPY_MODEL_55e768da95184c61a9a72489b3dcd526",
              "IPY_MODEL_b9077a8309754a748a6db552a5e38158",
              "IPY_MODEL_1ff182c0a4c04b95a1f0a9209786a55a"
            ],
            "layout": "IPY_MODEL_3b9d53e739c14bb9a8a68cda388210cb"
          }
        },
        "55e768da95184c61a9a72489b3dcd526": {
          "model_module": "@jupyter-widgets/controls",
          "model_name": "HTMLModel",
          "model_module_version": "1.5.0",
          "state": {
            "_dom_classes": [],
            "_model_module": "@jupyter-widgets/controls",
            "_model_module_version": "1.5.0",
            "_model_name": "HTMLModel",
            "_view_count": null,
            "_view_module": "@jupyter-widgets/controls",
            "_view_module_version": "1.5.0",
            "_view_name": "HTMLView",
            "description": "",
            "description_tooltip": null,
            "layout": "IPY_MODEL_ee8de65e263e4de48648c2247938d574",
            "placeholder": "​",
            "style": "IPY_MODEL_71a01db28dbc413cb588499eac5bc985",
            "value": "VQC Grid: 100%"
          }
        },
        "b9077a8309754a748a6db552a5e38158": {
          "model_module": "@jupyter-widgets/controls",
          "model_name": "FloatProgressModel",
          "model_module_version": "1.5.0",
          "state": {
            "_dom_classes": [],
            "_model_module": "@jupyter-widgets/controls",
            "_model_module_version": "1.5.0",
            "_model_name": "FloatProgressModel",
            "_view_count": null,
            "_view_module": "@jupyter-widgets/controls",
            "_view_module_version": "1.5.0",
            "_view_name": "ProgressView",
            "bar_style": "success",
            "description": "",
            "description_tooltip": null,
            "layout": "IPY_MODEL_4b03d64dbb9c4225bb213d468e845a5f",
            "max": 575,
            "min": 0,
            "orientation": "horizontal",
            "style": "IPY_MODEL_cbfb901af3534973954d3e7b55940cab",
            "value": 575
          }
        },
        "1ff182c0a4c04b95a1f0a9209786a55a": {
          "model_module": "@jupyter-widgets/controls",
          "model_name": "HTMLModel",
          "model_module_version": "1.5.0",
          "state": {
            "_dom_classes": [],
            "_model_module": "@jupyter-widgets/controls",
            "_model_module_version": "1.5.0",
            "_model_name": "HTMLModel",
            "_view_count": null,
            "_view_module": "@jupyter-widgets/controls",
            "_view_module_version": "1.5.0",
            "_view_name": "HTMLView",
            "description": "",
            "description_tooltip": null,
            "layout": "IPY_MODEL_1d5a00f48e464ec4a0aba6954b49c44a",
            "placeholder": "​",
            "style": "IPY_MODEL_d263f788dcb94d999ebcfe0bc2356a76",
            "value": " 575/575 [00:18&lt;00:00, 13.71it/s]"
          }
        },
        "3b9d53e739c14bb9a8a68cda388210cb": {
          "model_module": "@jupyter-widgets/base",
          "model_name": "LayoutModel",
          "model_module_version": "1.2.0",
          "state": {
            "_model_module": "@jupyter-widgets/base",
            "_model_module_version": "1.2.0",
            "_model_name": "LayoutModel",
            "_view_count": null,
            "_view_module": "@jupyter-widgets/base",
            "_view_module_version": "1.2.0",
            "_view_name": "LayoutView",
            "align_content": null,
            "align_items": null,
            "align_self": null,
            "border": null,
            "bottom": null,
            "display": null,
            "flex": null,
            "flex_flow": null,
            "grid_area": null,
            "grid_auto_columns": null,
            "grid_auto_flow": null,
            "grid_auto_rows": null,
            "grid_column": null,
            "grid_gap": null,
            "grid_row": null,
            "grid_template_areas": null,
            "grid_template_columns": null,
            "grid_template_rows": null,
            "height": null,
            "justify_content": null,
            "justify_items": null,
            "left": null,
            "margin": null,
            "max_height": null,
            "max_width": null,
            "min_height": null,
            "min_width": null,
            "object_fit": null,
            "object_position": null,
            "order": null,
            "overflow": null,
            "overflow_x": null,
            "overflow_y": null,
            "padding": null,
            "right": null,
            "top": null,
            "visibility": null,
            "width": null
          }
        },
        "ee8de65e263e4de48648c2247938d574": {
          "model_module": "@jupyter-widgets/base",
          "model_name": "LayoutModel",
          "model_module_version": "1.2.0",
          "state": {
            "_model_module": "@jupyter-widgets/base",
            "_model_module_version": "1.2.0",
            "_model_name": "LayoutModel",
            "_view_count": null,
            "_view_module": "@jupyter-widgets/base",
            "_view_module_version": "1.2.0",
            "_view_name": "LayoutView",
            "align_content": null,
            "align_items": null,
            "align_self": null,
            "border": null,
            "bottom": null,
            "display": null,
            "flex": null,
            "flex_flow": null,
            "grid_area": null,
            "grid_auto_columns": null,
            "grid_auto_flow": null,
            "grid_auto_rows": null,
            "grid_column": null,
            "grid_gap": null,
            "grid_row": null,
            "grid_template_areas": null,
            "grid_template_columns": null,
            "grid_template_rows": null,
            "height": null,
            "justify_content": null,
            "justify_items": null,
            "left": null,
            "margin": null,
            "max_height": null,
            "max_width": null,
            "min_height": null,
            "min_width": null,
            "object_fit": null,
            "object_position": null,
            "order": null,
            "overflow": null,
            "overflow_x": null,
            "overflow_y": null,
            "padding": null,
            "right": null,
            "top": null,
            "visibility": null,
            "width": null
          }
        },
        "71a01db28dbc413cb588499eac5bc985": {
          "model_module": "@jupyter-widgets/controls",
          "model_name": "DescriptionStyleModel",
          "model_module_version": "1.5.0",
          "state": {
            "_model_module": "@jupyter-widgets/controls",
            "_model_module_version": "1.5.0",
            "_model_name": "DescriptionStyleModel",
            "_view_count": null,
            "_view_module": "@jupyter-widgets/base",
            "_view_module_version": "1.2.0",
            "_view_name": "StyleView",
            "description_width": ""
          }
        },
        "4b03d64dbb9c4225bb213d468e845a5f": {
          "model_module": "@jupyter-widgets/base",
          "model_name": "LayoutModel",
          "model_module_version": "1.2.0",
          "state": {
            "_model_module": "@jupyter-widgets/base",
            "_model_module_version": "1.2.0",
            "_model_name": "LayoutModel",
            "_view_count": null,
            "_view_module": "@jupyter-widgets/base",
            "_view_module_version": "1.2.0",
            "_view_name": "LayoutView",
            "align_content": null,
            "align_items": null,
            "align_self": null,
            "border": null,
            "bottom": null,
            "display": null,
            "flex": null,
            "flex_flow": null,
            "grid_area": null,
            "grid_auto_columns": null,
            "grid_auto_flow": null,
            "grid_auto_rows": null,
            "grid_column": null,
            "grid_gap": null,
            "grid_row": null,
            "grid_template_areas": null,
            "grid_template_columns": null,
            "grid_template_rows": null,
            "height": null,
            "justify_content": null,
            "justify_items": null,
            "left": null,
            "margin": null,
            "max_height": null,
            "max_width": null,
            "min_height": null,
            "min_width": null,
            "object_fit": null,
            "object_position": null,
            "order": null,
            "overflow": null,
            "overflow_x": null,
            "overflow_y": null,
            "padding": null,
            "right": null,
            "top": null,
            "visibility": null,
            "width": null
          }
        },
        "cbfb901af3534973954d3e7b55940cab": {
          "model_module": "@jupyter-widgets/controls",
          "model_name": "ProgressStyleModel",
          "model_module_version": "1.5.0",
          "state": {
            "_model_module": "@jupyter-widgets/controls",
            "_model_module_version": "1.5.0",
            "_model_name": "ProgressStyleModel",
            "_view_count": null,
            "_view_module": "@jupyter-widgets/base",
            "_view_module_version": "1.2.0",
            "_view_name": "StyleView",
            "bar_color": null,
            "description_width": ""
          }
        },
        "1d5a00f48e464ec4a0aba6954b49c44a": {
          "model_module": "@jupyter-widgets/base",
          "model_name": "LayoutModel",
          "model_module_version": "1.2.0",
          "state": {
            "_model_module": "@jupyter-widgets/base",
            "_model_module_version": "1.2.0",
            "_model_name": "LayoutModel",
            "_view_count": null,
            "_view_module": "@jupyter-widgets/base",
            "_view_module_version": "1.2.0",
            "_view_name": "LayoutView",
            "align_content": null,
            "align_items": null,
            "align_self": null,
            "border": null,
            "bottom": null,
            "display": null,
            "flex": null,
            "flex_flow": null,
            "grid_area": null,
            "grid_auto_columns": null,
            "grid_auto_flow": null,
            "grid_auto_rows": null,
            "grid_column": null,
            "grid_gap": null,
            "grid_row": null,
            "grid_template_areas": null,
            "grid_template_columns": null,
            "grid_template_rows": null,
            "height": null,
            "justify_content": null,
            "justify_items": null,
            "left": null,
            "margin": null,
            "max_height": null,
            "max_width": null,
            "min_height": null,
            "min_width": null,
            "object_fit": null,
            "object_position": null,
            "order": null,
            "overflow": null,
            "overflow_x": null,
            "overflow_y": null,
            "padding": null,
            "right": null,
            "top": null,
            "visibility": null,
            "width": null
          }
        },
        "d263f788dcb94d999ebcfe0bc2356a76": {
          "model_module": "@jupyter-widgets/controls",
          "model_name": "DescriptionStyleModel",
          "model_module_version": "1.5.0",
          "state": {
            "_model_module": "@jupyter-widgets/controls",
            "_model_module_version": "1.5.0",
            "_model_name": "DescriptionStyleModel",
            "_view_count": null,
            "_view_module": "@jupyter-widgets/base",
            "_view_module_version": "1.2.0",
            "_view_name": "StyleView",
            "description_width": ""
          }
        }
      }
    }
  },
  "nbformat": 4,
  "nbformat_minor": 0
}