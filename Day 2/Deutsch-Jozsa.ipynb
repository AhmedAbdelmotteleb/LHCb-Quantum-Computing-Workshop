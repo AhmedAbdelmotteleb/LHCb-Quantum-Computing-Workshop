{
 "cells": [
  {
   "cell_type": "markdown",
   "id": "63aff79c",
   "metadata": {},
   "source": [
    "# Deutsch–Jozsa Algorithm Exercise (naive with prior knowledge of function/solutions)\n",
    "\n",
    "## Context & Motivation\n",
    "\n",
    "The Deutsch–Jozsa algorithm is a foundational example in quantum computing that demonstrates how quantum algorithms can solve specific problems exponentially faster than classical algorithms.\n",
    "\n",
    "Classically, to determine whether a function $f: \\{0,1\\}^n \\rightarrow \\{0,1\\}$ is constant or balanced, you might need to query it up to $2^{n-1} + 1$ times in the worst case. Quantumly, the Deutsch–Jozsa algorithm can solve it with **just one query**.\n",
    "\n",
    "This exercise walks you through a simple 2-qubit case to illustrate the mechanics and power of the algorithm.\n",
    "\n",
    "## Problem Statement\n",
    "\n",
    "You have a black-box quantum function $f(x)$ that takes a 2-bit input and returns either 0 or 1.\n",
    "\n",
    "The function is guaranteed to be either:\n",
    "\n",
    "- **Constant**: same output for all inputs, or  \n",
    "- **Balanced**: outputs 0 for half the inputs and 1 for the other half.\n",
    "\n",
    "Your goal: determine if $f$ is constant or balanced with a single quantum query using the Deutsch–Jozsa algorithm.\n",
    "\n",
    "---\n",
    "\n",
    "## Provided tools\n",
    "\n",
    "- Circuit with 2 input qubits + 1 helper qubit.  \n",
    "- Helper initialized to $|1\\rangle$, Hadamards applied.  \n",
    "- Oracle for $f(x) = x_0 \\oplus x_1$ (balanced) given.\n",
    "\n",
    "---\n",
    "\n",
    "## Your Tasks\n",
    "\n",
    "Complete the following steps:\n",
    "\n",
    "1. Apply Hadamard gates to input qubits.  \n",
    "2. Measure input qubits.  \n",
    "3. Simulate and plot histogram.  \n",
    "\n",
    "Interpret the result.\n",
    "\n",
    "## Tip\n",
    "\n",
    "If the result is `00`, the function is constant.  \n",
    "If the result is **anything else**, it's balanced."
   ]
  },
  {
   "cell_type": "code",
   "execution_count": null,
   "id": "81c8a6ba",
   "metadata": {},
   "outputs": [],
   "source": [
    "!pip install qiskit --quiet\n",
    "!pip install qiskit[visualization] --quiet\n",
    "!pip install qiskit_aer --quiet"
   ]
  },
  {
   "cell_type": "code",
   "execution_count": null,
   "id": "6bda1ccc",
   "metadata": {},
   "outputs": [
    {
     "data": {
      "text/plain": [
       "<qiskit.circuit.instructionset.InstructionSet at 0x1a9a3c4fee0>"
      ]
     },
     "execution_count": 3,
     "metadata": {},
     "output_type": "execute_result"
    }
   ],
   "source": [
    "from qiskit import QuantumCircuit\n",
    "from qiskit_aer import Aer\n",
    "from qiskit.visualization import plot_histogram\n",
    "\n",
    "# Simulator\n",
    "backend = Aer.get_backend('aer_simulator')\n",
    "n = 2  # number of input qubits\n",
    "\n",
    "# --- Balanced Oracle (f(x) = x0 XOR x1) ---\n",
    "qc_balanced = QuantumCircuit(n + 1, n)  # one extra (helper) qubit for the oracle output\n",
    "\n",
    "# Step 1: Initialize the output qubit to |1⟩ and apply Hadamards\n",
    "qc_balanced.x(n)\n",
    "qc_balanced.h(range(n + 1)) # [0, 1, 2]\n",
    "\n",
    "# Step 2: Oracle (balanced function: f(x) = x0 ⊕ x1)\n",
    "# This flips the output qubit if x0 XOR x1 == 1\n",
    "qc_balanced.cx(0, 2)\n",
    "qc_balanced.cx(1, 2)\n",
    "\n",
    "# STUDENT TASK: complete below\n",
    "# Step 3: Apply Hadamard to INPUT qubits (not the output/extra/helper qubit)\n",
    "# Step 4: Measure INPUT qubits\n",
    "# Step 5: Run simulation\n",
    "# Step 6: Plot histogram\n",
    "\n",
    "# YOUR CODE HERE\n"
   ]
  },
  {
   "cell_type": "markdown",
   "id": "7b31e8ba",
   "metadata": {},
   "source": [
    "\n",
    "## Extension\n",
    "\n",
    "Try the algorithm with a constant oracle (e.g., $f(x) = 0$) and compare results."
   ]
  },
  {
   "cell_type": "code",
   "execution_count": 4,
   "id": "1f28b6a2",
   "metadata": {},
   "outputs": [
    {
     "data": {
      "text/plain": [
       "<qiskit.circuit.instructionset.InstructionSet at 0x1a9a3c4f730>"
      ]
     },
     "execution_count": 4,
     "metadata": {},
     "output_type": "execute_result"
    }
   ],
   "source": [
    "# --- Constant Oracle (f(x) = 0) ---\n",
    "n = 2  # number of input qubits\n",
    "qc_constant = QuantumCircuit(n + 1, n)  # one extra (helper) qubit for the oracle output\n",
    "\n",
    "# Step 1: Initialize the output qubit to |1⟩ and apply Hadamards\n",
    "qc_constant.x(n)\n",
    "qc_constant.h(range(n+1))  # [0, 1, 2]\n",
    "\n",
    "# Step 2: Oracle (constant function: f(x) = 0)\n",
    "# do nothing (no gates needed)\n",
    "\n",
    "# STUDENT TASK: complete below\n",
    "# Step 3: Apply Hadamard to INPUT qubits (not the output/extra/helper qubit)\n",
    "# Step 4: Measure INPUT qubits\n",
    "# Step 5: Run simulation\n",
    "# Step 6: Plot histogram\n",
    "\n",
    "# YOUR CODE HERE\n"
   ]
  }
 ],
 "metadata": {
  "kernelspec": {
   "display_name": "Python 3",
   "language": "python",
   "name": "python3"
  },
  "language_info": {
   "codemirror_mode": {
    "name": "ipython",
    "version": 3
   },
   "file_extension": ".py",
   "mimetype": "text/x-python",
   "name": "python",
   "nbconvert_exporter": "python",
   "pygments_lexer": "ipython3",
   "version": "3.11.9"
  }
 },
 "nbformat": 4,
 "nbformat_minor": 5
}
