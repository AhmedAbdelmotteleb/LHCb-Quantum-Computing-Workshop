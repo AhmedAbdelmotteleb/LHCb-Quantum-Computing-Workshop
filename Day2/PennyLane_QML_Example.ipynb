{
  "cells": [
    {
      "cell_type": "markdown",
      "source": [
        "# **QML Exercise**: Classification with Quantum & Classical Models\n",
        "In this exercise, we will explore how Quantum Machine Learning (QML) can be used to solve a complex, two-dimensional classification problem. We will build two types of quantum classifiers and compare their performance against a standard classical model.\n",
        "\n",
        "\\\n",
        "\n",
        "A major bottleneck in QML can be the time it takes to simulate quantum circuits. To address this, we will leverage **lightning.qubit**, a high-performance CPU simulator provided by PennyLane, to dramatically speed up the computation.\n",
        "\n",
        "\\\n",
        "\n",
        "**Getting Started**: Installing Libraries\n",
        "First, we need to install the necessary Python libraries. This code block will install PennyLane for quantum programming, Scikit-learn for classical machine learning tools, Matplotlib for plotting, and tqdm for progress bars."
      ],
      "metadata": {
        "id": "IfUd7U6uLvdz"
      }
    },
    {
      "cell_type": "code",
      "source": [
        "!pip install pennylane --quiet\n",
        "!pip install scikit-learn --quiet\n",
        "!pip install matplotlib --quiet\n",
        "!pip install tqdm --quiet\n",
        "!pip install ipywidgets --quiet"
      ],
      "metadata": {
        "collapsed": true,
        "id": "sQLiZUVrTe84",
        "colab": {
          "base_uri": "https://localhost:8080/"
        },
        "outputId": "742753c5-b3b5-4757-aa8b-19e9b77decb9"
      },
      "execution_count": 1,
      "outputs": [
        {
          "output_type": "stream",
          "name": "stdout",
          "text": [
            "\u001b[2K     \u001b[90m━━━━━━━━━━━━━━━━━━━━━━━━━━━━━━━━━━━━━━━━\u001b[0m \u001b[32m57.1/57.1 kB\u001b[0m \u001b[31m3.7 MB/s\u001b[0m eta \u001b[36m0:00:00\u001b[0m\n",
            "\u001b[2K   \u001b[90m━━━━━━━━━━━━━━━━━━━━━━━━━━━━━━━━━━━━━━━━\u001b[0m \u001b[32m2.3/2.3 MB\u001b[0m \u001b[31m23.9 MB/s\u001b[0m eta \u001b[36m0:00:00\u001b[0m\n",
            "\u001b[2K   \u001b[90m━━━━━━━━━━━━━━━━━━━━━━━━━━━━━━━━━━━━━━━━\u001b[0m \u001b[32m930.8/930.8 kB\u001b[0m \u001b[31m13.1 MB/s\u001b[0m eta \u001b[36m0:00:00\u001b[0m\n",
            "\u001b[2K   \u001b[90m━━━━━━━━━━━━━━━━━━━━━━━━━━━━━━━━━━━━━━━━\u001b[0m \u001b[32m2.5/2.5 MB\u001b[0m \u001b[31m13.4 MB/s\u001b[0m eta \u001b[36m0:00:00\u001b[0m\n",
            "\u001b[2K   \u001b[90m━━━━━━━━━━━━━━━━━━━━━━━━━━━━━━━━━━━━━━━━\u001b[0m \u001b[32m2.1/2.1 MB\u001b[0m \u001b[31m34.4 MB/s\u001b[0m eta \u001b[36m0:00:00\u001b[0m\n",
            "\u001b[2K   \u001b[90m━━━━━━━━━━━━━━━━━━━━━━━━━━━━━━━━━━━━━━━━\u001b[0m \u001b[32m167.9/167.9 kB\u001b[0m \u001b[31m9.2 MB/s\u001b[0m eta \u001b[36m0:00:00\u001b[0m\n",
            "\u001b[2K   \u001b[90m━━━━━━━━━━━━━━━━━━━━━━━━━━━━━━━━━━━━━━━━\u001b[0m \u001b[32m8.6/8.6 MB\u001b[0m \u001b[31m39.0 MB/s\u001b[0m eta \u001b[36m0:00:00\u001b[0m\n",
            "\u001b[2K   \u001b[90m━━━━━━━━━━━━━━━━━━━━━━━━━━━━━━━━━━━━━━━━\u001b[0m \u001b[32m1.6/1.6 MB\u001b[0m \u001b[31m23.5 MB/s\u001b[0m eta \u001b[36m0:00:00\u001b[0m\n",
            "\u001b[?25h"
          ]
        }
      ]
    },
    {
      "cell_type": "markdown",
      "source": [
        "# **A Quick Primer on Quantum Circuits**\n",
        "Before we apply quantum computing to machine learning, let's understand the basics of building a quantum circuit.\n",
        "\n",
        "A **quantum circuit** is a sequence of operations, called **quantum gates**, applied to qubits.\n",
        "\n",
        "* **Qubits**: These are the basic units of quantum information. Unlike classical bits that are either 0 or 1, a qubit can exist in a **superposition** of both states simultaneously.\n",
        "\n",
        "* **Quantum Gates**: These are operations that manipulate the state of the qubits. For example, a Hadamard gate puts a qubit into a superposition, and a CNOT gate entangles two qubits.\n",
        "\n",
        "* **Measurement**: At the end of a circuit, we measure the qubits, which collapses their superposition into a classical state (either 0 or 1).\n",
        "\n",
        "\\\n",
        "\n",
        "**Building a Simple Circuit in PennyLane**\n",
        "\n",
        "Let's build a simple two-qubit circuit that creates an entangled state known as a Bell state.\n",
        "\n",
        "* **Define a Device**: A device is the \"backend\" that will run our circuit. It can be a quantum simulator (like default.qubit) or a real quantum computer.\n",
        "\n",
        "* **Create a QNode**: A QNode is a quantum circuit bound to a specific device. We define it in Python using the @qml.qnode decorator.\n",
        "\n",
        "* **Define the Circuit**: Inside our QNode function, we define the sequence of gates.\n",
        "\n",
        "* **Return a Measurement**: The function must return a classical measurement result."
      ],
      "metadata": {
        "id": "tHHA3sULhBPb"
      }
    },
    {
      "cell_type": "code",
      "source": [
        "import pennylane as qml\n",
        "import matplotlib.pyplot as plt\n",
        "import time\n",
        "\n",
        "dev_simple = qml.device(\"default.qubit\", wires=2)\n",
        "\n",
        "@qml.qnode(dev_simple)\n",
        "def simple_bell_state_circuit():\n",
        "    \"\"\"\n",
        "    This quantum circuit creates a Bell state by applying a\n",
        "    Hadamard gate and a CNOT gate.\n",
        "    \"\"\"\n",
        "    qml.Hadamard(wires=0)  # Puts the first qubit in a superposition\n",
        "    qml.CNOT(wires=[0, 1])   # Entangles the two qubits\n",
        "\n",
        "    return qml.probs(wires=[0, 1])\n",
        "\n",
        "# Run the circuit\n",
        "result = simple_bell_state_circuit()\n",
        "print(f\"Output probabilities: {result}\")\n",
        "print(\"This indicates a 50% chance of measuring |00> and a 50% chance of measuring |11>.\")\n"
      ],
      "metadata": {
        "colab": {
          "base_uri": "https://localhost:8080/"
        },
        "id": "wV1P7YAkgu7D",
        "outputId": "bdfa9fbc-bec2-48da-d81f-2465947fd543"
      },
      "execution_count": 2,
      "outputs": [
        {
          "output_type": "stream",
          "name": "stderr",
          "text": [
            "/usr/local/lib/python3.11/dist-packages/pennylane/capture/capture_operators.py:33: RuntimeWarning: PennyLane is not yet compatible with JAX versions > 0.4.28. You have version 0.5.2 installed. Please downgrade JAX to <=0.4.28 to avoid runtime errors.\n",
            "  warnings.warn(\n"
          ]
        },
        {
          "output_type": "stream",
          "name": "stdout",
          "text": [
            "Output probabilities: [0.5 0.  0.  0.5]\n",
            "This indicates a 50% chance of measuring |00> and a 50% chance of measuring |11>.\n"
          ]
        }
      ]
    },
    {
      "cell_type": "markdown",
      "source": [
        "**Visualizing the Circuit**\n",
        "\n",
        "PennyLane makes it easy to visualize what we've just built. We can get both a graphical representation and a text-based one."
      ],
      "metadata": {
        "id": "qFf_nsJ-g2I6"
      }
    },
    {
      "cell_type": "code",
      "source": [
        "# Draw the circuit graphically\n",
        "fig, ax = qml.draw_mpl(simple_bell_state_circuit)()\n",
        "fig.suptitle(\"Simple Bell State Circuit\")\n",
        "plt.show()\n",
        "\n",
        "# You can also get a text-based drawing\n",
        "print(\"\\nCircuit Diagram (Text):\")\n",
        "print(qml.draw(simple_bell_state_circuit)())\n"
      ],
      "metadata": {
        "colab": {
          "base_uri": "https://localhost:8080/",
          "height": 406
        },
        "id": "CTQyxUy6gu2R",
        "outputId": "d75d1bad-efea-404b-e848-f159d19fea47"
      },
      "execution_count": 3,
      "outputs": [
        {
          "output_type": "display_data",
          "data": {
            "text/plain": [
              "<Figure size 500x300 with 1 Axes>"
            ],
            "image/png": "[encoded data removed]"
          },
          "metadata": {}
        },
        {
          "output_type": "stream",
          "name": "stdout",
          "text": [
            "\n",
            "Circuit Diagram (Text):\n",
            "0: ──H─╭●─┤ ╭Probs\n",
            "1: ────╰X─┤ ╰Probs\n"
          ]
        }
      ]
    },
    {
      "cell_type": "markdown",
      "source": [
        "This simple example shows the fundamental workflow of creating and running a quantum circuit. The machine learning models we build next will use these same principles but with more complex circuits."
      ],
      "metadata": {
        "id": "WDGlxG5Og8I8"
      }
    },
    {
      "cell_type": "markdown",
      "source": [
        "# **Conceptual Overview for Beginners**\n",
        "Before we get into the code, let's break down some of the key concepts for those new to machine learning or quantum computing.\n",
        "\n",
        "\\\n",
        "\n",
        "**What is a Support Vector Machine (SVM)?**\n",
        "\n",
        "A **Support Vector Machine (SVM)** is a powerful and popular supervised machine learning algorithm used for classification tasks. Imagine you have a dataset with two categories of points on a graph. The goal of an SVM is to find the best possible line (or hyperplane in higher dimensions) that separates these two categories. This line is called the \"decision boundary\". The \"best\" line is the one that is as far away as possible from the closest points in each category. These closest points are called \"support vectors,\" which give the SVM its name.\n",
        "\n",
        "\\\n",
        "\n",
        "**What is a Kernel?**\n",
        "\n",
        "Sometimes, data isn't easily separable by a straight line. This is where kernels come in. A kernel is a mathematical function that takes the original, non-separable data and transforms it into a higher-dimensional space where it becomes linearly separable. This is often called the \"kernel trick.\" Think of it as adding a new dimension to your data to make it easier to draw a dividing line. The function that performs this transformation is the kernel.\n",
        "\n",
        "\\\n",
        "\n",
        "**What is a Quantum Support Vector Machine (QSVM)?**\n",
        "\n",
        "A **Quantum Support Vector Machine (QSVM)** gives the concept of a kernel a quantum twist. Instead of using a classical mathematical function as a kernel, a QSVM uses a quantum circuit to transform the data. This quantum circuit, also known as a \"feature map,\" encodes the classical data into a quantum state. By doing this, we can explore a much larger and more complex feature space than what is available to classical computers. The hope is that this quantum-enhanced feature space will allow us to find better decision boundaries for our classification problems."
      ],
      "metadata": {
        "id": "Ig4WV0v8MTS2"
      }
    },
    {
      "cell_type": "markdown",
      "source": [
        "# **Part 1: Generating the 2D \"Two Moons\" Data**\n",
        "\n",
        "We will start by generating a \"two moons\" dataset using Scikit-learn. This dataset is a classic example of a problem where the two classes are not linearly separable, meaning you can't draw a single straight line to separate them perfectly. This makes it an interesting challenge for our models.\n"
      ],
      "metadata": {
        "id": "16S3iAkqg0N0"
      }
    },
    {
      "cell_type": "code",
      "source": [
        "import pennylane as qml\n",
        "import pennylane.numpy as np\n",
        "import matplotlib.pyplot as plt\n",
        "from sklearn.svm import SVC\n",
        "from sklearn.datasets import make_moons\n",
        "from sklearn.preprocessing import StandardScaler\n",
        "from sklearn.model_selection import train_test_split\n",
        "from tqdm.notebook import tqdm\n",
        "import time\n",
        "\n",
        "X, y = make_moons(n_samples=200, noise=0.1, random_state=42)\n",
        "X_train, X_val, y_train, y_val = train_test_split(X, y, test_size=0.5, random_state=42)\n",
        "scaler = StandardScaler().fit(X_train)\n",
        "X_train_scaled = scaler.transform(X_train)\n",
        "X_val_scaled = scaler.transform(X_val)\n",
        "\n",
        "\n",
        "# Plot the data to see the challenge\n",
        "plt.figure(figsize=(8, 6))\n",
        "\n",
        "# --- Plot Training Data (Circles) ---\n",
        "# Plot class 0 training points\n",
        "plt.scatter(\n",
        "    X_train_scaled[y_train == 0, 0],\n",
        "    X_train_scaled[y_train == 0, 1],\n",
        "    c=\"royalblue\", marker=\"o\", edgecolors=\"k\", label=\"Train Class 0\"\n",
        ")\n",
        "# Plot class 1 training points\n",
        "plt.scatter(\n",
        "    X_train_scaled[y_train == 1, 0],\n",
        "    X_train_scaled[y_train == 1, 1],\n",
        "    c=\"gold\", marker=\"o\", edgecolors=\"k\", label=\"Train Class 1\"\n",
        ")\n",
        "\n",
        "# --- Plot Validation Data (X's) ---\n",
        "# Plot class 0 validation points\n",
        "plt.scatter(\n",
        "    X_val_scaled[y_val == 0, 0],\n",
        "    X_val_scaled[y_val == 0, 1],\n",
        "    c=\"royalblue\", marker=\"x\", label=\"Val Class 0\"\n",
        ")\n",
        "# Plot class 1 validation points\n",
        "plt.scatter(\n",
        "    X_val_scaled[y_val == 1, 0],\n",
        "    X_val_scaled[y_val == 1, 1],\n",
        "    c=\"gold\", marker=\"x\", label=\"Val Class 1\"\n",
        ")\n",
        "\n",
        "\n",
        "plt.title(\"Two Moons Dataset (Train & Validation Split)\")\n",
        "plt.xlabel(\"Feature 1\")\n",
        "plt.ylabel(\"Feature 2\")\n",
        "plt.legend()\n",
        "plt.show()"
      ],
      "metadata": {
        "colab": {
          "base_uri": "https://localhost:8080/",
          "height": 564
        },
        "id": "37Nc1IOVYCi5",
        "outputId": "d9b7a917-ff4c-44c5-fe14-65d9fcab1b9f"
      },
      "execution_count": 4,
      "outputs": [
        {
          "output_type": "display_data",
          "data": {
            "text/plain": [
              "<Figure size 800x600 with 1 Axes>"
            ],
            "image/png": "[encoded data removed]"
          },
          "metadata": {}
        }
      ]
    },
    {
      "cell_type": "markdown",
      "source": [
        "# **Part 2: Building and Training the QSVM**\n",
        "\n",
        "This is where we define our quantum kernel. We specify **lightning.qubit** as our device, which uses a highly optimized C++ backend to run simulations much faster than the default Python-based simulator.\n",
        "\n",
        "\\\n",
        "\n",
        "**Defining the Quantum Kernel**\n",
        "\n",
        "The kernel is created by a quantum circuit that encodes the data points. The similarity between two data points **x1** and **x2** is calculated by running the feature map for **x1**, followed by the inverse of the feature map for **x2**, and then measuring the probability of the qubits returning to the all-zero state."
      ],
      "metadata": {
        "id": "F00hmfikiRIG"
      }
    },
    {
      "cell_type": "code",
      "source": [
        "# --- 2. Define an Improved Quantum Kernel ---\n",
        "num_qubits = 2\n",
        "dev = qml.device(\"lightning.qubit\", wires=num_qubits)\n",
        "\n",
        "def feature_map(x):\n",
        "    \"\"\"\n",
        "    A more expressive feature map (the ansatz).\n",
        "    Have a look at https://pennylane.ai/qml/glossary/quantum_feature_map for details and references\n",
        "    This circuit encodes the data and adds entanglement.\n",
        "    \"\"\"\n",
        "    qml.AngleEmbedding(x, wires=range(num_qubits))\n",
        "    '''\n",
        "    Please fill out the matrix to idenity a space where the data is seperable\n",
        "    examples of gate: qml.CNOT(wires=[0, 1]), qml.H(wires=1), qml.RX(np.pi/2, wires=1)\n",
        "    '''\n",
        "\n",
        "# Define the quantum circuit that will be our feature map\n",
        "@qml.qnode(dev)\n",
        "def kernel_circuit(x1, x2):\n",
        "    \"\"\"The quantum circuit that uses the feature map.\"\"\"\n",
        "    # Apply the feature map for the first data point\n",
        "    feature_map(x1)\n",
        "    # Apply the inverse of the feature map for the second data point\n",
        "    qml.adjoint(feature_map)(x2)\n",
        "    # Return the probability of being in the all-zero state\n",
        "    return qml.probs(wires=range(num_qubits))\n",
        "\n",
        "def quantum_kernel(X1, X2):\n",
        "    \"\"\"The quantum kernel function that uses the circuit.\"\"\"\n",
        "    # The kernel is the probability of measuring the all-zero state\n",
        "    # We add a tqdm progress bar to the outer loop\n",
        "    return np.array([[kernel_circuit(x1, x2)[0] for x2 in X2] for x1 in tqdm(X1, desc=\"Kernel Rows\")])"
      ],
      "metadata": {
        "id": "zqcIDKLvYCgs"
      },
      "execution_count": 5,
      "outputs": []
    },
    {
      "cell_type": "markdown",
      "source": [
        "**Visualizing the QSVM Kernel Circuit**\n",
        "\n",
        "Let's draw the circuit to see what it looks like. We'll pass in some dummy data to render the circuit diagram."
      ],
      "metadata": {
        "id": "Gi798QqjN5P5"
      }
    },
    {
      "cell_type": "code",
      "source": [
        "# Create some dummy data points to draw the circuit\n",
        "dummy_x1 = np.array([0.5, 0.3])\n",
        "dummy_x2 = np.array([-0.2, 0.7])\n",
        "\n",
        "# Draw the kernel circuit\n",
        "fig, ax = qml.draw_mpl(kernel_circuit)(dummy_x1, dummy_x2)\n",
        "fig.suptitle(\"QSVM Kernel Circuit\")\n",
        "plt.show()\n",
        "\n",
        "# You can also get a text-based drawing\n",
        "print(\"QSVM Kernel Circuit (Text):\")\n",
        "print(qml.draw(kernel_circuit)(dummy_x1, dummy_x2))"
      ],
      "metadata": {
        "colab": {
          "base_uri": "https://localhost:8080/",
          "height": 389
        },
        "id": "P6ftbNHgN27t",
        "outputId": "c036b357-dbbc-435e-b10e-0abb3eb7f27e"
      },
      "execution_count": 6,
      "outputs": [
        {
          "output_type": "display_data",
          "data": {
            "text/plain": [
              "<Figure size 500x300 with 1 Axes>"
            ],
            "image/png": "[encoded data removed]"
          },
          "metadata": {}
        },
        {
          "output_type": "stream",
          "name": "stdout",
          "text": [
            "QSVM Kernel Circuit (Text):\n",
            "0: ──RX(0.50)──RX(-0.20)†─┤ ╭Probs\n",
            "1: ──RX(0.30)──RX(0.70)†──┤ ╰Probs\n"
          ]
        }
      ]
    },
    {
      "cell_type": "markdown",
      "source": [
        "**Lets Visualize the Quantum Kernel Matrix,**\n",
        "\n",
        "**A \"Good\" Kernel (Clear Separation)**:\n",
        "\n",
        "* You should see two bright yellow squares along the main diagonal.\n",
        "\n",
        "*  The rest of the matrix should be dark purple/blue.\n",
        "\n",
        "*  This \"block-diagonal\" structure is the ideal result. It means your feature map is successfully making points from the same class have high similarity (the yellow blocks) and points from different classes have low similarity (the dark regions). This makes the data very easy for the SVM to separate.\n"
      ],
      "metadata": {
        "id": "K6Vh8JE1X0k3"
      }
    },
    {
      "cell_type": "code",
      "source": [
        "# --- Visualize the Quantum Kernel Matrix ---\n",
        "print(\"\\nCalculating and visualizing the quantum kernel matrix for the training data...\")\n",
        "\n",
        "kernel_matrix = quantum_kernel(X_train_scaled, X_train_scaled)\n",
        "sort_indices = np.argsort(y_train)\n",
        "X_sorted = X_train_scaled[sort_indices]\n",
        "y_sorted = y_train[sort_indices]\n",
        "kernel_matrix_sorted = kernel_matrix[np.ix_(sort_indices, sort_indices)]\n",
        "\n",
        "plt.figure(figsize=(7, 6))\n",
        "plt.imshow(\n",
        "    kernel_matrix_sorted,\n",
        "    interpolation=\"nearest\",\n",
        "    cmap=\"viridis\",\n",
        ")\n",
        "plt.colorbar(label=\"Kernel Similarity\")\n",
        "plt.title(\"Sorted Quantum Kernel Matrix\")\n",
        "plt.xlabel(\"Training Data Point Index (Sorted)\")\n",
        "plt.ylabel(\"Training Data Point Index (Sorted)\")\n",
        "plt.show()"
      ],
      "metadata": {
        "colab": {
          "base_uri": "https://localhost:8080/",
          "height": 603,
          "referenced_widgets": [
            "cf1aa85399564c13b31847de6e102799",
            "4e0ddd0bf0394495b2932d388c4e712b",
            "88cc0059926443858e51e51221ef8e33",
            "ec74e23e1d07475285bd059db4c2f1c5",
            "32665c668c2c427189718ddc8bff557b",
            "51e3fb7eaa57417c9bb87fb93be0387c",
            "474fdaa9e1294ec8983f763c69dff0c1",
            "cd24bc81bb084113a8d0c5725dbbb3c2",
            "82c39d5a2f6d495da230bcebeb0066f0",
            "42b4ff2fb1654aac85d34119a39e4c21",
            "6fa23c898df74273963981d2cfe42521"
          ]
        },
        "id": "fR1Cy7IQW4Wz",
        "outputId": "c347dfd7-02a7-4966-eac5-9561b1d0fc4e"
      },
      "execution_count": 7,
      "outputs": [
        {
          "output_type": "stream",
          "name": "stdout",
          "text": [
            "\n",
            "Calculating and visualizing the quantum kernel matrix for the training data...\n"
          ]
        },
        {
          "output_type": "display_data",
          "data": {
            "text/plain": [
              "Kernel Rows:   0%|          | 0/100 [00:00<?, ?it/s]"
            ],
            "application/vnd.jupyter.widget-view+json": {
              "version_major": 2,
              "version_minor": 0,
              "model_id": "cf1aa85399564c13b31847de6e102799"
            }
          },
          "metadata": {}
        },
        {
          "output_type": "display_data",
          "data": {
            "text/plain": [
              "<Figure size 700x600 with 2 Axes>"
            ],
            "image/png": "[encoded data removed]"
          },
          "metadata": {}
        }
      ]
    },
    {
      "cell_type": "markdown",
      "source": [
        "**Training the QSVM and Classical SVM**\n",
        "\n",
        "Now we train both the QSVM and a classical SVM with a standard Radial Basis Function (RBF) kernel. This will allow us to directly compare the performance of the quantum kernel against a powerful classical alternative."
      ],
      "metadata": {
        "id": "HcIYFSv_ivvr"
      }
    },
    {
      "cell_type": "code",
      "source": [
        "# --- Train the QSVM Classifier ---\n",
        "print(\"Calculating the improved quantum kernel matrix...\")\n",
        "# The 'precomputed' kernel tells the SVM to use our custom quantum kernel\n",
        "qsvm_classifier = SVC(kernel=quantum_kernel)\n",
        "qsvm_classifier.fit(X_train_scaled, y_train)\n",
        "print(\"QSVM training complete.\")\n",
        "\n",
        "# --- 3. Train the Classical SVM Classifier ---\n",
        "print(\"\\nTraining the classical SVM classifier...\")\n",
        "svm_classifier = SVC(kernel=\"rbf\", gamma=0.5, C=1.0)\n",
        "#look at this link to understand what the rbf kernal is doing:\n",
        "#https://towardsdatascience.com/radial-basis-function-rbf-kernel-the-go-to-kernel-acf0d22c798a/\n",
        "svm_classifier.fit(X_train_scaled, y_train)\n",
        "print(\"SVM training complete.\")"
      ],
      "metadata": {
        "colab": {
          "base_uri": "https://localhost:8080/",
          "height": 136,
          "referenced_widgets": [
            "26e49284384c40fea31bcd7c2be5c8cd",
            "c322aa58e3c84ddbab74ab9d09f8cee4",
            "dbd4ae1d34e141f594640e21e024459e",
            "5cc17b20e39e4c6f8d7dab23cfdde9c5",
            "3eabe59de8b548f1b7736a3996c6a771",
            "414ee85aa4d342a0b28e665acd69143e",
            "15e049e695094f8b80159a8dc595f731",
            "de7ace3789b2438c91cf6f6860892bc7",
            "1cbd9f043f374184918717393d45d459",
            "df7525b299bc4e159a85438ae8736301",
            "9f5eb445d0dd4220b7adf9714d00c4fd"
          ]
        },
        "id": "o0N2dZqzYCeD",
        "outputId": "2c91513f-94ef-447b-ae87-d6aa1f0069ed"
      },
      "execution_count": 8,
      "outputs": [
        {
          "output_type": "stream",
          "name": "stdout",
          "text": [
            "Calculating the improved quantum kernel matrix...\n"
          ]
        },
        {
          "output_type": "display_data",
          "data": {
            "text/plain": [
              "Kernel Rows:   0%|          | 0/100 [00:00<?, ?it/s]"
            ],
            "application/vnd.jupyter.widget-view+json": {
              "version_major": 2,
              "version_minor": 0,
              "model_id": "26e49284384c40fea31bcd7c2be5c8cd"
            }
          },
          "metadata": {}
        },
        {
          "output_type": "stream",
          "name": "stdout",
          "text": [
            "QSVM training complete.\n",
            "\n",
            "Training the classical SVM classifier...\n",
            "SVM training complete.\n"
          ]
        }
      ]
    },
    {
      "cell_type": "markdown",
      "source": [
        "# **Part 3: Building a Variational Quantum Classifier (VQC)**\n",
        "Now we'll build a different kind of quantum model.\n",
        "\n",
        "**What is a Variational Quantum Classifier (VQC)?**\n",
        "\n",
        "A **Variational Quantum Classifier (VQC)** is another type of quantum machine learning model. Instead of using a quantum circuit as a kernel for a classical SVM, a VQC uses a \"parameterized\" quantum circuit as the core of the classifier itself.\n",
        "\n",
        "Here's a simple breakdown of how it works:\n",
        "\n",
        "* **Data Encoding**: We first encode our classical data into a quantum state.\n",
        "\n",
        "* **Variational Circuit**: This is the heart of the VQC. It's a quantum circuit with adjustable parameters (or \"weights\"). We can think of these as knobs we can turn to change the behavior of the circuit.\n",
        "\n",
        "* **Measurement**: After the data is processed by the variational circuit, we measure one of the qubits. The outcome of this measurement is used to make a prediction (e.g., class \"0\" or \"1\").\n",
        "\n",
        "* **Training**: We use a classical optimizer to \"tune\" the parameters of our variational circuit. The optimizer's goal is to find the set of parameters that minimizes a \"cost function,\" which measures how many mistakes the classifier is making.\n",
        "\n",
        "In essence, a VQC is a hybrid quantum-classical algorithm where a quantum computer performs the classification and a classical computer optimizes the quantum circuit.\n",
        "\n",
        "**Defining the VQC Circuit**\n",
        "\n",
        "The VQC consists of layers of gates with trainable weights. The input data is first encoded, and then it passes through these trainable layers before a final measurement is made."
      ],
      "metadata": {
        "id": "psAMHb0tDqGb"
      }
    },
    {
      "cell_type": "markdown",
      "source": [
        "**Visualizing the VQC Circuit**\n",
        "\n",
        "Let's draw the VQC circuit. Since it has many layers, the diagram will be quite large, but it clearly shows the structure of data encoding followed by trainable layers."
      ],
      "metadata": {
        "id": "1DSEmxwIO8Lt"
      }
    },
    {
      "cell_type": "code",
      "source": [
        "num_qubits = 2\n",
        "num_layers = 4\n",
        "dev = qml.device(\"lightning.qubit\", wires=num_qubits)\n",
        "\n",
        "def layer(W):\n",
        "\n",
        "    '''\n",
        "    Fill out the ansatz to it can express the solution boundary\n",
        "    e.g. qml.RY(W[0], wires=0) index an element of W for each variational gate\n",
        "    examples of gate: qml.CNOT(wires=[0, 1]), qml.H(wires=1)\n",
        "    '''\n",
        "\n",
        "@qml.qnode(dev)\n",
        "def circuit(weights, x):\n",
        "    qml.AngleEmbedding(x, wires=range(num_qubits))\n",
        "    for W in weights:\n",
        "        layer(W)\n",
        "    return qml.expval(qml.PauliZ(0))\n",
        "\n",
        "def variational_classifier(weights, bias, x):\n",
        "    return circuit(weights, x) + bias\n",
        "\n",
        "def binary_cross_entropy_loss(labels, predictions_prob):\n",
        "    predictions_prob = np.clip(predictions_prob, 1e-7, 1 - 1e-7)\n",
        "    return -np.mean(labels * np.log(predictions_prob) + (1 - labels) * np.log(1 - predictions_prob))\n",
        "\n",
        "def sigmoid(x):\n",
        "    return 1 / (1 + np.exp(-x))\n",
        "\n",
        "def cost(weights, bias, X, Y):\n",
        "    logits = np.array([variational_classifier(weights, bias, x) for x in X])\n",
        "    probabilities = sigmoid(logits)\n",
        "    return binary_cross_entropy_loss(Y, probabilities)\n",
        "\n",
        "def accuracy(weights, bias, X, Y):\n",
        "    logits = np.array([variational_classifier(weights, bias, x) for x in X])\n",
        "    probabilities = sigmoid(logits)\n",
        "    predicted_labels = (probabilities > 0.5).astype(int)\n",
        "    return np.sum(predicted_labels == Y) / len(Y)\n"
      ],
      "metadata": {
        "id": "490X-cEK8JJA"
      },
      "execution_count": 18,
      "outputs": []
    },
    {
      "cell_type": "code",
      "source": [
        "# Create dummy weights and a data point to draw the circuit\n",
        "dummy_weights = np.random.uniform(0, 2 * np.pi, size=(num_layers, 0))\n",
        "dummy_x = np.array([0.5, 0.3])\n",
        "\n",
        "# Draw the VQC circuit\n",
        "fig, ax = qml.draw_mpl(circuit)(dummy_weights, dummy_x)\n",
        "fig.suptitle(\"Variational Quantum Classifier (VQC) Circuit\")\n",
        "plt.show()\n",
        "\n",
        "# You can also get a text-based drawing\n",
        "#print(\"VQC Circuit (Text):\")\n",
        "#print(qml.draw(vqc_circuit)(dummy_weights, dummy_x))"
      ],
      "metadata": {
        "colab": {
          "base_uri": "https://localhost:8080/",
          "height": 337
        },
        "id": "HqK6Qm25O8Ws",
        "outputId": "cbc5ee03-ce83-4910-cab2-b8d176dfd7a4"
      },
      "execution_count": 19,
      "outputs": [
        {
          "output_type": "display_data",
          "data": {
            "text/plain": [
              "<Figure size 400x300 with 1 Axes>"
            ],
            "image/png": "[encoded data removed]"
          },
          "metadata": {}
        }
      ]
    },
    {
      "cell_type": "markdown",
      "source": [
        "**Training the VQC**\n",
        "\n",
        "We train the VQC by minimizing a cost function (square loss) using a classical optimizer. The optimizer iteratively updates the circuit's weights to improve its accuracy."
      ],
      "metadata": {
        "id": "nnnqE3jvPMnU"
      }
    },
    {
      "cell_type": "code",
      "source": [
        "# Initialize parameters.\n",
        "np.random.seed(1)\n",
        "weights = np.random.uniform(0, 2 * np.pi, size=(num_layers, 4), requires_grad=True)\n",
        "bias = np.array(0.0, requires_grad=True)\n",
        "\n",
        "# Set up optimizer and training parameters.\n",
        "optimizer = qml.AdamOptimizer(0.1)\n",
        "batch_size = 10\n",
        "training_steps = 100\n",
        "\n",
        "# --- Training Loop ---\n",
        "print(\"Training the VQC...\")\n",
        "train_costs = []\n",
        "val_accuracies = []\n",
        "\n",
        "for i in tqdm(range(training_steps), desc=\"VQC Training\"):\n",
        "    batch_index = np.random.randint(0, len(X_train_scaled), (batch_size,))\n",
        "    X_batch = X_train_scaled[batch_index]\n",
        "    y_batch = y_train[batch_index]\n",
        "\n",
        "    # --- THIS IS THE KEY CHANGE ---\n",
        "    # We call step_and_cost by passing the cost function and its arguments directly.\n",
        "    # PennyLane automatically finds the trainable parameters (weights, bias).\n",
        "    (weights, bias), cost_val = optimizer.step_and_cost(cost, weights, bias, X=X_batch, Y=y_batch)\n",
        "\n",
        "    train_costs.append(cost_val)\n",
        "\n",
        "    if (i + 1) % 5 == 0:\n",
        "        val_acc = accuracy(weights, bias, X_val_scaled, y_val)\n",
        "        val_accuracies.append(val_acc)\n",
        "        print(f\"Iter: {i+1:3d} | Cost: {cost_val:0.7f} | Validation Accuracy: {val_acc:0.4f}\")\n",
        "\n",
        "\n",
        "print(\"\\nTraining complete.\")\n",
        "final_train_accuracy = accuracy(weights, bias, X_train_scaled, y_train)\n",
        "final_val_accuracy = accuracy(weights, bias, X_val_scaled, y_val)\n",
        "\n",
        "print(f\"\\nFinal Training Accuracy: {final_train_accuracy:.4f}\")\n",
        "print(f\"Final Validation Accuracy: {final_val_accuracy:.4f}\")"
      ],
      "metadata": {
        "colab": {
          "base_uri": "https://localhost:8080/",
          "height": 500,
          "referenced_widgets": [
            "43e0fc598d26474a93c2fb66972e2177",
            "eaa4dce4013e40b0b9be23ea3e2b90df",
            "b307ea139e7b45cfbdd2ea99c95f443d",
            "d55e85651bf2495da1445140e3e880b8",
            "221ed59d39a64c51b6ad899f1ee05751",
            "418e6001a02040f2b889ecbae6f4c3b3",
            "23886793f63f41e5a1d71d1e3a374267",
            "5682235ff1ac49879cd1369c2aaf714f",
            "c22db186baeb4fe18c2834ee8bdf4e8a",
            "51ce2fc9e3a34b38a7d07a3a58c13f6e",
            "df76d345384d436699c77549e19e2886"
          ]
        },
        "id": "tjEXk1l37wl5",
        "outputId": "97c9ad7d-016a-44cb-d925-396e7bd333d1"
      },
      "execution_count": 20,
      "outputs": [
        {
          "output_type": "stream",
          "name": "stdout",
          "text": [
            "Training the VQC...\n"
          ]
        },
        {
          "output_type": "display_data",
          "data": {
            "text/plain": [
              "VQC Training:   0%|          | 0/100 [00:00<?, ?it/s]"
            ],
            "application/vnd.jupyter.widget-view+json": {
              "version_major": 2,
              "version_minor": 0,
              "model_id": "43e0fc598d26474a93c2fb66972e2177"
            }
          },
          "metadata": {}
        },
        {
          "output_type": "stream",
          "name": "stdout",
          "text": [
            "Iter:   5 | Cost: 0.7552401 | Validation Accuracy: 0.5000\n",
            "Iter:  10 | Cost: 0.7459740 | Validation Accuracy: 0.4800\n",
            "Iter:  15 | Cost: 0.7378745 | Validation Accuracy: 0.4800\n",
            "Iter:  20 | Cost: 0.7544995 | Validation Accuracy: 0.5000\n",
            "Iter:  25 | Cost: 0.6470834 | Validation Accuracy: 0.5000\n",
            "Iter:  30 | Cost: 0.8211013 | Validation Accuracy: 0.4900\n",
            "Iter:  35 | Cost: 0.8097374 | Validation Accuracy: 0.5000\n",
            "Iter:  40 | Cost: 0.6076852 | Validation Accuracy: 0.5000\n",
            "Iter:  45 | Cost: 0.7853273 | Validation Accuracy: 0.5100\n",
            "Iter:  50 | Cost: 0.8258531 | Validation Accuracy: 0.5000\n",
            "Iter:  55 | Cost: 0.6480429 | Validation Accuracy: 0.4900\n",
            "Iter:  60 | Cost: 0.7133033 | Validation Accuracy: 0.4900\n",
            "Iter:  65 | Cost: 0.7147646 | Validation Accuracy: 0.4900\n",
            "Iter:  70 | Cost: 0.7144554 | Validation Accuracy: 0.5000\n",
            "Iter:  75 | Cost: 0.7130985 | Validation Accuracy: 0.4800\n",
            "Iter:  80 | Cost: 0.8786956 | Validation Accuracy: 0.4700\n",
            "Iter:  85 | Cost: 0.6328897 | Validation Accuracy: 0.4900\n",
            "Iter:  90 | Cost: 0.7384352 | Validation Accuracy: 0.5100\n",
            "Iter:  95 | Cost: 0.8778381 | Validation Accuracy: 0.5100\n",
            "Iter: 100 | Cost: 0.6546524 | Validation Accuracy: 0.5000\n",
            "\n",
            "Training complete.\n",
            "\n",
            "Final Training Accuracy: 0.5100\n",
            "Final Validation Accuracy: 0.5000\n"
          ]
        }
      ]
    },
    {
      "cell_type": "markdown",
      "source": [
        "# **Part 4: Visualize and Compare All Results**\n",
        "Finally, we'll calculate the accuracy of all three models and plot their decision boundaries to visually compare how they classified the data.\n",
        "\n",
        "**Calculating Predictions and Accuracy**\n",
        "\n",
        "Here we generate predictions for a grid of points to visualize the decision boundaries."
      ],
      "metadata": {
        "id": "uAeUyN7rPU-N"
      }
    },
    {
      "cell_type": "code",
      "source": [
        "# --- Calculate QSVM Results ---\n",
        "print(\"\\nPredicting with QSVM...\")\n",
        "grid_resolution_qsvm = 0.2\n",
        "\n",
        "# Score the model on the unseen validation data\n",
        "qsvm_accuracy = qsvm_classifier.score(X_val_scaled, y_val)\n",
        "\n",
        "# Define plot boundaries based on the training data\n",
        "x_min, x_max = X_train_scaled[:, 0].min() - 0.5, X_train_scaled[:, 0].max() + 0.5\n",
        "y_min, y_max = X_train_scaled[:, 1].min() - 0.5, X_train_scaled[:, 1].max() + 0.5\n",
        "\n",
        "# Create the prediction grid\n",
        "xx_qsvm, yy_qsvm = np.meshgrid(np.arange(x_min, x_max, grid_resolution_qsvm), np.arange(y_min, y_max, grid_resolution_qsvm))\n",
        "grid_points_qsvm = np.c_[xx_qsvm.ravel(), yy_qsvm.ravel()]\n",
        "qsvm_predictions_grid = qsvm_classifier.predict(grid_points_qsvm)\n",
        "Z_qsvm = qsvm_predictions_grid.reshape(xx_qsvm.shape)"
      ],
      "metadata": {
        "colab": {
          "base_uri": "https://localhost:8080/",
          "height": 116,
          "referenced_widgets": [
            "99757a9861bd4072a38097928d99f7fe",
            "a84ddda4410d4e76abaa73d1d0480e50",
            "8b20a77467cc4f5dbbb63378fc26162a",
            "e1699f662da94931b4c6cc1d9ca321b9",
            "eceab3f8bfe14e7fa9895ba7c1f0e6d2",
            "55f2e8d13ae447efba4bbc714df78b39",
            "9773b56f7d914b57bb5763f88157c6ad",
            "07a072ec9a464a3ea37ecd5e9538f203",
            "abb54c92bf3b445cb252b579460971f1",
            "87fa7d0e332f401faaebaec02bf1e535",
            "0ad7facab5d44c5490996888332c44af",
            "643c18c437d347818d5e05a73040e8e8",
            "5b8d204d6376442aa1349323dc30a2cd",
            "fa508e2c0e04402ebb190b353f20ef23",
            "ab1ed08a4ada46a7b5df17a18b1e304f",
            "b48fd330a23e4b73a3dd1ec83b286ad2",
            "5adde23d7fc04123b6a63f2f3ab3bdc1",
            "5a1ee2d7864b4ccf913dd90c90928f57",
            "8ff6fa91b62549a2af53f125d78c4a73",
            "030fb3c2d1d141c4ba7dcb2622d1e44c",
            "29500227122541a49967aae0334130d3",
            "2dd8377667f2457a8cf5569ee028a274"
          ]
        },
        "id": "m7ro53ZSDxf6",
        "outputId": "edb75e02-4253-408e-8e9a-30ce26c06b38"
      },
      "execution_count": 12,
      "outputs": [
        {
          "output_type": "stream",
          "name": "stdout",
          "text": [
            "\n",
            "Predicting with QSVM...\n"
          ]
        },
        {
          "output_type": "display_data",
          "data": {
            "text/plain": [
              "Kernel Rows:   0%|          | 0/100 [00:00<?, ?it/s]"
            ],
            "application/vnd.jupyter.widget-view+json": {
              "version_major": 2,
              "version_minor": 0,
              "model_id": "99757a9861bd4072a38097928d99f7fe"
            }
          },
          "metadata": {}
        },
        {
          "output_type": "display_data",
          "data": {
            "text/plain": [
              "Kernel Rows:   0%|          | 0/576 [00:00<?, ?it/s]"
            ],
            "application/vnd.jupyter.widget-view+json": {
              "version_major": 2,
              "version_minor": 0,
              "model_id": "643c18c437d347818d5e05a73040e8e8"
            }
          },
          "metadata": {}
        }
      ]
    },
    {
      "cell_type": "code",
      "source": [
        "# --- Calculate Classical SVM Results ---\n",
        "print(\"\\nPredicting with Classical SVM...\")\n",
        "grid_resolution_svm = 0.2\n",
        "\n",
        "# Score the model on the unseen validation data\n",
        "svm_accuracy = svm_classifier.score(X_val_scaled, y_val)\n",
        "\n",
        "# Define plot boundaries based on the training data\n",
        "x_min, x_max = X_train_scaled[:, 0].min() - 0.5, X_train_scaled[:, 0].max() + 0.5\n",
        "y_min, y_max = X_train_scaled[:, 1].min() - 0.5, X_train_scaled[:, 1].max() + 0.5\n",
        "\n",
        "# Create the prediction grid\n",
        "xx_svm, yy_svm = np.meshgrid(np.arange(x_min, x_max, grid_resolution_svm), np.arange(y_min, y_max, grid_resolution_svm))\n",
        "grid_points_svm = np.c_[xx_svm.ravel(), yy_svm.ravel()]\n",
        "svm_predictions_grid = svm_classifier.predict(grid_points_svm)\n",
        "Z_svm = svm_predictions_grid.reshape(xx_svm.shape)"
      ],
      "metadata": {
        "id": "Alz_VNjA8PZt",
        "colab": {
          "base_uri": "https://localhost:8080/"
        },
        "outputId": "62ff8af3-e63f-4859-ff30-9f3b157892fe"
      },
      "execution_count": 13,
      "outputs": [
        {
          "output_type": "stream",
          "name": "stdout",
          "text": [
            "\n",
            "Predicting with Classical SVM...\n"
          ]
        }
      ]
    },
    {
      "cell_type": "code",
      "source": [
        "# --- Calculate VQC Results ---\n",
        "print(\"\\nPredicting with VQC...\")\n",
        "grid_resolution_vqc = 0.2\n",
        "\n",
        "# Calculate accuracy on the validation set using our defined function\n",
        "vqc_accuracy = accuracy(weights, bias, X_val_scaled, y_val)\n",
        "\n",
        "# Define plot boundaries based on the training data\n",
        "x_min, x_max = X_train_scaled[:, 0].min() - 0.5, X_train_scaled[:, 0].max() + 0.5\n",
        "y_min, y_max = X_train_scaled[:, 1].min() - 0.5, X_train_scaled[:, 1].max() + 0.5\n",
        "\n",
        "# Create the prediction grid\n",
        "xx_vqc, yy_vqc = np.meshgrid(np.arange(x_min, x_max, grid_resolution_vqc), np.arange(y_min, y_max, grid_resolution_vqc))\n",
        "grid_points_vqc = np.c_[xx_vqc.ravel(), yy_vqc.ravel()]\n",
        "vqc_predictions_grid = np.array([np.sign(variational_classifier(weights, bias, p)) for p in tqdm(grid_points_vqc, desc=\"VQC Grid\")]).reshape(xx_vqc.shape)\n"
      ],
      "metadata": {
        "colab": {
          "base_uri": "https://localhost:8080/",
          "height": 84,
          "referenced_widgets": [
            "aa3e66673f904ecbabd9d2ebb9e4f873",
            "8d509d083a1b4edabba6e6452e31f8f1",
            "c0a66dc0ca1a4e089c6e2b59d6dab47b",
            "c8ca78e523174acaa7627ec5a231fa38",
            "76a317d80dc048e391468e8c9727994f",
            "bcfa6343179747d0a1452255d8de4518",
            "4acbcce17f0b4e67802526329ef36047",
            "a4a03563f4f64b359fb1f4b2a8731954",
            "c126bf46df024989a292e415d3df2a6c",
            "ba184628a1a64459a8c679803f8b11b3",
            "cd11abb08786452187ab96c9e288257a"
          ]
        },
        "id": "qqqNomA6D01L",
        "outputId": "aa22cef7-4fb5-428c-ff8d-2fdc3e503f63"
      },
      "execution_count": 21,
      "outputs": [
        {
          "output_type": "stream",
          "name": "stdout",
          "text": [
            "\n",
            "Predicting with VQC...\n"
          ]
        },
        {
          "output_type": "display_data",
          "data": {
            "text/plain": [
              "VQC Grid:   0%|          | 0/576 [00:00<?, ?it/s]"
            ],
            "application/vnd.jupyter.widget-view+json": {
              "version_major": 2,
              "version_minor": 0,
              "model_id": "aa3e66673f904ecbabd9d2ebb9e4f873"
            }
          },
          "metadata": {}
        }
      ]
    },
    {
      "cell_type": "markdown",
      "source": [
        "**Plotting the Decision Boundaries**"
      ],
      "metadata": {
        "id": "z7J5yefnRaKH"
      }
    },
    {
      "cell_type": "code",
      "source": [
        "plt.style.use(\"seaborn-v0_8-whitegrid\")\n",
        "fig, (ax1, ax2, ax3) = plt.subplots(1, 3, figsize=(21, 6))\n",
        "\n",
        "# --- Plot QSVM Results ---\n",
        "# The decision boundary (Z_qsvm) and scatter points (y_val) are already on the same {-1, 1} scale.\n",
        "ax1.contourf(xx_qsvm, yy_qsvm, Z_qsvm, levels=[-1, 0, 1], alpha=0.3, colors=[\"royalblue\", \"gold\"])\n",
        "ax1.contour(xx_qsvm, yy_qsvm, Z_qsvm, levels=[0], colors=\"black\", linestyles=\"--\")\n",
        "# Plot validation data points\n",
        "ax1.scatter(X_val_scaled[y_val == 0, 0], X_val_scaled[y_val == 0, 1], c=\"royalblue\", marker=\"o\", edgecolors=\"k\", label=\"Class 0\")\n",
        "ax1.scatter(X_val_scaled[y_val == 1, 0], X_val_scaled[y_val == 1, 1], c=\"gold\", marker=\"s\", edgecolors=\"k\", label=\"Class 1\")\n",
        "ax1.set_title(f\"Quantum SVM (QSVM) Boundary\\nAccuracy: {qsvm_accuracy:.2%}\")\n",
        "ax1.set_xlabel(\"Feature 1\")\n",
        "ax1.set_ylabel(\"Feature 2\")\n",
        "ax1.legend(loc=\"upper left\")\n",
        "\n",
        "\n",
        "# --- Plot Classical SVM Results ---\n",
        "# The decision boundary (Z_svm) and scatter points (y_val) are already on the same {-1, 1} scale.\n",
        "ax2.contourf(xx_svm, yy_svm, Z_svm, levels=[-1, 0, 1], alpha=0.3, colors=[\"royalblue\", \"gold\"])\n",
        "ax2.contour(xx_svm, yy_svm, Z_svm, levels=[0], colors=\"black\", linestyles=\"--\")\n",
        "# Plot validation data points\n",
        "ax2.scatter(X_val_scaled[y_val == 0, 0], X_val_scaled[y_val == 0, 1], c=\"royalblue\", marker=\"o\", edgecolors=\"k\", label=\"Class 0\")\n",
        "ax2.scatter(X_val_scaled[y_val == 1, 0], X_val_scaled[y_val == 1, 1], c=\"gold\", marker=\"s\", edgecolors=\"k\", label=\"Class 1\")\n",
        "ax2.set_title(f\"Classical SVM (RBF Kernel) Boundary\\nAccuracy: {svm_accuracy:.2%}\")\n",
        "ax2.set_xlabel(\"Feature 1\")\n",
        "ax2.legend(loc=\"upper left\")\n",
        "\n",
        "\n",
        "# --- Plot VQC Results ---\n",
        "# The VQC plot is already correct, so no change is needed here.\n",
        "ax3.contourf(xx_vqc, yy_vqc, vqc_predictions_grid, levels=[-1, 0, 1], alpha=0.3, colors=[\"royalblue\", \"gold\"])\n",
        "ax3.contour(xx_vqc, yy_vqc, vqc_predictions_grid, levels=[0], colors=\"black\", linestyles=\"--\")\n",
        "# Plot validation data points\n",
        "ax3.scatter(X_val_scaled[y_val == 0, 0], X_val_scaled[y_val == 0, 1], c=\"royalblue\", marker=\"o\", edgecolors=\"k\", label=\"Class 0\")\n",
        "ax3.scatter(X_val_scaled[y_val == 1, 0], X_val_scaled[y_val == 1, 1], c=\"gold\", marker=\"s\", edgecolors=\"k\", label=\"Class 1\")\n",
        "ax3.set_title(f\"Variational Quantum Classifier (VQC) Boundary\\nAccuracy: {vqc_accuracy:.2%}\")\n",
        "ax3.set_xlabel(\"Feature 1\")\n",
        "ax3.legend(loc=\"upper left\")\n",
        "\n",
        "\n",
        "plt.tight_layout()\n",
        "plt.show()\n",
        "\n",
        "print(f\"\\nQSVM Accuracy: {qsvm_accuracy:.4f}\")\n",
        "print(f\"VQC Accuracy: {vqc_accuracy:.4f}\")\n",
        "print(f\"Classical SVM Accuracy: {svm_accuracy:.4f}\")"
      ],
      "metadata": {
        "colab": {
          "base_uri": "https://localhost:8080/",
          "height": 411
        },
        "id": "I-XC6_OPT6tS",
        "outputId": "1a86dff6-4380-4b19-994d-b7f3be53f731"
      },
      "execution_count": 22,
      "outputs": [
        {
          "output_type": "display_data",
          "data": {
            "text/plain": [
              "<Figure size 2100x600 with 3 Axes>"
            ],
            "image/png": "[encoded data removed]"
          },
          "metadata": {}
        },
        {
          "output_type": "stream",
          "name": "stdout",
          "text": [
            "\n",
            "QSVM Accuracy: 0.8700\n",
            "VQC Accuracy: 0.5000\n",
            "Classical SVM Accuracy: 0.9800\n"
          ]
        }
      ]
    }
  ],
  "metadata": {
    "colab": {
      "provenance": [],
      "gpuType": "T4"
    },
    "kernelspec": {
      "display_name": "Python 3",
      "name": "python3"
    },
    "widgets": {
      "application/vnd.jupyter.widget-state+json": {
        "cf1aa85399564c13b31847de6e102799": {
          "model_module": "@jupyter-widgets/controls",
          "model_name": "HBoxModel",
          "model_module_version": "1.5.0",
          "state": {
            "_dom_classes": [],
            "_model_module": "@jupyter-widgets/controls",
            "_model_module_version": "1.5.0",
            "_model_name": "HBoxModel",
            "_view_count": null,
            "_view_module": "@jupyter-widgets/controls",
            "_view_module_version": "1.5.0",
            "_view_name": "HBoxView",
            "box_style": "",
            "children": [
              "IPY_MODEL_4e0ddd0bf0394495b2932d388c4e712b",
              "IPY_MODEL_88cc0059926443858e51e51221ef8e33",
              "IPY_MODEL_ec74e23e1d07475285bd059db4c2f1c5"
            ],
            "layout": "IPY_MODEL_32665c668c2c427189718ddc8bff557b"
          }
        },
        "4e0ddd0bf0394495b2932d388c4e712b": {
          "model_module": "@jupyter-widgets/controls",
          "model_name": "HTMLModel",
          "model_module_version": "1.5.0",
          "state": {
            "_dom_classes": [],
            "_model_module": "@jupyter-widgets/controls",
            "_model_module_version": "1.5.0",
            "_model_name": "HTMLModel",
            "_view_count": null,
            "_view_module": "@jupyter-widgets/controls",
            "_view_module_version": "1.5.0",
            "_view_name": "HTMLView",
            "description": "",
            "description_tooltip": null,
            "layout": "IPY_MODEL_51e3fb7eaa57417c9bb87fb93be0387c",
            "placeholder": "​",
            "style": "IPY_MODEL_474fdaa9e1294ec8983f763c69dff0c1",
            "value": "Kernel Rows: 100%"
          }
        },
        "88cc0059926443858e51e51221ef8e33": {
          "model_module": "@jupyter-widgets/controls",
          "model_name": "FloatProgressModel",
          "model_module_version": "1.5.0",
          "state": {
            "_dom_classes": [],
            "_model_module": "@jupyter-widgets/controls",
            "_model_module_version": "1.5.0",
            "_model_name": "FloatProgressModel",
            "_view_count": null,
            "_view_module": "@jupyter-widgets/controls",
            "_view_module_version": "1.5.0",
            "_view_name": "ProgressView",
            "bar_style": "success",
            "description": "",
            "description_tooltip": null,
            "layout": "IPY_MODEL_cd24bc81bb084113a8d0c5725dbbb3c2",
            "max": 100,
            "min": 0,
            "orientation": "horizontal",
            "style": "IPY_MODEL_82c39d5a2f6d495da230bcebeb0066f0",
            "value": 100
          }
        },
        "ec74e23e1d07475285bd059db4c2f1c5": {
          "model_module": "@jupyter-widgets/controls",
          "model_name": "HTMLModel",
          "model_module_version": "1.5.0",
          "state": {
            "_dom_classes": [],
            "_model_module": "@jupyter-widgets/controls",
            "_model_module_version": "1.5.0",
            "_model_name": "HTMLModel",
            "_view_count": null,
            "_view_module": "@jupyter-widgets/controls",
            "_view_module_version": "1.5.0",
            "_view_name": "HTMLView",
            "description": "",
            "description_tooltip": null,
            "layout": "IPY_MODEL_42b4ff2fb1654aac85d34119a39e4c21",
            "placeholder": "​",
            "style": "IPY_MODEL_6fa23c898df74273963981d2cfe42521",
            "value": " 100/100 [00:24&lt;00:00,  8.72it/s]"
          }
        },
        "32665c668c2c427189718ddc8bff557b": {
          "model_module": "@jupyter-widgets/base",
          "model_name": "LayoutModel",
          "model_module_version": "1.2.0",
          "state": {
            "_model_module": "@jupyter-widgets/base",
            "_model_module_version": "1.2.0",
            "_model_name": "LayoutModel",
            "_view_count": null,
            "_view_module": "@jupyter-widgets/base",
            "_view_module_version": "1.2.0",
            "_view_name": "LayoutView",
            "align_content": null,
            "align_items": null,
            "align_self": null,
            "border": null,
            "bottom": null,
            "display": null,
            "flex": null,
            "flex_flow": null,
            "grid_area": null,
            "grid_auto_columns": null,
            "grid_auto_flow": null,
            "grid_auto_rows": null,
            "grid_column": null,
            "grid_gap": null,
            "grid_row": null,
            "grid_template_areas": null,
            "grid_template_columns": null,
            "grid_template_rows": null,
            "height": null,
            "justify_content": null,
            "justify_items": null,
            "left": null,
            "margin": null,
            "max_height": null,
            "max_width": null,
            "min_height": null,
            "min_width": null,
            "object_fit": null,
            "object_position": null,
            "order": null,
            "overflow": null,
            "overflow_x": null,
            "overflow_y": null,
            "padding": null,
            "right": null,
            "top": null,
            "visibility": null,
            "width": null
          }
        },
        "51e3fb7eaa57417c9bb87fb93be0387c": {
          "model_module": "@jupyter-widgets/base",
          "model_name": "LayoutModel",
          "model_module_version": "1.2.0",
          "state": {
            "_model_module": "@jupyter-widgets/base",
            "_model_module_version": "1.2.0",
            "_model_name": "LayoutModel",
            "_view_count": null,
            "_view_module": "@jupyter-widgets/base",
            "_view_module_version": "1.2.0",
            "_view_name": "LayoutView",
            "align_content": null,
            "align_items": null,
            "align_self": null,
            "border": null,
            "bottom": null,
            "display": null,
            "flex": null,
            "flex_flow": null,
            "grid_area": null,
            "grid_auto_columns": null,
            "grid_auto_flow": null,
            "grid_auto_rows": null,
            "grid_column": null,
            "grid_gap": null,
            "grid_row": null,
            "grid_template_areas": null,
            "grid_template_columns": null,
            "grid_template_rows": null,
            "height": null,
            "justify_content": null,
            "justify_items": null,
            "left": null,
            "margin": null,
            "max_height": null,
            "max_width": null,
            "min_height": null,
            "min_width": null,
            "object_fit": null,
            "object_position": null,
            "order": null,
            "overflow": null,
            "overflow_x": null,
            "overflow_y": null,
            "padding": null,
            "right": null,
            "top": null,
            "visibility": null,
            "width": null
          }
        },
        "474fdaa9e1294ec8983f763c69dff0c1": {
          "model_module": "@jupyter-widgets/controls",
          "model_name": "DescriptionStyleModel",
          "model_module_version": "1.5.0",
          "state": {
            "_model_module": "@jupyter-widgets/controls",
            "_model_module_version": "1.5.0",
            "_model_name": "DescriptionStyleModel",
            "_view_count": null,
            "_view_module": "@jupyter-widgets/base",
            "_view_module_version": "1.2.0",
            "_view_name": "StyleView",
            "description_width": ""
          }
        },
        "cd24bc81bb084113a8d0c5725dbbb3c2": {
          "model_module": "@jupyter-widgets/base",
          "model_name": "LayoutModel",
          "model_module_version": "1.2.0",
          "state": {
            "_model_module": "@jupyter-widgets/base",
            "_model_module_version": "1.2.0",
            "_model_name": "LayoutModel",
            "_view_count": null,
            "_view_module": "@jupyter-widgets/base",
            "_view_module_version": "1.2.0",
            "_view_name": "LayoutView",
            "align_content": null,
            "align_items": null,
            "align_self": null,
            "border": null,
            "bottom": null,
            "display": null,
            "flex": null,
            "flex_flow": null,
            "grid_area": null,
            "grid_auto_columns": null,
            "grid_auto_flow": null,
            "grid_auto_rows": null,
            "grid_column": null,
            "grid_gap": null,
            "grid_row": null,
            "grid_template_areas": null,
            "grid_template_columns": null,
            "grid_template_rows": null,
            "height": null,
            "justify_content": null,
            "justify_items": null,
            "left": null,
            "margin": null,
            "max_height": null,
            "max_width": null,
            "min_height": null,
            "min_width": null,
            "object_fit": null,
            "object_position": null,
            "order": null,
            "overflow": null,
            "overflow_x": null,
            "overflow_y": null,
            "padding": null,
            "right": null,
            "top": null,
            "visibility": null,
            "width": null
          }
        },
        "82c39d5a2f6d495da230bcebeb0066f0": {
          "model_module": "@jupyter-widgets/controls",
          "model_name": "ProgressStyleModel",
          "model_module_version": "1.5.0",
          "state": {
            "_model_module": "@jupyter-widgets/controls",
            "_model_module_version": "1.5.0",
            "_model_name": "ProgressStyleModel",
            "_view_count": null,
            "_view_module": "@jupyter-widgets/base",
            "_view_module_version": "1.2.0",
            "_view_name": "StyleView",
            "bar_color": null,
            "description_width": ""
          }
        },
        "42b4ff2fb1654aac85d34119a39e4c21": {
          "model_module": "@jupyter-widgets/base",
          "model_name": "LayoutModel",
          "model_module_version": "1.2.0",
          "state": {
            "_model_module": "@jupyter-widgets/base",
            "_model_module_version": "1.2.0",
            "_model_name": "LayoutModel",
            "_view_count": null,
            "_view_module": "@jupyter-widgets/base",
            "_view_module_version": "1.2.0",
            "_view_name": "LayoutView",
            "align_content": null,
            "align_items": null,
            "align_self": null,
            "border": null,
            "bottom": null,
            "display": null,
            "flex": null,
            "flex_flow": null,
            "grid_area": null,
            "grid_auto_columns": null,
            "grid_auto_flow": null,
            "grid_auto_rows": null,
            "grid_column": null,
            "grid_gap": null,
            "grid_row": null,
            "grid_template_areas": null,
            "grid_template_columns": null,
            "grid_template_rows": null,
            "height": null,
            "justify_content": null,
            "justify_items": null,
            "left": null,
            "margin": null,
            "max_height": null,
            "max_width": null,
            "min_height": null,
            "min_width": null,
            "object_fit": null,
            "object_position": null,
            "order": null,
            "overflow": null,
            "overflow_x": null,
            "overflow_y": null,
            "padding": null,
            "right": null,
            "top": null,
            "visibility": null,
            "width": null
          }
        },
        "6fa23c898df74273963981d2cfe42521": {
          "model_module": "@jupyter-widgets/controls",
          "model_name": "DescriptionStyleModel",
          "model_module_version": "1.5.0",
          "state": {
            "_model_module": "@jupyter-widgets/controls",
            "_model_module_version": "1.5.0",
            "_model_name": "DescriptionStyleModel",
            "_view_count": null,
            "_view_module": "@jupyter-widgets/base",
            "_view_module_version": "1.2.0",
            "_view_name": "StyleView",
            "description_width": ""
          }
        },
        "26e49284384c40fea31bcd7c2be5c8cd": {
          "model_module": "@jupyter-widgets/controls",
          "model_name": "HBoxModel",
          "model_module_version": "1.5.0",
          "state": {
            "_dom_classes": [],
            "_model_module": "@jupyter-widgets/controls",
            "_model_module_version": "1.5.0",
            "_model_name": "HBoxModel",
            "_view_count": null,
            "_view_module": "@jupyter-widgets/controls",
            "_view_module_version": "1.5.0",
            "_view_name": "HBoxView",
            "box_style": "",
            "children": [
              "IPY_MODEL_c322aa58e3c84ddbab74ab9d09f8cee4",
              "IPY_MODEL_dbd4ae1d34e141f594640e21e024459e",
              "IPY_MODEL_5cc17b20e39e4c6f8d7dab23cfdde9c5"
            ],
            "layout": "IPY_MODEL_3eabe59de8b548f1b7736a3996c6a771"
          }
        },
        "c322aa58e3c84ddbab74ab9d09f8cee4": {
          "model_module": "@jupyter-widgets/controls",
          "model_name": "HTMLModel",
          "model_module_version": "1.5.0",
          "state": {
            "_dom_classes": [],
            "_model_module": "@jupyter-widgets/controls",
            "_model_module_version": "1.5.0",
            "_model_name": "HTMLModel",
            "_view_count": null,
            "_view_module": "@jupyter-widgets/controls",
            "_view_module_version": "1.5.0",
            "_view_name": "HTMLView",
            "description": "",
            "description_tooltip": null,
            "layout": "IPY_MODEL_414ee85aa4d342a0b28e665acd69143e",
            "placeholder": "​",
            "style": "IPY_MODEL_15e049e695094f8b80159a8dc595f731",
            "value": "Kernel Rows: 100%"
          }
        },
        "dbd4ae1d34e141f594640e21e024459e": {
          "model_module": "@jupyter-widgets/controls",
          "model_name": "FloatProgressModel",
          "model_module_version": "1.5.0",
          "state": {
            "_dom_classes": [],
            "_model_module": "@jupyter-widgets/controls",
            "_model_module_version": "1.5.0",
            "_model_name": "FloatProgressModel",
            "_view_count": null,
            "_view_module": "@jupyter-widgets/controls",
            "_view_module_version": "1.5.0",
            "_view_name": "ProgressView",
            "bar_style": "success",
            "description": "",
            "description_tooltip": null,
            "layout": "IPY_MODEL_de7ace3789b2438c91cf6f6860892bc7",
            "max": 100,
            "min": 0,
            "orientation": "horizontal",
            "style": "IPY_MODEL_1cbd9f043f374184918717393d45d459",
            "value": 100
          }
        },
        "5cc17b20e39e4c6f8d7dab23cfdde9c5": {
          "model_module": "@jupyter-widgets/controls",
          "model_name": "HTMLModel",
          "model_module_version": "1.5.0",
          "state": {
            "_dom_classes": [],
            "_model_module": "@jupyter-widgets/controls",
            "_model_module_version": "1.5.0",
            "_model_name": "HTMLModel",
            "_view_count": null,
            "_view_module": "@jupyter-widgets/controls",
            "_view_module_version": "1.5.0",
            "_view_name": "HTMLView",
            "description": "",
            "description_tooltip": null,
            "layout": "IPY_MODEL_df7525b299bc4e159a85438ae8736301",
            "placeholder": "​",
            "style": "IPY_MODEL_9f5eb445d0dd4220b7adf9714d00c4fd",
            "value": " 100/100 [00:12&lt;00:00,  8.72it/s]"
          }
        },
        "3eabe59de8b548f1b7736a3996c6a771": {
          "model_module": "@jupyter-widgets/base",
          "model_name": "LayoutModel",
          "model_module_version": "1.2.0",
          "state": {
            "_model_module": "@jupyter-widgets/base",
            "_model_module_version": "1.2.0",
            "_model_name": "LayoutModel",
            "_view_count": null,
            "_view_module": "@jupyter-widgets/base",
            "_view_module_version": "1.2.0",
            "_view_name": "LayoutView",
            "align_content": null,
            "align_items": null,
            "align_self": null,
            "border": null,
            "bottom": null,
            "display": null,
            "flex": null,
            "flex_flow": null,
            "grid_area": null,
            "grid_auto_columns": null,
            "grid_auto_flow": null,
            "grid_auto_rows": null,
            "grid_column": null,
            "grid_gap": null,
            "grid_row": null,
            "grid_template_areas": null,
            "grid_template_columns": null,
            "grid_template_rows": null,
            "height": null,
            "justify_content": null,
            "justify_items": null,
            "left": null,
            "margin": null,
            "max_height": null,
            "max_width": null,
            "min_height": null,
            "min_width": null,
            "object_fit": null,
            "object_position": null,
            "order": null,
            "overflow": null,
            "overflow_x": null,
            "overflow_y": null,
            "padding": null,
            "right": null,
            "top": null,
            "visibility": null,
            "width": null
          }
        },
        "414ee85aa4d342a0b28e665acd69143e": {
          "model_module": "@jupyter-widgets/base",
          "model_name": "LayoutModel",
          "model_module_version": "1.2.0",
          "state": {
            "_model_module": "@jupyter-widgets/base",
            "_model_module_version": "1.2.0",
            "_model_name": "LayoutModel",
            "_view_count": null,
            "_view_module": "@jupyter-widgets/base",
            "_view_module_version": "1.2.0",
            "_view_name": "LayoutView",
            "align_content": null,
            "align_items": null,
            "align_self": null,
            "border": null,
            "bottom": null,
            "display": null,
            "flex": null,
            "flex_flow": null,
            "grid_area": null,
            "grid_auto_columns": null,
            "grid_auto_flow": null,
            "grid_auto_rows": null,
            "grid_column": null,
            "grid_gap": null,
            "grid_row": null,
            "grid_template_areas": null,
            "grid_template_columns": null,
            "grid_template_rows": null,
            "height": null,
            "justify_content": null,
            "justify_items": null,
            "left": null,
            "margin": null,
            "max_height": null,
            "max_width": null,
            "min_height": null,
            "min_width": null,
            "object_fit": null,
            "object_position": null,
            "order": null,
            "overflow": null,
            "overflow_x": null,
            "overflow_y": null,
            "padding": null,
            "right": null,
            "top": null,
            "visibility": null,
            "width": null
          }
        },
        "15e049e695094f8b80159a8dc595f731": {
          "model_module": "@jupyter-widgets/controls",
          "model_name": "DescriptionStyleModel",
          "model_module_version": "1.5.0",
          "state": {
            "_model_module": "@jupyter-widgets/controls",
            "_model_module_version": "1.5.0",
            "_model_name": "DescriptionStyleModel",
            "_view_count": null,
            "_view_module": "@jupyter-widgets/base",
            "_view_module_version": "1.2.0",
            "_view_name": "StyleView",
            "description_width": ""
          }
        },
        "de7ace3789b2438c91cf6f6860892bc7": {
          "model_module": "@jupyter-widgets/base",
          "model_name": "LayoutModel",
          "model_module_version": "1.2.0",
          "state": {
            "_model_module": "@jupyter-widgets/base",
            "_model_module_version": "1.2.0",
            "_model_name": "LayoutModel",
            "_view_count": null,
            "_view_module": "@jupyter-widgets/base",
            "_view_module_version": "1.2.0",
            "_view_name": "LayoutView",
            "align_content": null,
            "align_items": null,
            "align_self": null,
            "border": null,
            "bottom": null,
            "display": null,
            "flex": null,
            "flex_flow": null,
            "grid_area": null,
            "grid_auto_columns": null,
            "grid_auto_flow": null,
            "grid_auto_rows": null,
            "grid_column": null,
            "grid_gap": null,
            "grid_row": null,
            "grid_template_areas": null,
            "grid_template_columns": null,
            "grid_template_rows": null,
            "height": null,
            "justify_content": null,
            "justify_items": null,
            "left": null,
            "margin": null,
            "max_height": null,
            "max_width": null,
            "min_height": null,
            "min_width": null,
            "object_fit": null,
            "object_position": null,
            "order": null,
            "overflow": null,
            "overflow_x": null,
            "overflow_y": null,
            "padding": null,
            "right": null,
            "top": null,
            "visibility": null,
            "width": null
          }
        },
        "1cbd9f043f374184918717393d45d459": {
          "model_module": "@jupyter-widgets/controls",
          "model_name": "ProgressStyleModel",
          "model_module_version": "1.5.0",
          "state": {
            "_model_module": "@jupyter-widgets/controls",
            "_model_module_version": "1.5.0",
            "_model_name": "ProgressStyleModel",
            "_view_count": null,
            "_view_module": "@jupyter-widgets/base",
            "_view_module_version": "1.2.0",
            "_view_name": "StyleView",
            "bar_color": null,
            "description_width": ""
          }
        },
        "df7525b299bc4e159a85438ae8736301": {
          "model_module": "@jupyter-widgets/base",
          "model_name": "LayoutModel",
          "model_module_version": "1.2.0",
          "state": {
            "_model_module": "@jupyter-widgets/base",
            "_model_module_version": "1.2.0",
            "_model_name": "LayoutModel",
            "_view_count": null,
            "_view_module": "@jupyter-widgets/base",
            "_view_module_version": "1.2.0",
            "_view_name": "LayoutView",
            "align_content": null,
            "align_items": null,
            "align_self": null,
            "border": null,
            "bottom": null,
            "display": null,
            "flex": null,
            "flex_flow": null,
            "grid_area": null,
            "grid_auto_columns": null,
            "grid_auto_flow": null,
            "grid_auto_rows": null,
            "grid_column": null,
            "grid_gap": null,
            "grid_row": null,
            "grid_template_areas": null,
            "grid_template_columns": null,
            "grid_template_rows": null,
            "height": null,
            "justify_content": null,
            "justify_items": null,
            "left": null,
            "margin": null,
            "max_height": null,
            "max_width": null,
            "min_height": null,
            "min_width": null,
            "object_fit": null,
            "object_position": null,
            "order": null,
            "overflow": null,
            "overflow_x": null,
            "overflow_y": null,
            "padding": null,
            "right": null,
            "top": null,
            "visibility": null,
            "width": null
          }
        },
        "9f5eb445d0dd4220b7adf9714d00c4fd": {
          "model_module": "@jupyter-widgets/controls",
          "model_name": "DescriptionStyleModel",
          "model_module_version": "1.5.0",
          "state": {
            "_model_module": "@jupyter-widgets/controls",
            "_model_module_version": "1.5.0",
            "_model_name": "DescriptionStyleModel",
            "_view_count": null,
            "_view_module": "@jupyter-widgets/base",
            "_view_module_version": "1.2.0",
            "_view_name": "StyleView",
            "description_width": ""
          }
        },
        "43e0fc598d26474a93c2fb66972e2177": {
          "model_module": "@jupyter-widgets/controls",
          "model_name": "HBoxModel",
          "model_module_version": "1.5.0",
          "state": {
            "_dom_classes": [],
            "_model_module": "@jupyter-widgets/controls",
            "_model_module_version": "1.5.0",
            "_model_name": "HBoxModel",
            "_view_count": null,
            "_view_module": "@jupyter-widgets/controls",
            "_view_module_version": "1.5.0",
            "_view_name": "HBoxView",
            "box_style": "",
            "children": [
              "IPY_MODEL_eaa4dce4013e40b0b9be23ea3e2b90df",
              "IPY_MODEL_b307ea139e7b45cfbdd2ea99c95f443d",
              "IPY_MODEL_d55e85651bf2495da1445140e3e880b8"
            ],
            "layout": "IPY_MODEL_221ed59d39a64c51b6ad899f1ee05751"
          }
        },
        "eaa4dce4013e40b0b9be23ea3e2b90df": {
          "model_module": "@jupyter-widgets/controls",
          "model_name": "HTMLModel",
          "model_module_version": "1.5.0",
          "state": {
            "_dom_classes": [],
            "_model_module": "@jupyter-widgets/controls",
            "_model_module_version": "1.5.0",
            "_model_name": "HTMLModel",
            "_view_count": null,
            "_view_module": "@jupyter-widgets/controls",
            "_view_module_version": "1.5.0",
            "_view_name": "HTMLView",
            "description": "",
            "description_tooltip": null,
            "layout": "IPY_MODEL_418e6001a02040f2b889ecbae6f4c3b3",
            "placeholder": "​",
            "style": "IPY_MODEL_23886793f63f41e5a1d71d1e3a374267",
            "value": "VQC Training: 100%"
          }
        },
        "b307ea139e7b45cfbdd2ea99c95f443d": {
          "model_module": "@jupyter-widgets/controls",
          "model_name": "FloatProgressModel",
          "model_module_version": "1.5.0",
          "state": {
            "_dom_classes": [],
            "_model_module": "@jupyter-widgets/controls",
            "_model_module_version": "1.5.0",
            "_model_name": "FloatProgressModel",
            "_view_count": null,
            "_view_module": "@jupyter-widgets/controls",
            "_view_module_version": "1.5.0",
            "_view_name": "ProgressView",
            "bar_style": "success",
            "description": "",
            "description_tooltip": null,
            "layout": "IPY_MODEL_5682235ff1ac49879cd1369c2aaf714f",
            "max": 100,
            "min": 0,
            "orientation": "horizontal",
            "style": "IPY_MODEL_c22db186baeb4fe18c2834ee8bdf4e8a",
            "value": 100
          }
        },
        "d55e85651bf2495da1445140e3e880b8": {
          "model_module": "@jupyter-widgets/controls",
          "model_name": "HTMLModel",
          "model_module_version": "1.5.0",
          "state": {
            "_dom_classes": [],
            "_model_module": "@jupyter-widgets/controls",
            "_model_module_version": "1.5.0",
            "_model_name": "HTMLModel",
            "_view_count": null,
            "_view_module": "@jupyter-widgets/controls",
            "_view_module_version": "1.5.0",
            "_view_name": "HTMLView",
            "description": "",
            "description_tooltip": null,
            "layout": "IPY_MODEL_51ce2fc9e3a34b38a7d07a3a58c13f6e",
            "placeholder": "​",
            "style": "IPY_MODEL_df76d345384d436699c77549e19e2886",
            "value": " 100/100 [00:05&lt;00:00,  9.62it/s]"
          }
        },
        "221ed59d39a64c51b6ad899f1ee05751": {
          "model_module": "@jupyter-widgets/base",
          "model_name": "LayoutModel",
          "model_module_version": "1.2.0",
          "state": {
            "_model_module": "@jupyter-widgets/base",
            "_model_module_version": "1.2.0",
            "_model_name": "LayoutModel",
            "_view_count": null,
            "_view_module": "@jupyter-widgets/base",
            "_view_module_version": "1.2.0",
            "_view_name": "LayoutView",
            "align_content": null,
            "align_items": null,
            "align_self": null,
            "border": null,
            "bottom": null,
            "display": null,
            "flex": null,
            "flex_flow": null,
            "grid_area": null,
            "grid_auto_columns": null,
            "grid_auto_flow": null,
            "grid_auto_rows": null,
            "grid_column": null,
            "grid_gap": null,
            "grid_row": null,
            "grid_template_areas": null,
            "grid_template_columns": null,
            "grid_template_rows": null,
            "height": null,
            "justify_content": null,
            "justify_items": null,
            "left": null,
            "margin": null,
            "max_height": null,
            "max_width": null,
            "min_height": null,
            "min_width": null,
            "object_fit": null,
            "object_position": null,
            "order": null,
            "overflow": null,
            "overflow_x": null,
            "overflow_y": null,
            "padding": null,
            "right": null,
            "top": null,
            "visibility": null,
            "width": null
          }
        },
        "418e6001a02040f2b889ecbae6f4c3b3": {
          "model_module": "@jupyter-widgets/base",
          "model_name": "LayoutModel",
          "model_module_version": "1.2.0",
          "state": {
            "_model_module": "@jupyter-widgets/base",
            "_model_module_version": "1.2.0",
            "_model_name": "LayoutModel",
            "_view_count": null,
            "_view_module": "@jupyter-widgets/base",
            "_view_module_version": "1.2.0",
            "_view_name": "LayoutView",
            "align_content": null,
            "align_items": null,
            "align_self": null,
            "border": null,
            "bottom": null,
            "display": null,
            "flex": null,
            "flex_flow": null,
            "grid_area": null,
            "grid_auto_columns": null,
            "grid_auto_flow": null,
            "grid_auto_rows": null,
            "grid_column": null,
            "grid_gap": null,
            "grid_row": null,
            "grid_template_areas": null,
            "grid_template_columns": null,
            "grid_template_rows": null,
            "height": null,
            "justify_content": null,
            "justify_items": null,
            "left": null,
            "margin": null,
            "max_height": null,
            "max_width": null,
            "min_height": null,
            "min_width": null,
            "object_fit": null,
            "object_position": null,
            "order": null,
            "overflow": null,
            "overflow_x": null,
            "overflow_y": null,
            "padding": null,
            "right": null,
            "top": null,
            "visibility": null,
            "width": null
          }
        },
        "23886793f63f41e5a1d71d1e3a374267": {
          "model_module": "@jupyter-widgets/controls",
          "model_name": "DescriptionStyleModel",
          "model_module_version": "1.5.0",
          "state": {
            "_model_module": "@jupyter-widgets/controls",
            "_model_module_version": "1.5.0",
            "_model_name": "DescriptionStyleModel",
            "_view_count": null,
            "_view_module": "@jupyter-widgets/base",
            "_view_module_version": "1.2.0",
            "_view_name": "StyleView",
            "description_width": ""
          }
        },
        "5682235ff1ac49879cd1369c2aaf714f": {
          "model_module": "@jupyter-widgets/base",
          "model_name": "LayoutModel",
          "model_module_version": "1.2.0",
          "state": {
            "_model_module": "@jupyter-widgets/base",
            "_model_module_version": "1.2.0",
            "_model_name": "LayoutModel",
            "_view_count": null,
            "_view_module": "@jupyter-widgets/base",
            "_view_module_version": "1.2.0",
            "_view_name": "LayoutView",
            "align_content": null,
            "align_items": null,
            "align_self": null,
            "border": null,
            "bottom": null,
            "display": null,
            "flex": null,
            "flex_flow": null,
            "grid_area": null,
            "grid_auto_columns": null,
            "grid_auto_flow": null,
            "grid_auto_rows": null,
            "grid_column": null,
            "grid_gap": null,
            "grid_row": null,
            "grid_template_areas": null,
            "grid_template_columns": null,
            "grid_template_rows": null,
            "height": null,
            "justify_content": null,
            "justify_items": null,
            "left": null,
            "margin": null,
            "max_height": null,
            "max_width": null,
            "min_height": null,
            "min_width": null,
            "object_fit": null,
            "object_position": null,
            "order": null,
            "overflow": null,
            "overflow_x": null,
            "overflow_y": null,
            "padding": null,
            "right": null,
            "top": null,
            "visibility": null,
            "width": null
          }
        },
        "c22db186baeb4fe18c2834ee8bdf4e8a": {
          "model_module": "@jupyter-widgets/controls",
          "model_name": "ProgressStyleModel",
          "model_module_version": "1.5.0",
          "state": {
            "_model_module": "@jupyter-widgets/controls",
            "_model_module_version": "1.5.0",
            "_model_name": "ProgressStyleModel",
            "_view_count": null,
            "_view_module": "@jupyter-widgets/base",
            "_view_module_version": "1.2.0",
            "_view_name": "StyleView",
            "bar_color": null,
            "description_width": ""
          }
        },
        "51ce2fc9e3a34b38a7d07a3a58c13f6e": {
          "model_module": "@jupyter-widgets/base",
          "model_name": "LayoutModel",
          "model_module_version": "1.2.0",
          "state": {
            "_model_module": "@jupyter-widgets/base",
            "_model_module_version": "1.2.0",
            "_model_name": "LayoutModel",
            "_view_count": null,
            "_view_module": "@jupyter-widgets/base",
            "_view_module_version": "1.2.0",
            "_view_name": "LayoutView",
            "align_content": null,
            "align_items": null,
            "align_self": null,
            "border": null,
            "bottom": null,
            "display": null,
            "flex": null,
            "flex_flow": null,
            "grid_area": null,
            "grid_auto_columns": null,
            "grid_auto_flow": null,
            "grid_auto_rows": null,
            "grid_column": null,
            "grid_gap": null,
            "grid_row": null,
            "grid_template_areas": null,
            "grid_template_columns": null,
            "grid_template_rows": null,
            "height": null,
            "justify_content": null,
            "justify_items": null,
            "left": null,
            "margin": null,
            "max_height": null,
            "max_width": null,
            "min_height": null,
            "min_width": null,
            "object_fit": null,
            "object_position": null,
            "order": null,
            "overflow": null,
            "overflow_x": null,
            "overflow_y": null,
            "padding": null,
            "right": null,
            "top": null,
            "visibility": null,
            "width": null
          }
        },
        "df76d345384d436699c77549e19e2886": {
          "model_module": "@jupyter-widgets/controls",
          "model_name": "DescriptionStyleModel",
          "model_module_version": "1.5.0",
          "state": {
            "_model_module": "@jupyter-widgets/controls",
            "_model_module_version": "1.5.0",
            "_model_name": "DescriptionStyleModel",
            "_view_count": null,
            "_view_module": "@jupyter-widgets/base",
            "_view_module_version": "1.2.0",
            "_view_name": "StyleView",
            "description_width": ""
          }
        },
        "99757a9861bd4072a38097928d99f7fe": {
          "model_module": "@jupyter-widgets/controls",
          "model_name": "HBoxModel",
          "model_module_version": "1.5.0",
          "state": {
            "_dom_classes": [],
            "_model_module": "@jupyter-widgets/controls",
            "_model_module_version": "1.5.0",
            "_model_name": "HBoxModel",
            "_view_count": null,
            "_view_module": "@jupyter-widgets/controls",
            "_view_module_version": "1.5.0",
            "_view_name": "HBoxView",
            "box_style": "",
            "children": [
              "IPY_MODEL_a84ddda4410d4e76abaa73d1d0480e50",
              "IPY_MODEL_8b20a77467cc4f5dbbb63378fc26162a",
              "IPY_MODEL_e1699f662da94931b4c6cc1d9ca321b9"
            ],
            "layout": "IPY_MODEL_eceab3f8bfe14e7fa9895ba7c1f0e6d2"
          }
        },
        "a84ddda4410d4e76abaa73d1d0480e50": {
          "model_module": "@jupyter-widgets/controls",
          "model_name": "HTMLModel",
          "model_module_version": "1.5.0",
          "state": {
            "_dom_classes": [],
            "_model_module": "@jupyter-widgets/controls",
            "_model_module_version": "1.5.0",
            "_model_name": "HTMLModel",
            "_view_count": null,
            "_view_module": "@jupyter-widgets/controls",
            "_view_module_version": "1.5.0",
            "_view_name": "HTMLView",
            "description": "",
            "description_tooltip": null,
            "layout": "IPY_MODEL_55f2e8d13ae447efba4bbc714df78b39",
            "placeholder": "​",
            "style": "IPY_MODEL_9773b56f7d914b57bb5763f88157c6ad",
            "value": "Kernel Rows: 100%"
          }
        },
        "8b20a77467cc4f5dbbb63378fc26162a": {
          "model_module": "@jupyter-widgets/controls",
          "model_name": "FloatProgressModel",
          "model_module_version": "1.5.0",
          "state": {
            "_dom_classes": [],
            "_model_module": "@jupyter-widgets/controls",
            "_model_module_version": "1.5.0",
            "_model_name": "FloatProgressModel",
            "_view_count": null,
            "_view_module": "@jupyter-widgets/controls",
            "_view_module_version": "1.5.0",
            "_view_name": "ProgressView",
            "bar_style": "success",
            "description": "",
            "description_tooltip": null,
            "layout": "IPY_MODEL_07a072ec9a464a3ea37ecd5e9538f203",
            "max": 100,
            "min": 0,
            "orientation": "horizontal",
            "style": "IPY_MODEL_abb54c92bf3b445cb252b579460971f1",
            "value": 100
          }
        },
        "e1699f662da94931b4c6cc1d9ca321b9": {
          "model_module": "@jupyter-widgets/controls",
          "model_name": "HTMLModel",
          "model_module_version": "1.5.0",
          "state": {
            "_dom_classes": [],
            "_model_module": "@jupyter-widgets/controls",
            "_model_module_version": "1.5.0",
            "_model_name": "HTMLModel",
            "_view_count": null,
            "_view_module": "@jupyter-widgets/controls",
            "_view_module_version": "1.5.0",
            "_view_name": "HTMLView",
            "description": "",
            "description_tooltip": null,
            "layout": "IPY_MODEL_87fa7d0e332f401faaebaec02bf1e535",
            "placeholder": "​",
            "style": "IPY_MODEL_0ad7facab5d44c5490996888332c44af",
            "value": " 100/100 [00:13&lt;00:00,  3.86it/s]"
          }
        },
        "eceab3f8bfe14e7fa9895ba7c1f0e6d2": {
          "model_module": "@jupyter-widgets/base",
          "model_name": "LayoutModel",
          "model_module_version": "1.2.0",
          "state": {
            "_model_module": "@jupyter-widgets/base",
            "_model_module_version": "1.2.0",
            "_model_name": "LayoutModel",
            "_view_count": null,
            "_view_module": "@jupyter-widgets/base",
            "_view_module_version": "1.2.0",
            "_view_name": "LayoutView",
            "align_content": null,
            "align_items": null,
            "align_self": null,
            "border": null,
            "bottom": null,
            "display": null,
            "flex": null,
            "flex_flow": null,
            "grid_area": null,
            "grid_auto_columns": null,
            "grid_auto_flow": null,
            "grid_auto_rows": null,
            "grid_column": null,
            "grid_gap": null,
            "grid_row": null,
            "grid_template_areas": null,
            "grid_template_columns": null,
            "grid_template_rows": null,
            "height": null,
            "justify_content": null,
            "justify_items": null,
            "left": null,
            "margin": null,
            "max_height": null,
            "max_width": null,
            "min_height": null,
            "min_width": null,
            "object_fit": null,
            "object_position": null,
            "order": null,
            "overflow": null,
            "overflow_x": null,
            "overflow_y": null,
            "padding": null,
            "right": null,
            "top": null,
            "visibility": null,
            "width": null
          }
        },
        "55f2e8d13ae447efba4bbc714df78b39": {
          "model_module": "@jupyter-widgets/base",
          "model_name": "LayoutModel",
          "model_module_version": "1.2.0",
          "state": {
            "_model_module": "@jupyter-widgets/base",
            "_model_module_version": "1.2.0",
            "_model_name": "LayoutModel",
            "_view_count": null,
            "_view_module": "@jupyter-widgets/base",
            "_view_module_version": "1.2.0",
            "_view_name": "LayoutView",
            "align_content": null,
            "align_items": null,
            "align_self": null,
            "border": null,
            "bottom": null,
            "display": null,
            "flex": null,
            "flex_flow": null,
            "grid_area": null,
            "grid_auto_columns": null,
            "grid_auto_flow": null,
            "grid_auto_rows": null,
            "grid_column": null,
            "grid_gap": null,
            "grid_row": null,
            "grid_template_areas": null,
            "grid_template_columns": null,
            "grid_template_rows": null,
            "height": null,
            "justify_content": null,
            "justify_items": null,
            "left": null,
            "margin": null,
            "max_height": null,
            "max_width": null,
            "min_height": null,
            "min_width": null,
            "object_fit": null,
            "object_position": null,
            "order": null,
            "overflow": null,
            "overflow_x": null,
            "overflow_y": null,
            "padding": null,
            "right": null,
            "top": null,
            "visibility": null,
            "width": null
          }
        },
        "9773b56f7d914b57bb5763f88157c6ad": {
          "model_module": "@jupyter-widgets/controls",
          "model_name": "DescriptionStyleModel",
          "model_module_version": "1.5.0",
          "state": {
            "_model_module": "@jupyter-widgets/controls",
            "_model_module_version": "1.5.0",
            "_model_name": "DescriptionStyleModel",
            "_view_count": null,
            "_view_module": "@jupyter-widgets/base",
            "_view_module_version": "1.2.0",
            "_view_name": "StyleView",
            "description_width": ""
          }
        },
        "07a072ec9a464a3ea37ecd5e9538f203": {
          "model_module": "@jupyter-widgets/base",
          "model_name": "LayoutModel",
          "model_module_version": "1.2.0",
          "state": {
            "_model_module": "@jupyter-widgets/base",
            "_model_module_version": "1.2.0",
            "_model_name": "LayoutModel",
            "_view_count": null,
            "_view_module": "@jupyter-widgets/base",
            "_view_module_version": "1.2.0",
            "_view_name": "LayoutView",
            "align_content": null,
            "align_items": null,
            "align_self": null,
            "border": null,
            "bottom": null,
            "display": null,
            "flex": null,
            "flex_flow": null,
            "grid_area": null,
            "grid_auto_columns": null,
            "grid_auto_flow": null,
            "grid_auto_rows": null,
            "grid_column": null,
            "grid_gap": null,
            "grid_row": null,
            "grid_template_areas": null,
            "grid_template_columns": null,
            "grid_template_rows": null,
            "height": null,
            "justify_content": null,
            "justify_items": null,
            "left": null,
            "margin": null,
            "max_height": null,
            "max_width": null,
            "min_height": null,
            "min_width": null,
            "object_fit": null,
            "object_position": null,
            "order": null,
            "overflow": null,
            "overflow_x": null,
            "overflow_y": null,
            "padding": null,
            "right": null,
            "top": null,
            "visibility": null,
            "width": null
          }
        },
        "abb54c92bf3b445cb252b579460971f1": {
          "model_module": "@jupyter-widgets/controls",
          "model_name": "ProgressStyleModel",
          "model_module_version": "1.5.0",
          "state": {
            "_model_module": "@jupyter-widgets/controls",
            "_model_module_version": "1.5.0",
            "_model_name": "ProgressStyleModel",
            "_view_count": null,
            "_view_module": "@jupyter-widgets/base",
            "_view_module_version": "1.2.0",
            "_view_name": "StyleView",
            "bar_color": null,
            "description_width": ""
          }
        },
        "87fa7d0e332f401faaebaec02bf1e535": {
          "model_module": "@jupyter-widgets/base",
          "model_name": "LayoutModel",
          "model_module_version": "1.2.0",
          "state": {
            "_model_module": "@jupyter-widgets/base",
            "_model_module_version": "1.2.0",
            "_model_name": "LayoutModel",
            "_view_count": null,
            "_view_module": "@jupyter-widgets/base",
            "_view_module_version": "1.2.0",
            "_view_name": "LayoutView",
            "align_content": null,
            "align_items": null,
            "align_self": null,
            "border": null,
            "bottom": null,
            "display": null,
            "flex": null,
            "flex_flow": null,
            "grid_area": null,
            "grid_auto_columns": null,
            "grid_auto_flow": null,
            "grid_auto_rows": null,
            "grid_column": null,
            "grid_gap": null,
            "grid_row": null,
            "grid_template_areas": null,
            "grid_template_columns": null,
            "grid_template_rows": null,
            "height": null,
            "justify_content": null,
            "justify_items": null,
            "left": null,
            "margin": null,
            "max_height": null,
            "max_width": null,
            "min_height": null,
            "min_width": null,
            "object_fit": null,
            "object_position": null,
            "order": null,
            "overflow": null,
            "overflow_x": null,
            "overflow_y": null,
            "padding": null,
            "right": null,
            "top": null,
            "visibility": null,
            "width": null
          }
        },
        "0ad7facab5d44c5490996888332c44af": {
          "model_module": "@jupyter-widgets/controls",
          "model_name": "DescriptionStyleModel",
          "model_module_version": "1.5.0",
          "state": {
            "_model_module": "@jupyter-widgets/controls",
            "_model_module_version": "1.5.0",
            "_model_name": "DescriptionStyleModel",
            "_view_count": null,
            "_view_module": "@jupyter-widgets/base",
            "_view_module_version": "1.2.0",
            "_view_name": "StyleView",
            "description_width": ""
          }
        },
        "643c18c437d347818d5e05a73040e8e8": {
          "model_module": "@jupyter-widgets/controls",
          "model_name": "HBoxModel",
          "model_module_version": "1.5.0",
          "state": {
            "_dom_classes": [],
            "_model_module": "@jupyter-widgets/controls",
            "_model_module_version": "1.5.0",
            "_model_name": "HBoxModel",
            "_view_count": null,
            "_view_module": "@jupyter-widgets/controls",
            "_view_module_version": "1.5.0",
            "_view_name": "HBoxView",
            "box_style": "",
            "children": [
              "IPY_MODEL_5b8d204d6376442aa1349323dc30a2cd",
              "IPY_MODEL_fa508e2c0e04402ebb190b353f20ef23",
              "IPY_MODEL_ab1ed08a4ada46a7b5df17a18b1e304f"
            ],
            "layout": "IPY_MODEL_b48fd330a23e4b73a3dd1ec83b286ad2"
          }
        },
        "5b8d204d6376442aa1349323dc30a2cd": {
          "model_module": "@jupyter-widgets/controls",
          "model_name": "HTMLModel",
          "model_module_version": "1.5.0",
          "state": {
            "_dom_classes": [],
            "_model_module": "@jupyter-widgets/controls",
            "_model_module_version": "1.5.0",
            "_model_name": "HTMLModel",
            "_view_count": null,
            "_view_module": "@jupyter-widgets/controls",
            "_view_module_version": "1.5.0",
            "_view_name": "HTMLView",
            "description": "",
            "description_tooltip": null,
            "layout": "IPY_MODEL_5adde23d7fc04123b6a63f2f3ab3bdc1",
            "placeholder": "​",
            "style": "IPY_MODEL_5a1ee2d7864b4ccf913dd90c90928f57",
            "value": "Kernel Rows: 100%"
          }
        },
        "fa508e2c0e04402ebb190b353f20ef23": {
          "model_module": "@jupyter-widgets/controls",
          "model_name": "FloatProgressModel",
          "model_module_version": "1.5.0",
          "state": {
            "_dom_classes": [],
            "_model_module": "@jupyter-widgets/controls",
            "_model_module_version": "1.5.0",
            "_model_name": "FloatProgressModel",
            "_view_count": null,
            "_view_module": "@jupyter-widgets/controls",
            "_view_module_version": "1.5.0",
            "_view_name": "ProgressView",
            "bar_style": "success",
            "description": "",
            "description_tooltip": null,
            "layout": "IPY_MODEL_8ff6fa91b62549a2af53f125d78c4a73",
            "max": 576,
            "min": 0,
            "orientation": "horizontal",
            "style": "IPY_MODEL_030fb3c2d1d141c4ba7dcb2622d1e44c",
            "value": 576
          }
        },
        "ab1ed08a4ada46a7b5df17a18b1e304f": {
          "model_module": "@jupyter-widgets/controls",
          "model_name": "HTMLModel",
          "model_module_version": "1.5.0",
          "state": {
            "_dom_classes": [],
            "_model_module": "@jupyter-widgets/controls",
            "_model_module_version": "1.5.0",
            "_model_name": "HTMLModel",
            "_view_count": null,
            "_view_module": "@jupyter-widgets/controls",
            "_view_module_version": "1.5.0",
            "_view_name": "HTMLView",
            "description": "",
            "description_tooltip": null,
            "layout": "IPY_MODEL_29500227122541a49967aae0334130d3",
            "placeholder": "​",
            "style": "IPY_MODEL_2dd8377667f2457a8cf5569ee028a274",
            "value": " 576/576 [01:44&lt;00:00,  8.90it/s]"
          }
        },
        "b48fd330a23e4b73a3dd1ec83b286ad2": {
          "model_module": "@jupyter-widgets/base",
          "model_name": "LayoutModel",
          "model_module_version": "1.2.0",
          "state": {
            "_model_module": "@jupyter-widgets/base",
            "_model_module_version": "1.2.0",
            "_model_name": "LayoutModel",
            "_view_count": null,
            "_view_module": "@jupyter-widgets/base",
            "_view_module_version": "1.2.0",
            "_view_name": "LayoutView",
            "align_content": null,
            "align_items": null,
            "align_self": null,
            "border": null,
            "bottom": null,
            "display": null,
            "flex": null,
            "flex_flow": null,
            "grid_area": null,
            "grid_auto_columns": null,
            "grid_auto_flow": null,
            "grid_auto_rows": null,
            "grid_column": null,
            "grid_gap": null,
            "grid_row": null,
            "grid_template_areas": null,
            "grid_template_columns": null,
            "grid_template_rows": null,
            "height": null,
            "justify_content": null,
            "justify_items": null,
            "left": null,
            "margin": null,
            "max_height": null,
            "max_width": null,
            "min_height": null,
            "min_width": null,
            "object_fit": null,
            "object_position": null,
            "order": null,
            "overflow": null,
            "overflow_x": null,
            "overflow_y": null,
            "padding": null,
            "right": null,
            "top": null,
            "visibility": null,
            "width": null
          }
        },
        "5adde23d7fc04123b6a63f2f3ab3bdc1": {
          "model_module": "@jupyter-widgets/base",
          "model_name": "LayoutModel",
          "model_module_version": "1.2.0",
          "state": {
            "_model_module": "@jupyter-widgets/base",
            "_model_module_version": "1.2.0",
            "_model_name": "LayoutModel",
            "_view_count": null,
            "_view_module": "@jupyter-widgets/base",
            "_view_module_version": "1.2.0",
            "_view_name": "LayoutView",
            "align_content": null,
            "align_items": null,
            "align_self": null,
            "border": null,
            "bottom": null,
            "display": null,
            "flex": null,
            "flex_flow": null,
            "grid_area": null,
            "grid_auto_columns": null,
            "grid_auto_flow": null,
            "grid_auto_rows": null,
            "grid_column": null,
            "grid_gap": null,
            "grid_row": null,
            "grid_template_areas": null,
            "grid_template_columns": null,
            "grid_template_rows": null,
            "height": null,
            "justify_content": null,
            "justify_items": null,
            "left": null,
            "margin": null,
            "max_height": null,
            "max_width": null,
            "min_height": null,
            "min_width": null,
            "object_fit": null,
            "object_position": null,
            "order": null,
            "overflow": null,
            "overflow_x": null,
            "overflow_y": null,
            "padding": null,
            "right": null,
            "top": null,
            "visibility": null,
            "width": null
          }
        },
        "5a1ee2d7864b4ccf913dd90c90928f57": {
          "model_module": "@jupyter-widgets/controls",
          "model_name": "DescriptionStyleModel",
          "model_module_version": "1.5.0",
          "state": {
            "_model_module": "@jupyter-widgets/controls",
            "_model_module_version": "1.5.0",
            "_model_name": "DescriptionStyleModel",
            "_view_count": null,
            "_view_module": "@jupyter-widgets/base",
            "_view_module_version": "1.2.0",
            "_view_name": "StyleView",
            "description_width": ""
          }
        },
        "8ff6fa91b62549a2af53f125d78c4a73": {
          "model_module": "@jupyter-widgets/base",
          "model_name": "LayoutModel",
          "model_module_version": "1.2.0",
          "state": {
            "_model_module": "@jupyter-widgets/base",
            "_model_module_version": "1.2.0",
            "_model_name": "LayoutModel",
            "_view_count": null,
            "_view_module": "@jupyter-widgets/base",
            "_view_module_version": "1.2.0",
            "_view_name": "LayoutView",
            "align_content": null,
            "align_items": null,
            "align_self": null,
            "border": null,
            "bottom": null,
            "display": null,
            "flex": null,
            "flex_flow": null,
            "grid_area": null,
            "grid_auto_columns": null,
            "grid_auto_flow": null,
            "grid_auto_rows": null,
            "grid_column": null,
            "grid_gap": null,
            "grid_row": null,
            "grid_template_areas": null,
            "grid_template_columns": null,
            "grid_template_rows": null,
            "height": null,
            "justify_content": null,
            "justify_items": null,
            "left": null,
            "margin": null,
            "max_height": null,
            "max_width": null,
            "min_height": null,
            "min_width": null,
            "object_fit": null,
            "object_position": null,
            "order": null,
            "overflow": null,
            "overflow_x": null,
            "overflow_y": null,
            "padding": null,
            "right": null,
            "top": null,
            "visibility": null,
            "width": null
          }
        },
        "030fb3c2d1d141c4ba7dcb2622d1e44c": {
          "model_module": "@jupyter-widgets/controls",
          "model_name": "ProgressStyleModel",
          "model_module_version": "1.5.0",
          "state": {
            "_model_module": "@jupyter-widgets/controls",
            "_model_module_version": "1.5.0",
            "_model_name": "ProgressStyleModel",
            "_view_count": null,
            "_view_module": "@jupyter-widgets/base",
            "_view_module_version": "1.2.0",
            "_view_name": "StyleView",
            "bar_color": null,
            "description_width": ""
          }
        },
        "29500227122541a49967aae0334130d3": {
          "model_module": "@jupyter-widgets/base",
          "model_name": "LayoutModel",
          "model_module_version": "1.2.0",
          "state": {
            "_model_module": "@jupyter-widgets/base",
            "_model_module_version": "1.2.0",
            "_model_name": "LayoutModel",
            "_view_count": null,
            "_view_module": "@jupyter-widgets/base",
            "_view_module_version": "1.2.0",
            "_view_name": "LayoutView",
            "align_content": null,
            "align_items": null,
            "align_self": null,
            "border": null,
            "bottom": null,
            "display": null,
            "flex": null,
            "flex_flow": null,
            "grid_area": null,
            "grid_auto_columns": null,
            "grid_auto_flow": null,
            "grid_auto_rows": null,
            "grid_column": null,
            "grid_gap": null,
            "grid_row": null,
            "grid_template_areas": null,
            "grid_template_columns": null,
            "grid_template_rows": null,
            "height": null,
            "justify_content": null,
            "justify_items": null,
            "left": null,
            "margin": null,
            "max_height": null,
            "max_width": null,
            "min_height": null,
            "min_width": null,
            "object_fit": null,
            "object_position": null,
            "order": null,
            "overflow": null,
            "overflow_x": null,
            "overflow_y": null,
            "padding": null,
            "right": null,
            "top": null,
            "visibility": null,
            "width": null
          }
        },
        "2dd8377667f2457a8cf5569ee028a274": {
          "model_module": "@jupyter-widgets/controls",
          "model_name": "DescriptionStyleModel",
          "model_module_version": "1.5.0",
          "state": {
            "_model_module": "@jupyter-widgets/controls",
            "_model_module_version": "1.5.0",
            "_model_name": "DescriptionStyleModel",
            "_view_count": null,
            "_view_module": "@jupyter-widgets/base",
            "_view_module_version": "1.2.0",
            "_view_name": "StyleView",
            "description_width": ""
          }
        },
        "aa3e66673f904ecbabd9d2ebb9e4f873": {
          "model_module": "@jupyter-widgets/controls",
          "model_name": "HBoxModel",
          "model_module_version": "1.5.0",
          "state": {
            "_dom_classes": [],
            "_model_module": "@jupyter-widgets/controls",
            "_model_module_version": "1.5.0",
            "_model_name": "HBoxModel",
            "_view_count": null,
            "_view_module": "@jupyter-widgets/controls",
            "_view_module_version": "1.5.0",
            "_view_name": "HBoxView",
            "box_style": "",
            "children": [
              "IPY_MODEL_8d509d083a1b4edabba6e6452e31f8f1",
              "IPY_MODEL_c0a66dc0ca1a4e089c6e2b59d6dab47b",
              "IPY_MODEL_c8ca78e523174acaa7627ec5a231fa38"
            ],
            "layout": "IPY_MODEL_76a317d80dc048e391468e8c9727994f"
          }
        },
        "8d509d083a1b4edabba6e6452e31f8f1": {
          "model_module": "@jupyter-widgets/controls",
          "model_name": "HTMLModel",
          "model_module_version": "1.5.0",
          "state": {
            "_dom_classes": [],
            "_model_module": "@jupyter-widgets/controls",
            "_model_module_version": "1.5.0",
            "_model_name": "HTMLModel",
            "_view_count": null,
            "_view_module": "@jupyter-widgets/controls",
            "_view_module_version": "1.5.0",
            "_view_name": "HTMLView",
            "description": "",
            "description_tooltip": null,
            "layout": "IPY_MODEL_bcfa6343179747d0a1452255d8de4518",
            "placeholder": "​",
            "style": "IPY_MODEL_4acbcce17f0b4e67802526329ef36047",
            "value": "VQC Grid: 100%"
          }
        },
        "c0a66dc0ca1a4e089c6e2b59d6dab47b": {
          "model_module": "@jupyter-widgets/controls",
          "model_name": "FloatProgressModel",
          "model_module_version": "1.5.0",
          "state": {
            "_dom_classes": [],
            "_model_module": "@jupyter-widgets/controls",
            "_model_module_version": "1.5.0",
            "_model_name": "FloatProgressModel",
            "_view_count": null,
            "_view_module": "@jupyter-widgets/controls",
            "_view_module_version": "1.5.0",
            "_view_name": "ProgressView",
            "bar_style": "success",
            "description": "",
            "description_tooltip": null,
            "layout": "IPY_MODEL_a4a03563f4f64b359fb1f4b2a8731954",
            "max": 576,
            "min": 0,
            "orientation": "horizontal",
            "style": "IPY_MODEL_c126bf46df024989a292e415d3df2a6c",
            "value": 576
          }
        },
        "c8ca78e523174acaa7627ec5a231fa38": {
          "model_module": "@jupyter-widgets/controls",
          "model_name": "HTMLModel",
          "model_module_version": "1.5.0",
          "state": {
            "_dom_classes": [],
            "_model_module": "@jupyter-widgets/controls",
            "_model_module_version": "1.5.0",
            "_model_name": "HTMLModel",
            "_view_count": null,
            "_view_module": "@jupyter-widgets/controls",
            "_view_module_version": "1.5.0",
            "_view_name": "HTMLView",
            "description": "",
            "description_tooltip": null,
            "layout": "IPY_MODEL_ba184628a1a64459a8c679803f8b11b3",
            "placeholder": "​",
            "style": "IPY_MODEL_cd11abb08786452187ab96c9e288257a",
            "value": " 576/576 [00:00&lt;00:00, 714.12it/s]"
          }
        },
        "76a317d80dc048e391468e8c9727994f": {
          "model_module": "@jupyter-widgets/base",
          "model_name": "LayoutModel",
          "model_module_version": "1.2.0",
          "state": {
            "_model_module": "@jupyter-widgets/base",
            "_model_module_version": "1.2.0",
            "_model_name": "LayoutModel",
            "_view_count": null,
            "_view_module": "@jupyter-widgets/base",
            "_view_module_version": "1.2.0",
            "_view_name": "LayoutView",
            "align_content": null,
            "align_items": null,
            "align_self": null,
            "border": null,
            "bottom": null,
            "display": null,
            "flex": null,
            "flex_flow": null,
            "grid_area": null,
            "grid_auto_columns": null,
            "grid_auto_flow": null,
            "grid_auto_rows": null,
            "grid_column": null,
            "grid_gap": null,
            "grid_row": null,
            "grid_template_areas": null,
            "grid_template_columns": null,
            "grid_template_rows": null,
            "height": null,
            "justify_content": null,
            "justify_items": null,
            "left": null,
            "margin": null,
            "max_height": null,
            "max_width": null,
            "min_height": null,
            "min_width": null,
            "object_fit": null,
            "object_position": null,
            "order": null,
            "overflow": null,
            "overflow_x": null,
            "overflow_y": null,
            "padding": null,
            "right": null,
            "top": null,
            "visibility": null,
            "width": null
          }
        },
        "bcfa6343179747d0a1452255d8de4518": {
          "model_module": "@jupyter-widgets/base",
          "model_name": "LayoutModel",
          "model_module_version": "1.2.0",
          "state": {
            "_model_module": "@jupyter-widgets/base",
            "_model_module_version": "1.2.0",
            "_model_name": "LayoutModel",
            "_view_count": null,
            "_view_module": "@jupyter-widgets/base",
            "_view_module_version": "1.2.0",
            "_view_name": "LayoutView",
            "align_content": null,
            "align_items": null,
            "align_self": null,
            "border": null,
            "bottom": null,
            "display": null,
            "flex": null,
            "flex_flow": null,
            "grid_area": null,
            "grid_auto_columns": null,
            "grid_auto_flow": null,
            "grid_auto_rows": null,
            "grid_column": null,
            "grid_gap": null,
            "grid_row": null,
            "grid_template_areas": null,
            "grid_template_columns": null,
            "grid_template_rows": null,
            "height": null,
            "justify_content": null,
            "justify_items": null,
            "left": null,
            "margin": null,
            "max_height": null,
            "max_width": null,
            "min_height": null,
            "min_width": null,
            "object_fit": null,
            "object_position": null,
            "order": null,
            "overflow": null,
            "overflow_x": null,
            "overflow_y": null,
            "padding": null,
            "right": null,
            "top": null,
            "visibility": null,
            "width": null
          }
        },
        "4acbcce17f0b4e67802526329ef36047": {
          "model_module": "@jupyter-widgets/controls",
          "model_name": "DescriptionStyleModel",
          "model_module_version": "1.5.0",
          "state": {
            "_model_module": "@jupyter-widgets/controls",
            "_model_module_version": "1.5.0",
            "_model_name": "DescriptionStyleModel",
            "_view_count": null,
            "_view_module": "@jupyter-widgets/base",
            "_view_module_version": "1.2.0",
            "_view_name": "StyleView",
            "description_width": ""
          }
        },
        "a4a03563f4f64b359fb1f4b2a8731954": {
          "model_module": "@jupyter-widgets/base",
          "model_name": "LayoutModel",
          "model_module_version": "1.2.0",
          "state": {
            "_model_module": "@jupyter-widgets/base",
            "_model_module_version": "1.2.0",
            "_model_name": "LayoutModel",
            "_view_count": null,
            "_view_module": "@jupyter-widgets/base",
            "_view_module_version": "1.2.0",
            "_view_name": "LayoutView",
            "align_content": null,
            "align_items": null,
            "align_self": null,
            "border": null,
            "bottom": null,
            "display": null,
            "flex": null,
            "flex_flow": null,
            "grid_area": null,
            "grid_auto_columns": null,
            "grid_auto_flow": null,
            "grid_auto_rows": null,
            "grid_column": null,
            "grid_gap": null,
            "grid_row": null,
            "grid_template_areas": null,
            "grid_template_columns": null,
            "grid_template_rows": null,
            "height": null,
            "justify_content": null,
            "justify_items": null,
            "left": null,
            "margin": null,
            "max_height": null,
            "max_width": null,
            "min_height": null,
            "min_width": null,
            "object_fit": null,
            "object_position": null,
            "order": null,
            "overflow": null,
            "overflow_x": null,
            "overflow_y": null,
            "padding": null,
            "right": null,
            "top": null,
            "visibility": null,
            "width": null
          }
        },
        "c126bf46df024989a292e415d3df2a6c": {
          "model_module": "@jupyter-widgets/controls",
          "model_name": "ProgressStyleModel",
          "model_module_version": "1.5.0",
          "state": {
            "_model_module": "@jupyter-widgets/controls",
            "_model_module_version": "1.5.0",
            "_model_name": "ProgressStyleModel",
            "_view_count": null,
            "_view_module": "@jupyter-widgets/base",
            "_view_module_version": "1.2.0",
            "_view_name": "StyleView",
            "bar_color": null,
            "description_width": ""
          }
        },
        "ba184628a1a64459a8c679803f8b11b3": {
          "model_module": "@jupyter-widgets/base",
          "model_name": "LayoutModel",
          "model_module_version": "1.2.0",
          "state": {
            "_model_module": "@jupyter-widgets/base",
            "_model_module_version": "1.2.0",
            "_model_name": "LayoutModel",
            "_view_count": null,
            "_view_module": "@jupyter-widgets/base",
            "_view_module_version": "1.2.0",
            "_view_name": "LayoutView",
            "align_content": null,
            "align_items": null,
            "align_self": null,
            "border": null,
            "bottom": null,
            "display": null,
            "flex": null,
            "flex_flow": null,
            "grid_area": null,
            "grid_auto_columns": null,
            "grid_auto_flow": null,
            "grid_auto_rows": null,
            "grid_column": null,
            "grid_gap": null,
            "grid_row": null,
            "grid_template_areas": null,
            "grid_template_columns": null,
            "grid_template_rows": null,
            "height": null,
            "justify_content": null,
            "justify_items": null,
            "left": null,
            "margin": null,
            "max_height": null,
            "max_width": null,
            "min_height": null,
            "min_width": null,
            "object_fit": null,
            "object_position": null,
            "order": null,
            "overflow": null,
            "overflow_x": null,
            "overflow_y": null,
            "padding": null,
            "right": null,
            "top": null,
            "visibility": null,
            "width": null
          }
        },
        "cd11abb08786452187ab96c9e288257a": {
          "model_module": "@jupyter-widgets/controls",
          "model_name": "DescriptionStyleModel",
          "model_module_version": "1.5.0",
          "state": {
            "_model_module": "@jupyter-widgets/controls",
            "_model_module_version": "1.5.0",
            "_model_name": "DescriptionStyleModel",
            "_view_count": null,
            "_view_module": "@jupyter-widgets/base",
            "_view_module_version": "1.2.0",
            "_view_name": "StyleView",
            "description_width": ""
          }
        }
      }
    }
  },
  "nbformat": 4,
  "nbformat_minor": 0
}