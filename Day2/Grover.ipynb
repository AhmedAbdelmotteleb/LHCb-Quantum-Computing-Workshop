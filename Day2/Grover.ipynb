{
 "cells": [
  {
   "cell_type": "markdown",
   "id": "ecfc57f6",
   "metadata": {},
   "source": [
    "# Naive example of Grover's Algorithm (created with prior knowledge of their solutions)"
   ]
  },
  {
   "cell_type": "code",
   "execution_count": 8,
   "id": "714c8c89-6e0e-4ac2-a0de-9a17c4ede8e3",
   "metadata": {
    "trusted": true
   },
   "outputs": [],
   "source": [
    "!pip install qiskit --quiet\n",
    "!pip install qiskit[visualization] --quiet\n",
    "!pip install qiskit_aer --quiet"
   ]
  },
  {
   "cell_type": "code",
   "execution_count": 9,
   "id": "0a63a83f",
   "metadata": {
    "trusted": true
   },
   "outputs": [],
   "source": [
    "from qiskit import QuantumCircuit\n",
    "from qiskit_aer import Aer\n",
    "from qiskit.visualization import plot_histogram\n",
    "from qiskit.quantum_info import Statevector\n",
    "from qiskit.visualization import plot_state_qsphere\n",
    "\n",
    "\n",
    "# Step 1: Create the Grover circuit for 2 qubits\n",
    "# YOUR CODE HERE\n",
    "\n",
    "# Step 2: Put both qubits into superposition\n",
    "# YOUR CODE HERE\n",
    "\n"
   ]
  },
  {
   "cell_type": "code",
   "execution_count": 10,
   "id": "3a39ad67",
   "metadata": {
    "trusted": true
   },
   "outputs": [],
   "source": [
    "#Step 3: Implement the oracle that flips the phase of state |11⟩ only.\n",
    "#Hint: Use a CZ gate between qubit 0 and 1.\n",
    "\n",
    "# YOUR CODE HERE"
   ]
  },
  {
   "cell_type": "code",
   "execution_count": 11,
   "id": "d51abe0d",
   "metadata": {
    "trusted": true
   },
   "outputs": [],
   "source": [
    "#Step 4: Visualize the statevector after the oracle using a QSphere plot.\n",
    "#Hint: Use Statevector.from_instruction() and plot_state_qsphere().\n",
    "\n",
    "# YOUR CODE HERE"
   ]
  },
  {
   "cell_type": "code",
   "execution_count": 12,
   "id": "4cef5910-3990-4f1f-8fc8-00312babc13f",
   "metadata": {
    "trusted": true
   },
   "outputs": [],
   "source": [
    "# Step 5: Examine the probabilities after the oracle\n",
    "# Hint: Use the probabilities_dict() method of the Statevector object and plot the histogram\n",
    "\n",
    "#You should see that the probabilities are unchanged by the oracle\n",
    "#CZ gate only flips the phase\n",
    "#It does not change measurement probabilities\n",
    "#--> Equal probabilities for all 4 states."
   ]
  },
  {
   "cell_type": "code",
   "execution_count": 13,
   "id": "3f6e95ca",
   "metadata": {
    "trusted": true
   },
   "outputs": [],
   "source": [
    "# Step 6: Implement the Grover diffusion operator (inversion about the mean) for 2 qubits.\n",
    "# This operator amplifies the amplitude of the marked state by reflecting\n",
    "# the statevector about the average amplitude.\n",
    "# It consists of:\n",
    "# - Hadamard gates to switch basis\n",
    "# - X (NOT) gates to flip |0⟩ ↔ |1⟩\n",
    "# - A controlled phase flip (CZ or Controlled-Z) on |11⟩\n",
    "# - Undoing the X and Hadamard gates to return to the original basis\n",
    "#\n",
    "# This sequence implements the Grover diffusion operator:\n",
    "# D = H^⊗n · X^⊗n · CZ · X^⊗n · H^⊗n\n",
    "#\n",
    "\n",
    "# Step 6a: Apply Hadamard gates to both qubits to switch from the superposition basis to the computational basis\n",
    "# This prepares the state for bit flips and phase flips.\n",
    "\n",
    "# Step 6b: Apply X gates (bit-flips) on both qubits, turning |00⟩ into |11⟩.\n",
    "\n",
    "# Step 6c: Apply a Hadamard gate to the second qubit only (target qubit of CZ).\n",
    "# This prepares the target qubit for a controlled-phase operation via CNOT.\n",
    "\n",
    "# Step 6d: Apply a CNOT gate (control qubit 0 → target qubit 1).\n",
    "# In this basis, CNOT acts as CZ, flipping the phase of |11⟩.\n",
    "\n",
    "# Step 6e: Apply Hadamard again to qubit 1 to complete the CZ operation (undo Hadamard).\n",
    "\n",
    "# Step 6f: Undo the previous X gates on both qubits to return them to their original basis.\n",
    "\n",
    "# Step 6g: Finally, apply Hadamard gates to both qubits again to return to the original superposition basis.\n",
    "\n",
    "# Intuition:\n",
    "# The diffusion operator performs a reflection of the statevector about the average amplitude of all states.\n",
    "# By flipping |00⟩ to |11⟩ and applying a phase flip on |11⟩, then undoing those flips,\n",
    "# the operator effectively increases the amplitude of the marked state(s), making them more likely to be measured.\n",
    "\n"
   ]
  },
  {
   "cell_type": "code",
   "execution_count": 14,
   "id": "4371aef1",
   "metadata": {
    "trusted": true
   },
   "outputs": [],
   "source": [
    "# Step 7: Add measurement to all qubits\n",
    "#circuit.measure_all()\n",
    "\n",
    "# Step 8: Simulate the circuit with 2000 shots and print the measurement counts\n",
    "# backend = Aer.get_backend('aer_simulator')  # latest backend\n",
    "# job = backend.run(qc, shots=2000)\n",
    "# result = job.result()\n",
    "# counts = result.get_counts()\n",
    "# print(counts)"
   ]
  },
  {
   "cell_type": "code",
   "execution_count": 15,
   "id": "1102ee0b",
   "metadata": {
    "trusted": true
   },
   "outputs": [],
   "source": [
    "# Step 9: Plot results to see the amplification of the |11⟩ state.\n",
    "#plot_histogram(counts)"
   ]
  }
 ],
 "metadata": {
  "kernelspec": {
   "display_name": "Python 3",
   "language": "python",
   "name": "python3"
  },
  "language_info": {
   "codemirror_mode": {
    "name": "ipython",
    "version": 3
   },
   "file_extension": ".py",
   "mimetype": "text/x-python",
   "name": "python",
   "nbconvert_exporter": "python",
   "pygments_lexer": "ipython3",
   "version": "3.11.9"
  }
 },
 "nbformat": 4,
 "nbformat_minor": 5
}
