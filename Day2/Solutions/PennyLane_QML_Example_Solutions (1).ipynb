{
  "cells": [
    {
      "cell_type": "markdown",
      "source": [
        "# **QML Exercise**: Classification with Quantum & Classical Models\n",
        "In this exercise, we will explore how Quantum Machine Learning (QML) can be used to solve a complex, two-dimensional classification problem. We will build two types of quantum classifiers and compare their performance against a standard classical model.\n",
        "\n",
        "\\\n",
        "\n",
        "A major bottleneck in QML can be the time it takes to simulate quantum circuits. To address this, we will leverage **lightning.qubit**, a high-performance CPU simulator provided by PennyLane, to dramatically speed up the computation.\n",
        "\n",
        "\\\n",
        "\n",
        "**Getting Started**: Installing Libraries\n",
        "First, we need to install the necessary Python libraries. This code block will install PennyLane for quantum programming, Scikit-learn for classical machine learning tools, Matplotlib for plotting, and tqdm for progress bars."
      ],
      "metadata": {
        "id": "IfUd7U6uLvdz"
      }
    },
    {
      "cell_type": "code",
      "source": [
        "!pip install pennylane --quiet\n",
        "!pip install scikit-learn --quiet\n",
        "!pip install matplotlib --quiet\n",
        "!pip install tqdm --quiet\n",
        "!pip install ipywidgets --quiet"
      ],
      "metadata": {
        "collapsed": true,
        "id": "sQLiZUVrTe84"
      },
      "execution_count": null,
      "outputs": []
    },
    {
      "cell_type": "markdown",
      "source": [
        "# **A Quick Primer on Quantum Circuits**\n",
        "Before we apply quantum computing to machine learning, let's understand the basics of building a quantum circuit.\n",
        "\n",
        "A **quantum circuit** is a sequence of operations, called **quantum gates**, applied to qubits.\n",
        "\n",
        "* **Qubits**: These are the basic units of quantum information. Unlike classical bits that are either 0 or 1, a qubit can exist in a **superposition** of both states simultaneously.\n",
        "\n",
        "* **Quantum Gates**: These are operations that manipulate the state of the qubits. For example, a Hadamard gate puts a qubit into a superposition, and a CNOT gate entangles two qubits.\n",
        "\n",
        "* **Measurement**: At the end of a circuit, we measure the qubits, which collapses their superposition into a classical state (either 0 or 1).\n",
        "\n",
        "\\\n",
        "\n",
        "**Building a Simple Circuit in PennyLane**\n",
        "\n",
        "Let's build a simple two-qubit circuit that creates an entangled state known as a Bell state.\n",
        "\n",
        "* **Define a Device**: A device is the \"backend\" that will run our circuit. It can be a quantum simulator (like default.qubit) or a real quantum computer.\n",
        "\n",
        "* **Create a QNode**: A QNode is a quantum circuit bound to a specific device. We define it in Python using the @qml.qnode decorator.\n",
        "\n",
        "* **Define the Circuit**: Inside our QNode function, we define the sequence of gates.\n",
        "\n",
        "* **Return a Measurement**: The function must return a classical measurement result."
      ],
      "metadata": {
        "id": "tHHA3sULhBPb"
      }
    },
    {
      "cell_type": "code",
      "source": [
        "import pennylane as qml\n",
        "import matplotlib.pyplot as plt\n",
        "import time\n",
        "\n",
        "# 1. Define a device (a 2-qubit simulator)\n",
        "dev_simple = qml.device(\"default.qubit\", wires=2)\n",
        "\n",
        "# 2. Create a QNode bound to the device\n",
        "@qml.qnode(dev_simple)\n",
        "def simple_bell_state_circuit():\n",
        "    \"\"\"\n",
        "    This quantum circuit creates a Bell state by applying a\n",
        "    Hadamard gate and a CNOT gate.\n",
        "    \"\"\"\n",
        "    # 3. Apply gates\n",
        "    qml.Hadamard(wires=0)  # Puts the first qubit in a superposition\n",
        "    qml.CNOT(wires=[0, 1])   # Entangles the two qubits\n",
        "\n",
        "    # 4. Return a measurement (in this case, the state probabilities)\n",
        "    return qml.probs(wires=[0, 1])\n",
        "\n",
        "# Run the circuit\n",
        "result = simple_bell_state_circuit()\n",
        "print(f\"Output probabilities: {result}\")\n",
        "print(\"This indicates a 50% chance of measuring |00> and a 50% chance of measuring |11>.\")\n"
      ],
      "metadata": {
        "colab": {
          "base_uri": "https://localhost:8080/"
        },
        "id": "wV1P7YAkgu7D",
        "outputId": "83769a65-09b6-4840-c31b-8705604d8cba"
      },
      "execution_count": null,
      "outputs": [
        {
          "output_type": "stream",
          "name": "stdout",
          "text": [
            "Output probabilities: [0.5 0.  0.  0.5]\n",
            "This indicates a 50% chance of measuring |00> and a 50% chance of measuring |11>.\n"
          ]
        }
      ]
    },
    {
      "cell_type": "markdown",
      "source": [
        "**Visualizing the Circuit**\n",
        "\n",
        "PennyLane makes it easy to visualize what we've just built. We can get both a graphical representation and a text-based one."
      ],
      "metadata": {
        "id": "qFf_nsJ-g2I6"
      }
    },
    {
      "cell_type": "code",
      "source": [
        "# Draw the circuit graphically\n",
        "fig, ax = qml.draw_mpl(simple_bell_state_circuit)()\n",
        "fig.suptitle(\"Simple Bell State Circuit\")\n",
        "plt.show()\n",
        "\n",
        "# You can also get a text-based drawing\n",
        "print(\"\\nCircuit Diagram (Text):\")\n",
        "print(qml.draw(simple_bell_state_circuit)())\n"
      ],
      "metadata": {
        "colab": {
          "base_uri": "https://localhost:8080/",
          "height": 406
        },
        "id": "CTQyxUy6gu2R",
        "outputId": "257bd7e6-c80c-4b5b-8d4f-f404581d4537"
      },
      "execution_count": null,
      "outputs": [
        {
          "output_type": "display_data",
          "data": {
            "text/plain": [
              "<Figure size 500x300 with 1 Axes>"
            ],
            "image/png": "[encoded data removed]"
          },
          "metadata": {}
        },
        {
          "output_type": "stream",
          "name": "stdout",
          "text": [
            "\n",
            "Circuit Diagram (Text):\n",
            "0: ──H─╭●─┤ ╭Probs\n",
            "1: ────╰X─┤ ╰Probs\n"
          ]
        }
      ]
    },
    {
      "cell_type": "markdown",
      "source": [
        "This simple example shows the fundamental workflow of creating and running a quantum circuit. The machine learning models we build next will use these same principles but with more complex circuits."
      ],
      "metadata": {
        "id": "WDGlxG5Og8I8"
      }
    },
    {
      "cell_type": "markdown",
      "source": [
        "# **Conceptual Overview for Beginners**\n",
        "Before we get into the code, let's break down some of the key concepts for those new to machine learning or quantum computing.\n",
        "\n",
        "\\\n",
        "\n",
        "**What is a Support Vector Machine (SVM)?**\n",
        "\n",
        "A **Support Vector Machine (SVM)** is a powerful and popular supervised machine learning algorithm used for classification tasks. Imagine you have a dataset with two categories of points on a graph. The goal of an SVM is to find the best possible line (or hyperplane in higher dimensions) that separates these two categories. This line is called the \"decision boundary\". The \"best\" line is the one that is as far away as possible from the closest points in each category. These closest points are called \"support vectors,\" which give the SVM its name.\n",
        "\n",
        "\\\n",
        "\n",
        "**What is a Kernel?**\n",
        "\n",
        "Sometimes, data isn't easily separable by a straight line. This is where kernels come in. A kernel is a mathematical function that takes the original, non-separable data and transforms it into a higher-dimensional space where it becomes linearly separable. This is often called the \"kernel trick.\" Think of it as adding a new dimension to your data to make it easier to draw a dividing line. The function that performs this transformation is the kernel.\n",
        "\n",
        "\\\n",
        "\n",
        "**What is a Quantum Support Vector Machine (QSVM)?**\n",
        "\n",
        "A **Quantum Support Vector Machine (QSVM)** gives the concept of a kernel a quantum twist. Instead of using a classical mathematical function as a kernel, a QSVM uses a quantum circuit to transform the data. This quantum circuit, also known as a \"feature map,\" encodes the classical data into a quantum state. By doing this, we can explore a much larger and more complex feature space than what is available to classical computers. The hope is that this quantum-enhanced feature space will allow us to find better decision boundaries for our classification problems."
      ],
      "metadata": {
        "id": "Ig4WV0v8MTS2"
      }
    },
    {
      "cell_type": "markdown",
      "source": [
        "# **Part 1: Generating the 2D \"Two Moons\" Data**\n",
        "\n",
        "We will start by generating a \"two moons\" dataset using Scikit-learn. This dataset is a classic example of a problem where the two classes are not linearly separable, meaning you can't draw a single straight line to separate them perfectly. This makes it an interesting challenge for our models.\n"
      ],
      "metadata": {
        "id": "16S3iAkqg0N0"
      }
    },
    {
      "cell_type": "code",
      "source": [
        "import pennylane as qml\n",
        "import pennylane.numpy as np\n",
        "import matplotlib.pyplot as plt\n",
        "from sklearn.svm import SVC\n",
        "from sklearn.datasets import make_moons\n",
        "from sklearn.preprocessing import StandardScaler\n",
        "from sklearn.model_selection import train_test_split\n",
        "from tqdm.notebook import tqdm\n",
        "import time\n",
        "\n",
        "X, y = make_moons(n_samples=200, noise=0.1, random_state=42)\n",
        "X_train, X_val, y_train, y_val = train_test_split(X, y, test_size=0.5, random_state=42)\n",
        "scaler = StandardScaler().fit(X_train)\n",
        "X_train_scaled = scaler.transform(X_train)\n",
        "X_val_scaled = scaler.transform(X_val)\n",
        "\n",
        "\n",
        "# Plot the data to see the challenge\n",
        "plt.figure(figsize=(8, 6))\n",
        "\n",
        "# --- Plot Training Data (Circles) ---\n",
        "# Plot class 0 training points\n",
        "plt.scatter(\n",
        "    X_train_scaled[y_train == 0, 0],\n",
        "    X_train_scaled[y_train == 0, 1],\n",
        "    c=\"royalblue\", marker=\"o\", edgecolors=\"k\", label=\"Train Class 0\"\n",
        ")\n",
        "# Plot class 1 training points\n",
        "plt.scatter(\n",
        "    X_train_scaled[y_train == 1, 0],\n",
        "    X_train_scaled[y_train == 1, 1],\n",
        "    c=\"gold\", marker=\"o\", edgecolors=\"k\", label=\"Train Class 1\"\n",
        ")\n",
        "\n",
        "# --- Plot Validation Data (X's) ---\n",
        "# Plot class 0 validation points\n",
        "plt.scatter(\n",
        "    X_val_scaled[y_val == 0, 0],\n",
        "    X_val_scaled[y_val == 0, 1],\n",
        "    c=\"royalblue\", marker=\"x\", label=\"Val Class 0\"\n",
        ")\n",
        "# Plot class 1 validation points\n",
        "plt.scatter(\n",
        "    X_val_scaled[y_val == 1, 0],\n",
        "    X_val_scaled[y_val == 1, 1],\n",
        "    c=\"gold\", marker=\"x\", label=\"Val Class 1\"\n",
        ")\n",
        "\n",
        "\n",
        "plt.title(\"Two Moons Dataset (Train & Validation Split)\")\n",
        "plt.xlabel(\"Feature 1\")\n",
        "plt.ylabel(\"Feature 2\")\n",
        "plt.legend()\n",
        "plt.show()"
      ],
      "metadata": {
        "colab": {
          "base_uri": "https://localhost:8080/",
          "height": 557
        },
        "id": "37Nc1IOVYCi5",
        "outputId": "54fd7040-ed87-47fe-e281-c153a92d2699"
      },
      "execution_count": null,
      "outputs": [
        {
          "output_type": "display_data",
          "data": {
            "text/plain": [
              "<Figure size 800x600 with 1 Axes>"
            ],
            "image/png": "[encoded data removed]"
          },
          "metadata": {}
        }
      ]
    },
    {
      "cell_type": "markdown",
      "source": [
        "# **Part 2: Building and Training the QSVM**\n",
        "\n",
        "This is where we define our quantum kernel. We specify **lightning.qubit** as our device, which uses a highly optimized C++ backend to run simulations much faster than the default Python-based simulator.\n",
        "\n",
        "\\\n",
        "\n",
        "**Defining the Quantum Kernel**\n",
        "\n",
        "The kernel is created by a quantum circuit that encodes the data points. The similarity between two data points **x1** and **x2** is calculated by running the feature map for **x1**, followed by the inverse of the feature map for **x2**, and then measuring the probability of the qubits returning to the all-zero state."
      ],
      "metadata": {
        "id": "F00hmfikiRIG"
      }
    },
    {
      "cell_type": "code",
      "source": [
        "# --- 2. Define an Improved Quantum Kernel ---\n",
        "num_qubits = 2\n",
        "dev = qml.device(\"lightning.qubit\", wires=num_qubits)\n",
        "\n",
        "def feature_map(x):\n",
        "    \"\"\"\n",
        "    A more expressive feature map (the ansatz).\n",
        "    Have a look at https://pennylane.ai/qml/glossary/quantum_feature_map for details and references\n",
        "    This circuit encodes the data and adds entanglement.\n",
        "    \"\"\"\n",
        "    qml.AngleEmbedding(x, wires=range(num_qubits))\n",
        "    qml.H(wires=0)\n",
        "    qml.H(wires=1)\n",
        "    qml.CNOT(wires=[0, 1])\n",
        "    qml.RY(x[0], wires=0)\n",
        "    qml.RY(x[1], wires=1)\n",
        "    qml.RZ(x[0], wires=0)\n",
        "    qml.RZ(x[1], wires=1)\n",
        "    qml.RX(x[0], wires=0)\n",
        "    qml.RX(x[1], wires=1)\n",
        "    #qml.CNOT(wires=[0, 1])\n",
        "    #qml.RY(x[0], wires=0)\n",
        "    #qml.RY(x[1], wires=1)\n",
        "\n",
        "# Define the quantum circuit that will be our feature map\n",
        "@qml.qnode(dev)\n",
        "def kernel_circuit(x1, x2):\n",
        "    \"\"\"The quantum circuit that uses the feature map.\"\"\"\n",
        "    # Apply the feature map for the first data point\n",
        "    feature_map(x1)\n",
        "    # Apply the inverse of the feature map for the second data point\n",
        "    qml.adjoint(feature_map)(x2)\n",
        "    # Return the probability of being in the all-zero state\n",
        "    return qml.probs(wires=range(num_qubits))\n",
        "\n",
        "def quantum_kernel(X1, X2):\n",
        "    \"\"\"The quantum kernel function that uses the circuit.\"\"\"\n",
        "    # The kernel is the probability of measuring the all-zero state\n",
        "    # We add a tqdm progress bar to the outer loop\n",
        "    return np.array([[kernel_circuit(x1, x2)[0] for x2 in X2] for x1 in tqdm(X1, desc=\"Kernel Rows\")])"
      ],
      "metadata": {
        "id": "zqcIDKLvYCgs"
      },
      "execution_count": null,
      "outputs": []
    },
    {
      "cell_type": "markdown",
      "source": [
        "**Visualizing the QSVM Kernel Circuit**\n",
        "\n",
        "Let's draw the circuit to see what it looks like. We'll pass in some dummy data to render the circuit diagram."
      ],
      "metadata": {
        "id": "Gi798QqjN5P5"
      }
    },
    {
      "cell_type": "code",
      "source": [
        "# Create some dummy data points to draw the circuit\n",
        "dummy_x1 = np.array([0.5, 0.3])\n",
        "dummy_x2 = np.array([-0.2, 0.7])\n",
        "\n",
        "# Draw the kernel circuit\n",
        "fig, ax = qml.draw_mpl(kernel_circuit)(dummy_x1, dummy_x2)\n",
        "fig.suptitle(\"QSVM Kernel Circuit\")\n",
        "plt.show()\n",
        "\n",
        "# You can also get a text-based drawing\n",
        "print(\"QSVM Kernel Circuit (Text):\")\n",
        "print(qml.draw(kernel_circuit)(dummy_x1, dummy_x2))"
      ],
      "metadata": {
        "colab": {
          "base_uri": "https://localhost:8080/",
          "height": 363
        },
        "id": "P6ftbNHgN27t",
        "outputId": "8acfec2d-3e87-414a-87aa-79356a453a1c"
      },
      "execution_count": null,
      "outputs": [
        {
          "output_type": "display_data",
          "data": {
            "text/plain": [
              "<Figure size 1500x300 with 1 Axes>"
            ],
            "image/png": "[encoded data removed]"
          },
          "metadata": {}
        },
        {
          "output_type": "stream",
          "name": "stdout",
          "text": [
            "QSVM Kernel Circuit (Text):\n",
            "0: ──RX(0.50)──H─╭●──RY(0.50)──RZ(0.50)──RX(0.50)──RX(-0.20)†──RZ(-0.20)†──RY(-0.20)†─╭X†──H† ···\n",
            "1: ──RX(0.30)──H─╰X──RY(0.30)──RZ(0.30)──RX(0.30)──RX(0.70)†───RZ(0.70)†───RY(0.70)†──╰X†──H† ···\n",
            "\n",
            "0: ··· ──RX(-0.20)†─┤ ╭Probs\n",
            "1: ··· ──RX(0.70)†──┤ ╰Probs\n"
          ]
        }
      ]
    },
    {
      "cell_type": "markdown",
      "source": [
        "**Lets Visualize the Quantum Kernel Matrix,**\n",
        "\n",
        "**A \"Good\" Kernel (Clear Separation)**:\n",
        "\n",
        "* You should see two bright yellow squares along the main diagonal.\n",
        "\n",
        "*  The rest of the matrix should be dark purple/blue.\n",
        "\n",
        "*  This \"block-diagonal\" structure is the ideal result. It means your feature map is successfully making points from the same class have high similarity (the yellow blocks) and points from different classes have low similarity (the dark regions). This makes the data very easy for the SVM to separate.\n"
      ],
      "metadata": {
        "id": "K6Vh8JE1X0k3"
      }
    },
    {
      "cell_type": "code",
      "source": [
        "# --- Visualize the Quantum Kernel Matrix ---\n",
        "print(\"\\nCalculating and visualizing the quantum kernel matrix for the training data...\")\n",
        "\n",
        "kernel_matrix = quantum_kernel(X_train_scaled, X_train_scaled)\n",
        "sort_indices = np.argsort(y_train)\n",
        "X_sorted = X_train_scaled[sort_indices]\n",
        "y_sorted = y_train[sort_indices]\n",
        "kernel_matrix_sorted = kernel_matrix[np.ix_(sort_indices, sort_indices)]\n",
        "\n",
        "plt.figure(figsize=(7, 6))\n",
        "plt.imshow(\n",
        "    kernel_matrix_sorted,\n",
        "    interpolation=\"nearest\",\n",
        "    cmap=\"viridis\",\n",
        ")\n",
        "plt.colorbar(label=\"Kernel Similarity\")\n",
        "plt.title(\"Sorted Quantum Kernel Matrix\")\n",
        "plt.xlabel(\"Training Data Point Index (Sorted)\")\n",
        "plt.ylabel(\"Training Data Point Index (Sorted)\")\n",
        "plt.show()"
      ],
      "metadata": {
        "colab": {
          "base_uri": "https://localhost:8080/",
          "height": 596,
          "referenced_widgets": [
            "c633d59b98714298807945c8ddbeeae2",
            "3a6de23420a64bedb1ab8a7d92046536",
            "75b4c7f74d534be58c82e293a9bcc3c6",
            "cc4ef8abe98348d98dd624fc5befca0a",
            "db6eb57420c94c37b59a6068f10f5f31",
            "a1f68fd14ccb4f5eae7c6459a89315f9",
            "32987ac2a0b646d697a2f80db04f5b0d",
            "a28f7a71772c4d528d3374c8cacf11a8",
            "d276c5c686444ea79463410aad494f97",
            "b5d2a0f310624e74a5b23265bdc43f74",
            "a061795068ca4a3d93980b378d3be84c"
          ]
        },
        "id": "fR1Cy7IQW4Wz",
        "outputId": "7956e9dd-5d06-44bd-c134-3687a308d412"
      },
      "execution_count": null,
      "outputs": [
        {
          "output_type": "stream",
          "name": "stdout",
          "text": [
            "\n",
            "Calculating and visualizing the quantum kernel matrix for the training data...\n"
          ]
        },
        {
          "output_type": "display_data",
          "data": {
            "text/plain": [
              "Kernel Rows:   0%|          | 0/100 [00:00<?, ?it/s]"
            ],
            "application/vnd.jupyter.widget-view+json": {
              "version_major": 2,
              "version_minor": 0,
              "model_id": "c633d59b98714298807945c8ddbeeae2"
            }
          },
          "metadata": {}
        },
        {
          "output_type": "display_data",
          "data": {
            "text/plain": [
              "<Figure size 700x600 with 2 Axes>"
            ],
            "image/png": "[encoded data removed]"
          },
          "metadata": {}
        }
      ]
    },
    {
      "cell_type": "markdown",
      "source": [
        "**Training the QSVM and Classical SVM**\n",
        "\n",
        "Now we train both the QSVM and a classical SVM with a standard Radial Basis Function (RBF) kernel. This will allow us to directly compare the performance of the quantum kernel against a powerful classical alternative."
      ],
      "metadata": {
        "id": "HcIYFSv_ivvr"
      }
    },
    {
      "cell_type": "code",
      "source": [
        "# --- Train the QSVM Classifier ---\n",
        "print(\"Calculating the improved quantum kernel matrix...\")\n",
        "# The 'precomputed' kernel tells the SVM to use our custom quantum kernel\n",
        "qsvm_classifier = SVC(kernel=quantum_kernel)\n",
        "qsvm_classifier.fit(X_train_scaled, y_train)\n",
        "print(\"QSVM training complete.\")\n",
        "\n",
        "# --- 3. Train the Classical SVM Classifier ---\n",
        "print(\"\\nTraining the classical SVM classifier...\")\n",
        "svm_classifier = SVC(kernel=\"rbf\", gamma=0.5, C=1.0)\n",
        "#look at this link to understand what the rbf kernal is doing:\n",
        "#https://towardsdatascience.com/radial-basis-function-rbf-kernel-the-go-to-kernel-acf0d22c798a/\n",
        "svm_classifier.fit(X_train_scaled, y_train)\n",
        "print(\"SVM training complete.\")"
      ],
      "metadata": {
        "colab": {
          "base_uri": "https://localhost:8080/",
          "height": 136,
          "referenced_widgets": [
            "5e61230a6cd240ceb557c7852d86accd",
            "b4cdae765a69476683c5da28f69602c2",
            "88a4838cdc0a46189f8359070e0796bc",
            "7701bfeab5bf4aea8273c336771c225a",
            "18d4d2e829024dbaa4af7d317fd6ae2b",
            "f1f0e53e00ef4dedb9e5a1f2affba8c9",
            "d264f04f089e433e9abefa85af4e0fa0",
            "9b67704a0de4408c96972f4601b64019",
            "3c46a770c5d94a9b9cc38d42a06d34aa",
            "399787db53fe4f5192404dd2caaaa532",
            "71fd843498c4412b9dc4802c1b26cb67"
          ]
        },
        "id": "o0N2dZqzYCeD",
        "outputId": "5f52ab53-1bc0-432c-e3e1-71b02545e2ff"
      },
      "execution_count": null,
      "outputs": [
        {
          "output_type": "stream",
          "name": "stdout",
          "text": [
            "Calculating the improved quantum kernel matrix...\n"
          ]
        },
        {
          "output_type": "display_data",
          "data": {
            "text/plain": [
              "Kernel Rows:   0%|          | 0/100 [00:00<?, ?it/s]"
            ],
            "application/vnd.jupyter.widget-view+json": {
              "version_major": 2,
              "version_minor": 0,
              "model_id": "5e61230a6cd240ceb557c7852d86accd"
            }
          },
          "metadata": {}
        },
        {
          "output_type": "stream",
          "name": "stdout",
          "text": [
            "QSVM training complete.\n",
            "\n",
            "Training the classical SVM classifier...\n",
            "SVM training complete.\n"
          ]
        }
      ]
    },
    {
      "cell_type": "markdown",
      "source": [
        "# **Part 3: Building a Variational Quantum Classifier (VQC)**\n",
        "Now we'll build a different kind of quantum model.\n",
        "\n",
        "**What is a Variational Quantum Classifier (VQC)?**\n",
        "\n",
        "A **Variational Quantum Classifier (VQC)** is another type of quantum machine learning model. Instead of using a quantum circuit as a kernel for a classical SVM, a VQC uses a \"parameterized\" quantum circuit as the core of the classifier itself.\n",
        "\n",
        "Here's a simple breakdown of how it works:\n",
        "\n",
        "* **Data Encoding**: We first encode our classical data into a quantum state.\n",
        "\n",
        "* **Variational Circuit**: This is the heart of the VQC. It's a quantum circuit with adjustable parameters (or \"weights\"). We can think of these as knobs we can turn to change the behavior of the circuit.\n",
        "\n",
        "* **Measurement**: After the data is processed by the variational circuit, we measure one of the qubits. The outcome of this measurement is used to make a prediction (e.g., class \"0\" or \"1\").\n",
        "\n",
        "* **Training**: We use a classical optimizer to \"tune\" the parameters of our variational circuit. The optimizer's goal is to find the set of parameters that minimizes a \"cost function,\" which measures how many mistakes the classifier is making.\n",
        "\n",
        "In essence, a VQC is a hybrid quantum-classical algorithm where a quantum computer performs the classification and a classical computer optimizes the quantum circuit.\n",
        "\n",
        "**Defining the VQC Circuit**\n",
        "\n",
        "The VQC consists of layers of gates with trainable weights. The input data is first encoded, and then it passes through these trainable layers before a final measurement is made."
      ],
      "metadata": {
        "id": "psAMHb0tDqGb"
      }
    },
    {
      "cell_type": "markdown",
      "source": [
        "**Visualizing the VQC Circuit**\n",
        "\n",
        "Let's draw the VQC circuit. Since it has many layers, the diagram will be quite large, but it clearly shows the structure of data encoding followed by trainable layers."
      ],
      "metadata": {
        "id": "1DSEmxwIO8Lt"
      }
    },
    {
      "cell_type": "code",
      "source": [
        "num_qubits = 2\n",
        "num_layers = 4\n",
        "dev = qml.device(\"lightning.qubit\", wires=num_qubits)\n",
        "\n",
        "def layer(W):\n",
        "    qml.H(wires=0)\n",
        "    qml.H(wires=1)\n",
        "    qml.RY(W[0], wires=0)\n",
        "    qml.RY(W[1], wires=1)\n",
        "    qml.CNOT(wires=[0, 1])\n",
        "    qml.RY(W[2], wires=0)\n",
        "    qml.RY(W[3], wires=1)\n",
        "\n",
        "@qml.qnode(dev)\n",
        "def circuit(weights, x):\n",
        "    qml.AngleEmbedding(x, wires=range(num_qubits))\n",
        "    for W in weights:\n",
        "        layer(W)\n",
        "    return qml.expval(qml.PauliZ(0))\n",
        "\n",
        "def variational_classifier(weights, bias, x):\n",
        "    return circuit(weights, x) + bias\n",
        "\n",
        "def binary_cross_entropy_loss(labels, predictions_prob):\n",
        "    predictions_prob = np.clip(predictions_prob, 1e-7, 1 - 1e-7)\n",
        "    return -np.mean(labels * np.log(predictions_prob) + (1 - labels) * np.log(1 - predictions_prob))\n",
        "\n",
        "def sigmoid(x):\n",
        "    return 1 / (1 + np.exp(-x))\n",
        "\n",
        "def cost(weights, bias, X, Y):\n",
        "    logits = np.array([variational_classifier(weights, bias, x) for x in X])\n",
        "    probabilities = sigmoid(logits)\n",
        "    return binary_cross_entropy_loss(Y, probabilities)\n",
        "\n",
        "def accuracy(weights, bias, X, Y):\n",
        "    logits = np.array([variational_classifier(weights, bias, x) for x in X])\n",
        "    probabilities = sigmoid(logits)\n",
        "    predicted_labels = (probabilities > 0.5).astype(int)\n",
        "    return np.sum(predicted_labels == Y) / len(Y)\n"
      ],
      "metadata": {
        "id": "490X-cEK8JJA"
      },
      "execution_count": null,
      "outputs": []
    },
    {
      "cell_type": "code",
      "source": [
        "# Create dummy weights and a data point to draw the circuit\n",
        "dummy_weights = np.random.uniform(0, 2 * np.pi, size=(num_layers, 4))\n",
        "dummy_x = np.array([0.5, 0.3])\n",
        "\n",
        "# Draw the VQC circuit\n",
        "fig, ax = qml.draw_mpl(circuit)(dummy_weights, dummy_x)\n",
        "fig.suptitle(\"Variational Quantum Classifier (VQC) Circuit\")\n",
        "plt.show()\n",
        "\n",
        "# You can also get a text-based drawing\n",
        "#print(\"VQC Circuit (Text):\")\n",
        "#print(qml.draw(vqc_circuit)(dummy_weights, dummy_x))"
      ],
      "metadata": {
        "colab": {
          "base_uri": "https://localhost:8080/",
          "height": 199
        },
        "id": "HqK6Qm25O8Ws",
        "outputId": "0e9cf8fb-28e2-4cfc-f068-89d8fcbc5ae5"
      },
      "execution_count": null,
      "outputs": [
        {
          "output_type": "display_data",
          "data": {
            "text/plain": [
              "<Figure size 2000x300 with 1 Axes>"
            ],
            "image/png": "[encoded data removed]"
          },
          "metadata": {}
        }
      ]
    },
    {
      "cell_type": "markdown",
      "source": [
        "**Training the VQC**\n",
        "\n",
        "We train the VQC by minimizing a cost function (square loss) using a classical optimizer. The optimizer iteratively updates the circuit's weights to improve its accuracy."
      ],
      "metadata": {
        "id": "nnnqE3jvPMnU"
      }
    },
    {
      "cell_type": "code",
      "source": [
        "# Initialize parameters.\n",
        "np.random.seed(1)\n",
        "weights = np.random.uniform(0, 2 * np.pi, size=(num_layers, 4), requires_grad=True)\n",
        "bias = np.array(0.0, requires_grad=True)\n",
        "\n",
        "# Set up optimizer and training parameters.\n",
        "optimizer = qml.AdamOptimizer(0.1)\n",
        "batch_size = 10\n",
        "training_steps = 100\n",
        "\n",
        "# --- Training Loop ---\n",
        "print(\"Training the VQC...\")\n",
        "train_costs = []\n",
        "val_accuracies = []\n",
        "\n",
        "for i in tqdm(range(training_steps), desc=\"VQC Training\"):\n",
        "    batch_index = np.random.randint(0, len(X_train_scaled), (batch_size,))\n",
        "    X_batch = X_train_scaled[batch_index]\n",
        "    y_batch = y_train[batch_index]\n",
        "\n",
        "    # --- THIS IS THE KEY CHANGE ---\n",
        "    # We call step_and_cost by passing the cost function and its arguments directly.\n",
        "    # PennyLane automatically finds the trainable parameters (weights, bias).\n",
        "    (weights, bias), cost_val = optimizer.step_and_cost(cost, weights, bias, X=X_batch, Y=y_batch)\n",
        "\n",
        "    train_costs.append(cost_val)\n",
        "\n",
        "    if (i + 1) % 5 == 0:\n",
        "        val_acc = accuracy(weights, bias, X_val_scaled, y_val)\n",
        "        val_accuracies.append(val_acc)\n",
        "        print(f\"Iter: {i+1:3d} | Cost: {cost_val:0.7f} | Validation Accuracy: {val_acc:0.4f}\")\n",
        "\n",
        "\n",
        "print(\"\\nTraining complete.\")\n",
        "final_train_accuracy = accuracy(weights, bias, X_train_scaled, y_train)\n",
        "final_val_accuracy = accuracy(weights, bias, X_val_scaled, y_val)\n",
        "\n",
        "print(f\"\\nFinal Training Accuracy: {final_train_accuracy:.4f}\")\n",
        "print(f\"Final Validation Accuracy: {final_val_accuracy:.4f}\")"
      ],
      "metadata": {
        "colab": {
          "base_uri": "https://localhost:8080/",
          "height": 500,
          "referenced_widgets": [
            "9e8ee297b6a34320b3f6c5327bf623d6",
            "d0453dc0a26e49428762b362dbd23b05",
            "827b1bc43a424cd2b204dc6756e963ac",
            "3b76e7dfc34f49fca04649e549f56b12",
            "a6906d8bcf3846d682449ab3774deb0e",
            "bcbda9136fce4452b4a86e8b5ef82903",
            "200840d2e67d47f295e6e427927ce417",
            "78d09a89a2dd439295b95ee7c1cd1134",
            "86639e62b712401eaba307d4bbb5a481",
            "0e6a0f6337db4920a587e8b174cb49ee",
            "11e135d36a7a448ca8d54d3fc93da76a"
          ]
        },
        "id": "tjEXk1l37wl5",
        "outputId": "09a285b7-4e5e-47f6-bbe7-cfdd73aa2698"
      },
      "execution_count": null,
      "outputs": [
        {
          "output_type": "stream",
          "name": "stdout",
          "text": [
            "Training the VQC...\n"
          ]
        },
        {
          "output_type": "display_data",
          "data": {
            "text/plain": [
              "VQC Training:   0%|          | 0/100 [00:00<?, ?it/s]"
            ],
            "application/vnd.jupyter.widget-view+json": {
              "version_major": 2,
              "version_minor": 0,
              "model_id": "9e8ee297b6a34320b3f6c5327bf623d6"
            }
          },
          "metadata": {}
        },
        {
          "output_type": "stream",
          "name": "stdout",
          "text": [
            "Iter:   5 | Cost: 0.6362701 | Validation Accuracy: 0.5100\n",
            "Iter:  10 | Cost: 0.7978248 | Validation Accuracy: 0.5100\n",
            "Iter:  15 | Cost: 0.6251194 | Validation Accuracy: 0.5300\n",
            "Iter:  20 | Cost: 0.7241309 | Validation Accuracy: 0.5500\n",
            "Iter:  25 | Cost: 0.6213281 | Validation Accuracy: 0.5300\n",
            "Iter:  30 | Cost: 0.7280199 | Validation Accuracy: 0.4900\n",
            "Iter:  35 | Cost: 0.6469440 | Validation Accuracy: 0.5300\n",
            "Iter:  40 | Cost: 0.6564916 | Validation Accuracy: 0.5700\n",
            "Iter:  45 | Cost: 0.6666654 | Validation Accuracy: 0.5300\n",
            "Iter:  50 | Cost: 0.7143594 | Validation Accuracy: 0.5600\n",
            "Iter:  55 | Cost: 0.6764988 | Validation Accuracy: 0.5600\n",
            "Iter:  60 | Cost: 0.5989956 | Validation Accuracy: 0.5500\n",
            "Iter:  65 | Cost: 0.6661660 | Validation Accuracy: 0.5400\n",
            "Iter:  70 | Cost: 0.7245033 | Validation Accuracy: 0.5300\n",
            "Iter:  75 | Cost: 0.6793176 | Validation Accuracy: 0.5600\n",
            "Iter:  80 | Cost: 0.6299336 | Validation Accuracy: 0.5600\n",
            "Iter:  85 | Cost: 0.7014404 | Validation Accuracy: 0.5200\n",
            "Iter:  90 | Cost: 0.7001853 | Validation Accuracy: 0.4900\n",
            "Iter:  95 | Cost: 0.7841849 | Validation Accuracy: 0.4900\n",
            "Iter: 100 | Cost: 0.7042490 | Validation Accuracy: 0.6000\n",
            "\n",
            "Training complete.\n",
            "\n",
            "Final Training Accuracy: 0.4400\n",
            "Final Validation Accuracy: 0.6000\n"
          ]
        }
      ]
    },
    {
      "cell_type": "markdown",
      "source": [
        "# **Part 4: Visualize and Compare All Results**\n",
        "Finally, we'll calculate the accuracy of all three models and plot their decision boundaries to visually compare how they classified the data.\n",
        "\n",
        "**Calculating Predictions and Accuracy**\n",
        "\n",
        "Here we generate predictions for a grid of points to visualize the decision boundaries."
      ],
      "metadata": {
        "id": "uAeUyN7rPU-N"
      }
    },
    {
      "cell_type": "code",
      "source": [
        "# --- Calculate QSVM Results ---\n",
        "print(\"\\nPredicting with QSVM...\")\n",
        "grid_resolution_qsvm = 0.2\n",
        "\n",
        "# Score the model on the unseen validation data\n",
        "qsvm_accuracy = qsvm_classifier.score(X_val_scaled, y_val)\n",
        "\n",
        "# Define plot boundaries based on the training data\n",
        "x_min, x_max = X_train_scaled[:, 0].min() - 0.5, X_train_scaled[:, 0].max() + 0.5\n",
        "y_min, y_max = X_train_scaled[:, 1].min() - 0.5, X_train_scaled[:, 1].max() + 0.5\n",
        "\n",
        "# Create the prediction grid\n",
        "xx_qsvm, yy_qsvm = np.meshgrid(np.arange(x_min, x_max, grid_resolution_qsvm), np.arange(y_min, y_max, grid_resolution_qsvm))\n",
        "grid_points_qsvm = np.c_[xx_qsvm.ravel(), yy_qsvm.ravel()]\n",
        "qsvm_predictions_grid = qsvm_classifier.predict(grid_points_qsvm)\n",
        "Z_qsvm = qsvm_predictions_grid.reshape(xx_qsvm.shape)"
      ],
      "metadata": {
        "colab": {
          "base_uri": "https://localhost:8080/",
          "height": 116,
          "referenced_widgets": [
            "81577d0600c64e11aeda656786bca76a",
            "7c302b0e604443c2831f65f303d0b55b",
            "2353140248044be68c5cf0e2e1169263",
            "b33c1a356ef34b18996c60e67fe26676",
            "de92d11b1c774935b29411bfa8202acf",
            "0516c3fc2ac646f98c929f41e6bbec55",
            "0847eec207dd4cf6a7f1ed8797a8aa0e",
            "ade6d690c16c4748973b75c17c2d3496",
            "c7704e8cc0744ed88290b0b2332aab0c",
            "631bb0064e2c4e6084807bba870ec2f8",
            "451d1dd82ed349fe94b881609293e836",
            "ec033f096c1243fb9cff64e8db5c8a64",
            "37565dcc355b4cfe8235cfb9a83f13a5",
            "804f0a3cc2304c0293e494381eb043f6",
            "0eb5099449bc4a73be5f8f66b1ada4d1",
            "eaca45dd4f3544af9e196bface3c4f7a",
            "d8037efaa1a34d9fa9ab99f13061db1d",
            "75b9f9827e85448d9894aa32348a96ff",
            "aab7a9e1a50c4f6d96a3a0cc650168a2",
            "7d735eaee8224705b6c14ee6ffbd879a",
            "717246087caf42cda27fe967969a5de6",
            "1bad5a95b5804ea6a494cc68d493693c"
          ]
        },
        "id": "m7ro53ZSDxf6",
        "outputId": "9fb42df5-11ff-4e00-aaba-ed1330da0d62"
      },
      "execution_count": null,
      "outputs": [
        {
          "output_type": "stream",
          "name": "stdout",
          "text": [
            "\n",
            "Predicting with QSVM...\n"
          ]
        },
        {
          "output_type": "display_data",
          "data": {
            "text/plain": [
              "Kernel Rows:   0%|          | 0/100 [00:00<?, ?it/s]"
            ],
            "application/vnd.jupyter.widget-view+json": {
              "version_major": 2,
              "version_minor": 0,
              "model_id": "81577d0600c64e11aeda656786bca76a"
            }
          },
          "metadata": {}
        },
        {
          "output_type": "display_data",
          "data": {
            "text/plain": [
              "Kernel Rows:   0%|          | 0/576 [00:00<?, ?it/s]"
            ],
            "application/vnd.jupyter.widget-view+json": {
              "version_major": 2,
              "version_minor": 0,
              "model_id": "ec033f096c1243fb9cff64e8db5c8a64"
            }
          },
          "metadata": {}
        }
      ]
    },
    {
      "cell_type": "code",
      "source": [
        "# --- Calculate Classical SVM Results ---\n",
        "print(\"\\nPredicting with Classical SVM...\")\n",
        "grid_resolution_svm = 0.2\n",
        "\n",
        "# Score the model on the unseen validation data\n",
        "svm_accuracy = svm_classifier.score(X_val_scaled, y_val)\n",
        "\n",
        "# Define plot boundaries based on the training data\n",
        "x_min, x_max = X_train_scaled[:, 0].min() - 0.5, X_train_scaled[:, 0].max() + 0.5\n",
        "y_min, y_max = X_train_scaled[:, 1].min() - 0.5, X_train_scaled[:, 1].max() + 0.5\n",
        "\n",
        "# Create the prediction grid\n",
        "xx_svm, yy_svm = np.meshgrid(np.arange(x_min, x_max, grid_resolution_svm), np.arange(y_min, y_max, grid_resolution_svm))\n",
        "grid_points_svm = np.c_[xx_svm.ravel(), yy_svm.ravel()]\n",
        "svm_predictions_grid = svm_classifier.predict(grid_points_svm)\n",
        "Z_svm = svm_predictions_grid.reshape(xx_svm.shape)"
      ],
      "metadata": {
        "id": "Alz_VNjA8PZt",
        "colab": {
          "base_uri": "https://localhost:8080/"
        },
        "outputId": "cf24b52c-3328-461a-9a6f-8e6c4ebe274b"
      },
      "execution_count": null,
      "outputs": [
        {
          "output_type": "stream",
          "name": "stdout",
          "text": [
            "\n",
            "Predicting with Classical SVM...\n"
          ]
        }
      ]
    },
    {
      "cell_type": "code",
      "source": [
        "# --- Calculate VQC Results ---\n",
        "print(\"\\nPredicting with VQC...\")\n",
        "grid_resolution_vqc = 0.2\n",
        "\n",
        "# Calculate accuracy on the validation set using our defined function\n",
        "vqc_accuracy = accuracy(weights, bias, X_val_scaled, y_val)\n",
        "\n",
        "# Define plot boundaries based on the training data\n",
        "x_min, x_max = X_train_scaled[:, 0].min() - 0.5, X_train_scaled[:, 0].max() + 0.5\n",
        "y_min, y_max = X_train_scaled[:, 1].min() - 0.5, X_train_scaled[:, 1].max() + 0.5\n",
        "\n",
        "# Create the prediction grid\n",
        "xx_vqc, yy_vqc = np.meshgrid(np.arange(x_min, x_max, grid_resolution_vqc), np.arange(y_min, y_max, grid_resolution_vqc))\n",
        "grid_points_vqc = np.c_[xx_vqc.ravel(), yy_vqc.ravel()]\n",
        "vqc_predictions_grid = np.array([np.sign(variational_classifier(weights, bias, p)) for p in tqdm(grid_points_vqc, desc=\"VQC Grid\")]).reshape(xx_vqc.shape)\n"
      ],
      "metadata": {
        "colab": {
          "base_uri": "https://localhost:8080/",
          "height": 84,
          "referenced_widgets": [
            "1ccf473c08614af88d10badf0b79f191",
            "042ab38b05a641279b33e1cd38abaca4",
            "dcffc923730442f89e1b8f9dc915514a",
            "fce86ebbe2cc4c44aa0ea5403b3008d6",
            "5453fcb754ee4ae1b38d728a1077e0b7",
            "29456387ca0949bd82d9b78298b921a9",
            "144b0f9dc6f5432b9a6898ec8df13018",
            "4f93fefabdb54f23a0e5264c45067b45",
            "da4b7dd311f9476591a5d81f44224cad",
            "e2482354375948b7a26ab61c6eff9ffa",
            "9fa8c3064b8f42c58d4c2ecee55da20e"
          ]
        },
        "id": "qqqNomA6D01L",
        "outputId": "20ce76de-a780-475b-ad4f-2a6bdfd822ab"
      },
      "execution_count": null,
      "outputs": [
        {
          "output_type": "stream",
          "name": "stdout",
          "text": [
            "\n",
            "Predicting with VQC...\n"
          ]
        },
        {
          "output_type": "display_data",
          "data": {
            "text/plain": [
              "VQC Grid:   0%|          | 0/576 [00:00<?, ?it/s]"
            ],
            "application/vnd.jupyter.widget-view+json": {
              "version_major": 2,
              "version_minor": 0,
              "model_id": "1ccf473c08614af88d10badf0b79f191"
            }
          },
          "metadata": {}
        }
      ]
    },
    {
      "cell_type": "markdown",
      "source": [
        "**Plotting the Decision Boundaries**"
      ],
      "metadata": {
        "id": "z7J5yefnRaKH"
      }
    },
    {
      "cell_type": "code",
      "source": [
        "plt.style.use(\"seaborn-v0_8-whitegrid\")\n",
        "fig, (ax1, ax2, ax3) = plt.subplots(1, 3, figsize=(21, 6))\n",
        "\n",
        "# --- Plot QSVM Results ---\n",
        "# The decision boundary (Z_qsvm) and scatter points (y_val) are already on the same {-1, 1} scale.\n",
        "ax1.contourf(xx_qsvm, yy_qsvm, Z_qsvm, levels=[-1, 0, 1], alpha=0.3, colors=[\"royalblue\", \"gold\"])\n",
        "ax1.contour(xx_qsvm, yy_qsvm, Z_qsvm, levels=[0], colors=\"black\", linestyles=\"--\")\n",
        "# Plot validation data points\n",
        "ax1.scatter(X_val_scaled[y_val == 0, 0], X_val_scaled[y_val == 0, 1], c=\"royalblue\", marker=\"o\", edgecolors=\"k\", label=\"Class 0\")\n",
        "ax1.scatter(X_val_scaled[y_val == 1, 0], X_val_scaled[y_val == 1, 1], c=\"gold\", marker=\"s\", edgecolors=\"k\", label=\"Class 1\")\n",
        "ax1.set_title(f\"Quantum SVM (QSVM) Boundary\\nAccuracy: {qsvm_accuracy:.2%}\")\n",
        "ax1.set_xlabel(\"Feature 1\")\n",
        "ax1.set_ylabel(\"Feature 2\")\n",
        "ax1.legend(loc=\"upper left\")\n",
        "\n",
        "\n",
        "# --- Plot Classical SVM Results ---\n",
        "# The decision boundary (Z_svm) and scatter points (y_val) are already on the same {-1, 1} scale.\n",
        "ax2.contourf(xx_svm, yy_svm, Z_svm, levels=[-1, 0, 1], alpha=0.3, colors=[\"royalblue\", \"gold\"])\n",
        "ax2.contour(xx_svm, yy_svm, Z_svm, levels=[0], colors=\"black\", linestyles=\"--\")\n",
        "# Plot validation data points\n",
        "ax2.scatter(X_val_scaled[y_val == 0, 0], X_val_scaled[y_val == 0, 1], c=\"royalblue\", marker=\"o\", edgecolors=\"k\", label=\"Class 0\")\n",
        "ax2.scatter(X_val_scaled[y_val == 1, 0], X_val_scaled[y_val == 1, 1], c=\"gold\", marker=\"s\", edgecolors=\"k\", label=\"Class 1\")\n",
        "ax2.set_title(f\"Classical SVM (RBF Kernel) Boundary\\nAccuracy: {svm_accuracy:.2%}\")\n",
        "ax2.set_xlabel(\"Feature 1\")\n",
        "ax2.legend(loc=\"upper left\")\n",
        "\n",
        "\n",
        "# --- Plot VQC Results ---\n",
        "# The VQC plot is already correct, so no change is needed here.\n",
        "ax3.contourf(xx_vqc, yy_vqc, vqc_predictions_grid, levels=[-1, 0, 1], alpha=0.3, colors=[\"royalblue\", \"gold\"])\n",
        "ax3.contour(xx_vqc, yy_vqc, vqc_predictions_grid, levels=[0], colors=\"black\", linestyles=\"--\")\n",
        "# Plot validation data points\n",
        "ax3.scatter(X_val_scaled[y_val == 0, 0], X_val_scaled[y_val == 0, 1], c=\"royalblue\", marker=\"o\", edgecolors=\"k\", label=\"Class 0\")\n",
        "ax3.scatter(X_val_scaled[y_val == 1, 0], X_val_scaled[y_val == 1, 1], c=\"gold\", marker=\"s\", edgecolors=\"k\", label=\"Class 1\")\n",
        "ax3.set_title(f\"Variational Quantum Classifier (VQC) Boundary\\nAccuracy: {vqc_accuracy:.2%}\")\n",
        "ax3.set_xlabel(\"Feature 1\")\n",
        "ax3.legend(loc=\"upper left\")\n",
        "\n",
        "\n",
        "plt.tight_layout()\n",
        "plt.show()\n",
        "\n",
        "print(f\"\\nQSVM Accuracy: {qsvm_accuracy:.4f}\")\n",
        "print(f\"VQC Accuracy: {vqc_accuracy:.4f}\")\n",
        "print(f\"Classical SVM Accuracy: {svm_accuracy:.4f}\")"
      ],
      "metadata": {
        "colab": {
          "base_uri": "https://localhost:8080/",
          "height": 411
        },
        "id": "I-XC6_OPT6tS",
        "outputId": "a4b1c079-56fe-441f-9ec0-b9de2370fd44"
      },
      "execution_count": null,
      "outputs": [
        {
          "output_type": "display_data",
          "data": {
            "text/plain": [
              "<Figure size 2100x600 with 3 Axes>"
            ],
            "image/png": "[encoded data removed]"
          },
          "metadata": {}
        },
        {
          "output_type": "stream",
          "name": "stdout",
          "text": [
            "\n",
            "QSVM Accuracy: 0.4100\n",
            "VQC Accuracy: 0.6000\n",
            "Classical SVM Accuracy: 0.9800\n"
          ]
        }
      ]
    }
  ],
  "metadata": {
    "colab": {
      "provenance": [],
      "gpuType": "T4"
    },
    "kernelspec": {
      "display_name": "Python 3",
      "name": "python3"
    },
    "widgets": {
      "application/vnd.jupyter.widget-state+json": {
        "c633d59b98714298807945c8ddbeeae2": {
          "model_module": "@jupyter-widgets/controls",
          "model_name": "HBoxModel",
          "model_module_version": "1.5.0",
          "state": {
            "_dom_classes": [],
            "_model_module": "@jupyter-widgets/controls",
            "_model_module_version": "1.5.0",
            "_model_name": "HBoxModel",
            "_view_count": null,
            "_view_module": "@jupyter-widgets/controls",
            "_view_module_version": "1.5.0",
            "_view_name": "HBoxView",
            "box_style": "",
            "children": [
              "IPY_MODEL_3a6de23420a64bedb1ab8a7d92046536",
              "IPY_MODEL_75b4c7f74d534be58c82e293a9bcc3c6",
              "IPY_MODEL_cc4ef8abe98348d98dd624fc5befca0a"
            ],
            "layout": "IPY_MODEL_db6eb57420c94c37b59a6068f10f5f31"
          }
        },
        "3a6de23420a64bedb1ab8a7d92046536": {
          "model_module": "@jupyter-widgets/controls",
          "model_name": "HTMLModel",
          "model_module_version": "1.5.0",
          "state": {
            "_dom_classes": [],
            "_model_module": "@jupyter-widgets/controls",
            "_model_module_version": "1.5.0",
            "_model_name": "HTMLModel",
            "_view_count": null,
            "_view_module": "@jupyter-widgets/controls",
            "_view_module_version": "1.5.0",
            "_view_name": "HTMLView",
            "description": "",
            "description_tooltip": null,
            "layout": "IPY_MODEL_a1f68fd14ccb4f5eae7c6459a89315f9",
            "placeholder": "​",
            "style": "IPY_MODEL_32987ac2a0b646d697a2f80db04f5b0d",
            "value": "Kernel Rows: 100%"
          }
        },
        "75b4c7f74d534be58c82e293a9bcc3c6": {
          "model_module": "@jupyter-widgets/controls",
          "model_name": "FloatProgressModel",
          "model_module_version": "1.5.0",
          "state": {
            "_dom_classes": [],
            "_model_module": "@jupyter-widgets/controls",
            "_model_module_version": "1.5.0",
            "_model_name": "FloatProgressModel",
            "_view_count": null,
            "_view_module": "@jupyter-widgets/controls",
            "_view_module_version": "1.5.0",
            "_view_name": "ProgressView",
            "bar_style": "success",
            "description": "",
            "description_tooltip": null,
            "layout": "IPY_MODEL_a28f7a71772c4d528d3374c8cacf11a8",
            "max": 100,
            "min": 0,
            "orientation": "horizontal",
            "style": "IPY_MODEL_d276c5c686444ea79463410aad494f97",
            "value": 100
          }
        },
        "cc4ef8abe98348d98dd624fc5befca0a": {
          "model_module": "@jupyter-widgets/controls",
          "model_name": "HTMLModel",
          "model_module_version": "1.5.0",
          "state": {
            "_dom_classes": [],
            "_model_module": "@jupyter-widgets/controls",
            "_model_module_version": "1.5.0",
            "_model_name": "HTMLModel",
            "_view_count": null,
            "_view_module": "@jupyter-widgets/controls",
            "_view_module_version": "1.5.0",
            "_view_name": "HTMLView",
            "description": "",
            "description_tooltip": null,
            "layout": "IPY_MODEL_b5d2a0f310624e74a5b23265bdc43f74",
            "placeholder": "​",
            "style": "IPY_MODEL_a061795068ca4a3d93980b378d3be84c",
            "value": " 100/100 [00:26&lt;00:00,  4.72it/s]"
          }
        },
        "db6eb57420c94c37b59a6068f10f5f31": {
          "model_module": "@jupyter-widgets/base",
          "model_name": "LayoutModel",
          "model_module_version": "1.2.0",
          "state": {
            "_model_module": "@jupyter-widgets/base",
            "_model_module_version": "1.2.0",
            "_model_name": "LayoutModel",
            "_view_count": null,
            "_view_module": "@jupyter-widgets/base",
            "_view_module_version": "1.2.0",
            "_view_name": "LayoutView",
            "align_content": null,
            "align_items": null,
            "align_self": null,
            "border": null,
            "bottom": null,
            "display": null,
            "flex": null,
            "flex_flow": null,
            "grid_area": null,
            "grid_auto_columns": null,
            "grid_auto_flow": null,
            "grid_auto_rows": null,
            "grid_column": null,
            "grid_gap": null,
            "grid_row": null,
            "grid_template_areas": null,
            "grid_template_columns": null,
            "grid_template_rows": null,
            "height": null,
            "justify_content": null,
            "justify_items": null,
            "left": null,
            "margin": null,
            "max_height": null,
            "max_width": null,
            "min_height": null,
            "min_width": null,
            "object_fit": null,
            "object_position": null,
            "order": null,
            "overflow": null,
            "overflow_x": null,
            "overflow_y": null,
            "padding": null,
            "right": null,
            "top": null,
            "visibility": null,
            "width": null
          }
        },
        "a1f68fd14ccb4f5eae7c6459a89315f9": {
          "model_module": "@jupyter-widgets/base",
          "model_name": "LayoutModel",
          "model_module_version": "1.2.0",
          "state": {
            "_model_module": "@jupyter-widgets/base",
            "_model_module_version": "1.2.0",
            "_model_name": "LayoutModel",
            "_view_count": null,
            "_view_module": "@jupyter-widgets/base",
            "_view_module_version": "1.2.0",
            "_view_name": "LayoutView",
            "align_content": null,
            "align_items": null,
            "align_self": null,
            "border": null,
            "bottom": null,
            "display": null,
            "flex": null,
            "flex_flow": null,
            "grid_area": null,
            "grid_auto_columns": null,
            "grid_auto_flow": null,
            "grid_auto_rows": null,
            "grid_column": null,
            "grid_gap": null,
            "grid_row": null,
            "grid_template_areas": null,
            "grid_template_columns": null,
            "grid_template_rows": null,
            "height": null,
            "justify_content": null,
            "justify_items": null,
            "left": null,
            "margin": null,
            "max_height": null,
            "max_width": null,
            "min_height": null,
            "min_width": null,
            "object_fit": null,
            "object_position": null,
            "order": null,
            "overflow": null,
            "overflow_x": null,
            "overflow_y": null,
            "padding": null,
            "right": null,
            "top": null,
            "visibility": null,
            "width": null
          }
        },
        "32987ac2a0b646d697a2f80db04f5b0d": {
          "model_module": "@jupyter-widgets/controls",
          "model_name": "DescriptionStyleModel",
          "model_module_version": "1.5.0",
          "state": {
            "_model_module": "@jupyter-widgets/controls",
            "_model_module_version": "1.5.0",
            "_model_name": "DescriptionStyleModel",
            "_view_count": null,
            "_view_module": "@jupyter-widgets/base",
            "_view_module_version": "1.2.0",
            "_view_name": "StyleView",
            "description_width": ""
          }
        },
        "a28f7a71772c4d528d3374c8cacf11a8": {
          "model_module": "@jupyter-widgets/base",
          "model_name": "LayoutModel",
          "model_module_version": "1.2.0",
          "state": {
            "_model_module": "@jupyter-widgets/base",
            "_model_module_version": "1.2.0",
            "_model_name": "LayoutModel",
            "_view_count": null,
            "_view_module": "@jupyter-widgets/base",
            "_view_module_version": "1.2.0",
            "_view_name": "LayoutView",
            "align_content": null,
            "align_items": null,
            "align_self": null,
            "border": null,
            "bottom": null,
            "display": null,
            "flex": null,
            "flex_flow": null,
            "grid_area": null,
            "grid_auto_columns": null,
            "grid_auto_flow": null,
            "grid_auto_rows": null,
            "grid_column": null,
            "grid_gap": null,
            "grid_row": null,
            "grid_template_areas": null,
            "grid_template_columns": null,
            "grid_template_rows": null,
            "height": null,
            "justify_content": null,
            "justify_items": null,
            "left": null,
            "margin": null,
            "max_height": null,
            "max_width": null,
            "min_height": null,
            "min_width": null,
            "object_fit": null,
            "object_position": null,
            "order": null,
            "overflow": null,
            "overflow_x": null,
            "overflow_y": null,
            "padding": null,
            "right": null,
            "top": null,
            "visibility": null,
            "width": null
          }
        },
        "d276c5c686444ea79463410aad494f97": {
          "model_module": "@jupyter-widgets/controls",
          "model_name": "ProgressStyleModel",
          "model_module_version": "1.5.0",
          "state": {
            "_model_module": "@jupyter-widgets/controls",
            "_model_module_version": "1.5.0",
            "_model_name": "ProgressStyleModel",
            "_view_count": null,
            "_view_module": "@jupyter-widgets/base",
            "_view_module_version": "1.2.0",
            "_view_name": "StyleView",
            "bar_color": null,
            "description_width": ""
          }
        },
        "b5d2a0f310624e74a5b23265bdc43f74": {
          "model_module": "@jupyter-widgets/base",
          "model_name": "LayoutModel",
          "model_module_version": "1.2.0",
          "state": {
            "_model_module": "@jupyter-widgets/base",
            "_model_module_version": "1.2.0",
            "_model_name": "LayoutModel",
            "_view_count": null,
            "_view_module": "@jupyter-widgets/base",
            "_view_module_version": "1.2.0",
            "_view_name": "LayoutView",
            "align_content": null,
            "align_items": null,
            "align_self": null,
            "border": null,
            "bottom": null,
            "display": null,
            "flex": null,
            "flex_flow": null,
            "grid_area": null,
            "grid_auto_columns": null,
            "grid_auto_flow": null,
            "grid_auto_rows": null,
            "grid_column": null,
            "grid_gap": null,
            "grid_row": null,
            "grid_template_areas": null,
            "grid_template_columns": null,
            "grid_template_rows": null,
            "height": null,
            "justify_content": null,
            "justify_items": null,
            "left": null,
            "margin": null,
            "max_height": null,
            "max_width": null,
            "min_height": null,
            "min_width": null,
            "object_fit": null,
            "object_position": null,
            "order": null,
            "overflow": null,
            "overflow_x": null,
            "overflow_y": null,
            "padding": null,
            "right": null,
            "top": null,
            "visibility": null,
            "width": null
          }
        },
        "a061795068ca4a3d93980b378d3be84c": {
          "model_module": "@jupyter-widgets/controls",
          "model_name": "DescriptionStyleModel",
          "model_module_version": "1.5.0",
          "state": {
            "_model_module": "@jupyter-widgets/controls",
            "_model_module_version": "1.5.0",
            "_model_name": "DescriptionStyleModel",
            "_view_count": null,
            "_view_module": "@jupyter-widgets/base",
            "_view_module_version": "1.2.0",
            "_view_name": "StyleView",
            "description_width": ""
          }
        },
        "5e61230a6cd240ceb557c7852d86accd": {
          "model_module": "@jupyter-widgets/controls",
          "model_name": "HBoxModel",
          "model_module_version": "1.5.0",
          "state": {
            "_dom_classes": [],
            "_model_module": "@jupyter-widgets/controls",
            "_model_module_version": "1.5.0",
            "_model_name": "HBoxModel",
            "_view_count": null,
            "_view_module": "@jupyter-widgets/controls",
            "_view_module_version": "1.5.0",
            "_view_name": "HBoxView",
            "box_style": "",
            "children": [
              "IPY_MODEL_b4cdae765a69476683c5da28f69602c2",
              "IPY_MODEL_88a4838cdc0a46189f8359070e0796bc",
              "IPY_MODEL_7701bfeab5bf4aea8273c336771c225a"
            ],
            "layout": "IPY_MODEL_18d4d2e829024dbaa4af7d317fd6ae2b"
          }
        },
        "b4cdae765a69476683c5da28f69602c2": {
          "model_module": "@jupyter-widgets/controls",
          "model_name": "HTMLModel",
          "model_module_version": "1.5.0",
          "state": {
            "_dom_classes": [],
            "_model_module": "@jupyter-widgets/controls",
            "_model_module_version": "1.5.0",
            "_model_name": "HTMLModel",
            "_view_count": null,
            "_view_module": "@jupyter-widgets/controls",
            "_view_module_version": "1.5.0",
            "_view_name": "HTMLView",
            "description": "",
            "description_tooltip": null,
            "layout": "IPY_MODEL_f1f0e53e00ef4dedb9e5a1f2affba8c9",
            "placeholder": "​",
            "style": "IPY_MODEL_d264f04f089e433e9abefa85af4e0fa0",
            "value": "Kernel Rows: 100%"
          }
        },
        "88a4838cdc0a46189f8359070e0796bc": {
          "model_module": "@jupyter-widgets/controls",
          "model_name": "FloatProgressModel",
          "model_module_version": "1.5.0",
          "state": {
            "_dom_classes": [],
            "_model_module": "@jupyter-widgets/controls",
            "_model_module_version": "1.5.0",
            "_model_name": "FloatProgressModel",
            "_view_count": null,
            "_view_module": "@jupyter-widgets/controls",
            "_view_module_version": "1.5.0",
            "_view_name": "ProgressView",
            "bar_style": "success",
            "description": "",
            "description_tooltip": null,
            "layout": "IPY_MODEL_9b67704a0de4408c96972f4601b64019",
            "max": 100,
            "min": 0,
            "orientation": "horizontal",
            "style": "IPY_MODEL_3c46a770c5d94a9b9cc38d42a06d34aa",
            "value": 100
          }
        },
        "7701bfeab5bf4aea8273c336771c225a": {
          "model_module": "@jupyter-widgets/controls",
          "model_name": "HTMLModel",
          "model_module_version": "1.5.0",
          "state": {
            "_dom_classes": [],
            "_model_module": "@jupyter-widgets/controls",
            "_model_module_version": "1.5.0",
            "_model_name": "HTMLModel",
            "_view_count": null,
            "_view_module": "@jupyter-widgets/controls",
            "_view_module_version": "1.5.0",
            "_view_name": "HTMLView",
            "description": "",
            "description_tooltip": null,
            "layout": "IPY_MODEL_399787db53fe4f5192404dd2caaaa532",
            "placeholder": "​",
            "style": "IPY_MODEL_71fd843498c4412b9dc4802c1b26cb67",
            "value": " 100/100 [00:12&lt;00:00,  8.81it/s]"
          }
        },
        "18d4d2e829024dbaa4af7d317fd6ae2b": {
          "model_module": "@jupyter-widgets/base",
          "model_name": "LayoutModel",
          "model_module_version": "1.2.0",
          "state": {
            "_model_module": "@jupyter-widgets/base",
            "_model_module_version": "1.2.0",
            "_model_name": "LayoutModel",
            "_view_count": null,
            "_view_module": "@jupyter-widgets/base",
            "_view_module_version": "1.2.0",
            "_view_name": "LayoutView",
            "align_content": null,
            "align_items": null,
            "align_self": null,
            "border": null,
            "bottom": null,
            "display": null,
            "flex": null,
            "flex_flow": null,
            "grid_area": null,
            "grid_auto_columns": null,
            "grid_auto_flow": null,
            "grid_auto_rows": null,
            "grid_column": null,
            "grid_gap": null,
            "grid_row": null,
            "grid_template_areas": null,
            "grid_template_columns": null,
            "grid_template_rows": null,
            "height": null,
            "justify_content": null,
            "justify_items": null,
            "left": null,
            "margin": null,
            "max_height": null,
            "max_width": null,
            "min_height": null,
            "min_width": null,
            "object_fit": null,
            "object_position": null,
            "order": null,
            "overflow": null,
            "overflow_x": null,
            "overflow_y": null,
            "padding": null,
            "right": null,
            "top": null,
            "visibility": null,
            "width": null
          }
        },
        "f1f0e53e00ef4dedb9e5a1f2affba8c9": {
          "model_module": "@jupyter-widgets/base",
          "model_name": "LayoutModel",
          "model_module_version": "1.2.0",
          "state": {
            "_model_module": "@jupyter-widgets/base",
            "_model_module_version": "1.2.0",
            "_model_name": "LayoutModel",
            "_view_count": null,
            "_view_module": "@jupyter-widgets/base",
            "_view_module_version": "1.2.0",
            "_view_name": "LayoutView",
            "align_content": null,
            "align_items": null,
            "align_self": null,
            "border": null,
            "bottom": null,
            "display": null,
            "flex": null,
            "flex_flow": null,
            "grid_area": null,
            "grid_auto_columns": null,
            "grid_auto_flow": null,
            "grid_auto_rows": null,
            "grid_column": null,
            "grid_gap": null,
            "grid_row": null,
            "grid_template_areas": null,
            "grid_template_columns": null,
            "grid_template_rows": null,
            "height": null,
            "justify_content": null,
            "justify_items": null,
            "left": null,
            "margin": null,
            "max_height": null,
            "max_width": null,
            "min_height": null,
            "min_width": null,
            "object_fit": null,
            "object_position": null,
            "order": null,
            "overflow": null,
            "overflow_x": null,
            "overflow_y": null,
            "padding": null,
            "right": null,
            "top": null,
            "visibility": null,
            "width": null
          }
        },
        "d264f04f089e433e9abefa85af4e0fa0": {
          "model_module": "@jupyter-widgets/controls",
          "model_name": "DescriptionStyleModel",
          "model_module_version": "1.5.0",
          "state": {
            "_model_module": "@jupyter-widgets/controls",
            "_model_module_version": "1.5.0",
            "_model_name": "DescriptionStyleModel",
            "_view_count": null,
            "_view_module": "@jupyter-widgets/base",
            "_view_module_version": "1.2.0",
            "_view_name": "StyleView",
            "description_width": ""
          }
        },
        "9b67704a0de4408c96972f4601b64019": {
          "model_module": "@jupyter-widgets/base",
          "model_name": "LayoutModel",
          "model_module_version": "1.2.0",
          "state": {
            "_model_module": "@jupyter-widgets/base",
            "_model_module_version": "1.2.0",
            "_model_name": "LayoutModel",
            "_view_count": null,
            "_view_module": "@jupyter-widgets/base",
            "_view_module_version": "1.2.0",
            "_view_name": "LayoutView",
            "align_content": null,
            "align_items": null,
            "align_self": null,
            "border": null,
            "bottom": null,
            "display": null,
            "flex": null,
            "flex_flow": null,
            "grid_area": null,
            "grid_auto_columns": null,
            "grid_auto_flow": null,
            "grid_auto_rows": null,
            "grid_column": null,
            "grid_gap": null,
            "grid_row": null,
            "grid_template_areas": null,
            "grid_template_columns": null,
            "grid_template_rows": null,
            "height": null,
            "justify_content": null,
            "justify_items": null,
            "left": null,
            "margin": null,
            "max_height": null,
            "max_width": null,
            "min_height": null,
            "min_width": null,
            "object_fit": null,
            "object_position": null,
            "order": null,
            "overflow": null,
            "overflow_x": null,
            "overflow_y": null,
            "padding": null,
            "right": null,
            "top": null,
            "visibility": null,
            "width": null
          }
        },
        "3c46a770c5d94a9b9cc38d42a06d34aa": {
          "model_module": "@jupyter-widgets/controls",
          "model_name": "ProgressStyleModel",
          "model_module_version": "1.5.0",
          "state": {
            "_model_module": "@jupyter-widgets/controls",
            "_model_module_version": "1.5.0",
            "_model_name": "ProgressStyleModel",
            "_view_count": null,
            "_view_module": "@jupyter-widgets/base",
            "_view_module_version": "1.2.0",
            "_view_name": "StyleView",
            "bar_color": null,
            "description_width": ""
          }
        },
        "399787db53fe4f5192404dd2caaaa532": {
          "model_module": "@jupyter-widgets/base",
          "model_name": "LayoutModel",
          "model_module_version": "1.2.0",
          "state": {
            "_model_module": "@jupyter-widgets/base",
            "_model_module_version": "1.2.0",
            "_model_name": "LayoutModel",
            "_view_count": null,
            "_view_module": "@jupyter-widgets/base",
            "_view_module_version": "1.2.0",
            "_view_name": "LayoutView",
            "align_content": null,
            "align_items": null,
            "align_self": null,
            "border": null,
            "bottom": null,
            "display": null,
            "flex": null,
            "flex_flow": null,
            "grid_area": null,
            "grid_auto_columns": null,
            "grid_auto_flow": null,
            "grid_auto_rows": null,
            "grid_column": null,
            "grid_gap": null,
            "grid_row": null,
            "grid_template_areas": null,
            "grid_template_columns": null,
            "grid_template_rows": null,
            "height": null,
            "justify_content": null,
            "justify_items": null,
            "left": null,
            "margin": null,
            "max_height": null,
            "max_width": null,
            "min_height": null,
            "min_width": null,
            "object_fit": null,
            "object_position": null,
            "order": null,
            "overflow": null,
            "overflow_x": null,
            "overflow_y": null,
            "padding": null,
            "right": null,
            "top": null,
            "visibility": null,
            "width": null
          }
        },
        "71fd843498c4412b9dc4802c1b26cb67": {
          "model_module": "@jupyter-widgets/controls",
          "model_name": "DescriptionStyleModel",
          "model_module_version": "1.5.0",
          "state": {
            "_model_module": "@jupyter-widgets/controls",
            "_model_module_version": "1.5.0",
            "_model_name": "DescriptionStyleModel",
            "_view_count": null,
            "_view_module": "@jupyter-widgets/base",
            "_view_module_version": "1.2.0",
            "_view_name": "StyleView",
            "description_width": ""
          }
        },
        "9e8ee297b6a34320b3f6c5327bf623d6": {
          "model_module": "@jupyter-widgets/controls",
          "model_name": "HBoxModel",
          "model_module_version": "1.5.0",
          "state": {
            "_dom_classes": [],
            "_model_module": "@jupyter-widgets/controls",
            "_model_module_version": "1.5.0",
            "_model_name": "HBoxModel",
            "_view_count": null,
            "_view_module": "@jupyter-widgets/controls",
            "_view_module_version": "1.5.0",
            "_view_name": "HBoxView",
            "box_style": "",
            "children": [
              "IPY_MODEL_d0453dc0a26e49428762b362dbd23b05",
              "IPY_MODEL_827b1bc43a424cd2b204dc6756e963ac",
              "IPY_MODEL_3b76e7dfc34f49fca04649e549f56b12"
            ],
            "layout": "IPY_MODEL_a6906d8bcf3846d682449ab3774deb0e"
          }
        },
        "d0453dc0a26e49428762b362dbd23b05": {
          "model_module": "@jupyter-widgets/controls",
          "model_name": "HTMLModel",
          "model_module_version": "1.5.0",
          "state": {
            "_dom_classes": [],
            "_model_module": "@jupyter-widgets/controls",
            "_model_module_version": "1.5.0",
            "_model_name": "HTMLModel",
            "_view_count": null,
            "_view_module": "@jupyter-widgets/controls",
            "_view_module_version": "1.5.0",
            "_view_name": "HTMLView",
            "description": "",
            "description_tooltip": null,
            "layout": "IPY_MODEL_bcbda9136fce4452b4a86e8b5ef82903",
            "placeholder": "​",
            "style": "IPY_MODEL_200840d2e67d47f295e6e427927ce417",
            "value": "VQC Training: 100%"
          }
        },
        "827b1bc43a424cd2b204dc6756e963ac": {
          "model_module": "@jupyter-widgets/controls",
          "model_name": "FloatProgressModel",
          "model_module_version": "1.5.0",
          "state": {
            "_dom_classes": [],
            "_model_module": "@jupyter-widgets/controls",
            "_model_module_version": "1.5.0",
            "_model_name": "FloatProgressModel",
            "_view_count": null,
            "_view_module": "@jupyter-widgets/controls",
            "_view_module_version": "1.5.0",
            "_view_name": "ProgressView",
            "bar_style": "success",
            "description": "",
            "description_tooltip": null,
            "layout": "IPY_MODEL_78d09a89a2dd439295b95ee7c1cd1134",
            "max": 100,
            "min": 0,
            "orientation": "horizontal",
            "style": "IPY_MODEL_86639e62b712401eaba307d4bbb5a481",
            "value": 100
          }
        },
        "3b76e7dfc34f49fca04649e549f56b12": {
          "model_module": "@jupyter-widgets/controls",
          "model_name": "HTMLModel",
          "model_module_version": "1.5.0",
          "state": {
            "_dom_classes": [],
            "_model_module": "@jupyter-widgets/controls",
            "_model_module_version": "1.5.0",
            "_model_name": "HTMLModel",
            "_view_count": null,
            "_view_module": "@jupyter-widgets/controls",
            "_view_module_version": "1.5.0",
            "_view_name": "HTMLView",
            "description": "",
            "description_tooltip": null,
            "layout": "IPY_MODEL_0e6a0f6337db4920a587e8b174cb49ee",
            "placeholder": "​",
            "style": "IPY_MODEL_11e135d36a7a448ca8d54d3fc93da76a",
            "value": " 100/100 [00:18&lt;00:00,  7.51it/s]"
          }
        },
        "a6906d8bcf3846d682449ab3774deb0e": {
          "model_module": "@jupyter-widgets/base",
          "model_name": "LayoutModel",
          "model_module_version": "1.2.0",
          "state": {
            "_model_module": "@jupyter-widgets/base",
            "_model_module_version": "1.2.0",
            "_model_name": "LayoutModel",
            "_view_count": null,
            "_view_module": "@jupyter-widgets/base",
            "_view_module_version": "1.2.0",
            "_view_name": "LayoutView",
            "align_content": null,
            "align_items": null,
            "align_self": null,
            "border": null,
            "bottom": null,
            "display": null,
            "flex": null,
            "flex_flow": null,
            "grid_area": null,
            "grid_auto_columns": null,
            "grid_auto_flow": null,
            "grid_auto_rows": null,
            "grid_column": null,
            "grid_gap": null,
            "grid_row": null,
            "grid_template_areas": null,
            "grid_template_columns": null,
            "grid_template_rows": null,
            "height": null,
            "justify_content": null,
            "justify_items": null,
            "left": null,
            "margin": null,
            "max_height": null,
            "max_width": null,
            "min_height": null,
            "min_width": null,
            "object_fit": null,
            "object_position": null,
            "order": null,
            "overflow": null,
            "overflow_x": null,
            "overflow_y": null,
            "padding": null,
            "right": null,
            "top": null,
            "visibility": null,
            "width": null
          }
        },
        "bcbda9136fce4452b4a86e8b5ef82903": {
          "model_module": "@jupyter-widgets/base",
          "model_name": "LayoutModel",
          "model_module_version": "1.2.0",
          "state": {
            "_model_module": "@jupyter-widgets/base",
            "_model_module_version": "1.2.0",
            "_model_name": "LayoutModel",
            "_view_count": null,
            "_view_module": "@jupyter-widgets/base",
            "_view_module_version": "1.2.0",
            "_view_name": "LayoutView",
            "align_content": null,
            "align_items": null,
            "align_self": null,
            "border": null,
            "bottom": null,
            "display": null,
            "flex": null,
            "flex_flow": null,
            "grid_area": null,
            "grid_auto_columns": null,
            "grid_auto_flow": null,
            "grid_auto_rows": null,
            "grid_column": null,
            "grid_gap": null,
            "grid_row": null,
            "grid_template_areas": null,
            "grid_template_columns": null,
            "grid_template_rows": null,
            "height": null,
            "justify_content": null,
            "justify_items": null,
            "left": null,
            "margin": null,
            "max_height": null,
            "max_width": null,
            "min_height": null,
            "min_width": null,
            "object_fit": null,
            "object_position": null,
            "order": null,
            "overflow": null,
            "overflow_x": null,
            "overflow_y": null,
            "padding": null,
            "right": null,
            "top": null,
            "visibility": null,
            "width": null
          }
        },
        "200840d2e67d47f295e6e427927ce417": {
          "model_module": "@jupyter-widgets/controls",
          "model_name": "DescriptionStyleModel",
          "model_module_version": "1.5.0",
          "state": {
            "_model_module": "@jupyter-widgets/controls",
            "_model_module_version": "1.5.0",
            "_model_name": "DescriptionStyleModel",
            "_view_count": null,
            "_view_module": "@jupyter-widgets/base",
            "_view_module_version": "1.2.0",
            "_view_name": "StyleView",
            "description_width": ""
          }
        },
        "78d09a89a2dd439295b95ee7c1cd1134": {
          "model_module": "@jupyter-widgets/base",
          "model_name": "LayoutModel",
          "model_module_version": "1.2.0",
          "state": {
            "_model_module": "@jupyter-widgets/base",
            "_model_module_version": "1.2.0",
            "_model_name": "LayoutModel",
            "_view_count": null,
            "_view_module": "@jupyter-widgets/base",
            "_view_module_version": "1.2.0",
            "_view_name": "LayoutView",
            "align_content": null,
            "align_items": null,
            "align_self": null,
            "border": null,
            "bottom": null,
            "display": null,
            "flex": null,
            "flex_flow": null,
            "grid_area": null,
            "grid_auto_columns": null,
            "grid_auto_flow": null,
            "grid_auto_rows": null,
            "grid_column": null,
            "grid_gap": null,
            "grid_row": null,
            "grid_template_areas": null,
            "grid_template_columns": null,
            "grid_template_rows": null,
            "height": null,
            "justify_content": null,
            "justify_items": null,
            "left": null,
            "margin": null,
            "max_height": null,
            "max_width": null,
            "min_height": null,
            "min_width": null,
            "object_fit": null,
            "object_position": null,
            "order": null,
            "overflow": null,
            "overflow_x": null,
            "overflow_y": null,
            "padding": null,
            "right": null,
            "top": null,
            "visibility": null,
            "width": null
          }
        },
        "86639e62b712401eaba307d4bbb5a481": {
          "model_module": "@jupyter-widgets/controls",
          "model_name": "ProgressStyleModel",
          "model_module_version": "1.5.0",
          "state": {
            "_model_module": "@jupyter-widgets/controls",
            "_model_module_version": "1.5.0",
            "_model_name": "ProgressStyleModel",
            "_view_count": null,
            "_view_module": "@jupyter-widgets/base",
            "_view_module_version": "1.2.0",
            "_view_name": "StyleView",
            "bar_color": null,
            "description_width": ""
          }
        },
        "0e6a0f6337db4920a587e8b174cb49ee": {
          "model_module": "@jupyter-widgets/base",
          "model_name": "LayoutModel",
          "model_module_version": "1.2.0",
          "state": {
            "_model_module": "@jupyter-widgets/base",
            "_model_module_version": "1.2.0",
            "_model_name": "LayoutModel",
            "_view_count": null,
            "_view_module": "@jupyter-widgets/base",
            "_view_module_version": "1.2.0",
            "_view_name": "LayoutView",
            "align_content": null,
            "align_items": null,
            "align_self": null,
            "border": null,
            "bottom": null,
            "display": null,
            "flex": null,
            "flex_flow": null,
            "grid_area": null,
            "grid_auto_columns": null,
            "grid_auto_flow": null,
            "grid_auto_rows": null,
            "grid_column": null,
            "grid_gap": null,
            "grid_row": null,
            "grid_template_areas": null,
            "grid_template_columns": null,
            "grid_template_rows": null,
            "height": null,
            "justify_content": null,
            "justify_items": null,
            "left": null,
            "margin": null,
            "max_height": null,
            "max_width": null,
            "min_height": null,
            "min_width": null,
            "object_fit": null,
            "object_position": null,
            "order": null,
            "overflow": null,
            "overflow_x": null,
            "overflow_y": null,
            "padding": null,
            "right": null,
            "top": null,
            "visibility": null,
            "width": null
          }
        },
        "11e135d36a7a448ca8d54d3fc93da76a": {
          "model_module": "@jupyter-widgets/controls",
          "model_name": "DescriptionStyleModel",
          "model_module_version": "1.5.0",
          "state": {
            "_model_module": "@jupyter-widgets/controls",
            "_model_module_version": "1.5.0",
            "_model_name": "DescriptionStyleModel",
            "_view_count": null,
            "_view_module": "@jupyter-widgets/base",
            "_view_module_version": "1.2.0",
            "_view_name": "StyleView",
            "description_width": ""
          }
        },
        "81577d0600c64e11aeda656786bca76a": {
          "model_module": "@jupyter-widgets/controls",
          "model_name": "HBoxModel",
          "model_module_version": "1.5.0",
          "state": {
            "_dom_classes": [],
            "_model_module": "@jupyter-widgets/controls",
            "_model_module_version": "1.5.0",
            "_model_name": "HBoxModel",
            "_view_count": null,
            "_view_module": "@jupyter-widgets/controls",
            "_view_module_version": "1.5.0",
            "_view_name": "HBoxView",
            "box_style": "",
            "children": [
              "IPY_MODEL_7c302b0e604443c2831f65f303d0b55b",
              "IPY_MODEL_2353140248044be68c5cf0e2e1169263",
              "IPY_MODEL_b33c1a356ef34b18996c60e67fe26676"
            ],
            "layout": "IPY_MODEL_de92d11b1c774935b29411bfa8202acf"
          }
        },
        "7c302b0e604443c2831f65f303d0b55b": {
          "model_module": "@jupyter-widgets/controls",
          "model_name": "HTMLModel",
          "model_module_version": "1.5.0",
          "state": {
            "_dom_classes": [],
            "_model_module": "@jupyter-widgets/controls",
            "_model_module_version": "1.5.0",
            "_model_name": "HTMLModel",
            "_view_count": null,
            "_view_module": "@jupyter-widgets/controls",
            "_view_module_version": "1.5.0",
            "_view_name": "HTMLView",
            "description": "",
            "description_tooltip": null,
            "layout": "IPY_MODEL_0516c3fc2ac646f98c929f41e6bbec55",
            "placeholder": "​",
            "style": "IPY_MODEL_0847eec207dd4cf6a7f1ed8797a8aa0e",
            "value": "Kernel Rows: 100%"
          }
        },
        "2353140248044be68c5cf0e2e1169263": {
          "model_module": "@jupyter-widgets/controls",
          "model_name": "FloatProgressModel",
          "model_module_version": "1.5.0",
          "state": {
            "_dom_classes": [],
            "_model_module": "@jupyter-widgets/controls",
            "_model_module_version": "1.5.0",
            "_model_name": "FloatProgressModel",
            "_view_count": null,
            "_view_module": "@jupyter-widgets/controls",
            "_view_module_version": "1.5.0",
            "_view_name": "ProgressView",
            "bar_style": "success",
            "description": "",
            "description_tooltip": null,
            "layout": "IPY_MODEL_ade6d690c16c4748973b75c17c2d3496",
            "max": 100,
            "min": 0,
            "orientation": "horizontal",
            "style": "IPY_MODEL_c7704e8cc0744ed88290b0b2332aab0c",
            "value": 100
          }
        },
        "b33c1a356ef34b18996c60e67fe26676": {
          "model_module": "@jupyter-widgets/controls",
          "model_name": "HTMLModel",
          "model_module_version": "1.5.0",
          "state": {
            "_dom_classes": [],
            "_model_module": "@jupyter-widgets/controls",
            "_model_module_version": "1.5.0",
            "_model_name": "HTMLModel",
            "_view_count": null,
            "_view_module": "@jupyter-widgets/controls",
            "_view_module_version": "1.5.0",
            "_view_name": "HTMLView",
            "description": "",
            "description_tooltip": null,
            "layout": "IPY_MODEL_631bb0064e2c4e6084807bba870ec2f8",
            "placeholder": "​",
            "style": "IPY_MODEL_451d1dd82ed349fe94b881609293e836",
            "value": " 100/100 [00:24&lt;00:00,  3.19it/s]"
          }
        },
        "de92d11b1c774935b29411bfa8202acf": {
          "model_module": "@jupyter-widgets/base",
          "model_name": "LayoutModel",
          "model_module_version": "1.2.0",
          "state": {
            "_model_module": "@jupyter-widgets/base",
            "_model_module_version": "1.2.0",
            "_model_name": "LayoutModel",
            "_view_count": null,
            "_view_module": "@jupyter-widgets/base",
            "_view_module_version": "1.2.0",
            "_view_name": "LayoutView",
            "align_content": null,
            "align_items": null,
            "align_self": null,
            "border": null,
            "bottom": null,
            "display": null,
            "flex": null,
            "flex_flow": null,
            "grid_area": null,
            "grid_auto_columns": null,
            "grid_auto_flow": null,
            "grid_auto_rows": null,
            "grid_column": null,
            "grid_gap": null,
            "grid_row": null,
            "grid_template_areas": null,
            "grid_template_columns": null,
            "grid_template_rows": null,
            "height": null,
            "justify_content": null,
            "justify_items": null,
            "left": null,
            "margin": null,
            "max_height": null,
            "max_width": null,
            "min_height": null,
            "min_width": null,
            "object_fit": null,
            "object_position": null,
            "order": null,
            "overflow": null,
            "overflow_x": null,
            "overflow_y": null,
            "padding": null,
            "right": null,
            "top": null,
            "visibility": null,
            "width": null
          }
        },
        "0516c3fc2ac646f98c929f41e6bbec55": {
          "model_module": "@jupyter-widgets/base",
          "model_name": "LayoutModel",
          "model_module_version": "1.2.0",
          "state": {
            "_model_module": "@jupyter-widgets/base",
            "_model_module_version": "1.2.0",
            "_model_name": "LayoutModel",
            "_view_count": null,
            "_view_module": "@jupyter-widgets/base",
            "_view_module_version": "1.2.0",
            "_view_name": "LayoutView",
            "align_content": null,
            "align_items": null,
            "align_self": null,
            "border": null,
            "bottom": null,
            "display": null,
            "flex": null,
            "flex_flow": null,
            "grid_area": null,
            "grid_auto_columns": null,
            "grid_auto_flow": null,
            "grid_auto_rows": null,
            "grid_column": null,
            "grid_gap": null,
            "grid_row": null,
            "grid_template_areas": null,
            "grid_template_columns": null,
            "grid_template_rows": null,
            "height": null,
            "justify_content": null,
            "justify_items": null,
            "left": null,
            "margin": null,
            "max_height": null,
            "max_width": null,
            "min_height": null,
            "min_width": null,
            "object_fit": null,
            "object_position": null,
            "order": null,
            "overflow": null,
            "overflow_x": null,
            "overflow_y": null,
            "padding": null,
            "right": null,
            "top": null,
            "visibility": null,
            "width": null
          }
        },
        "0847eec207dd4cf6a7f1ed8797a8aa0e": {
          "model_module": "@jupyter-widgets/controls",
          "model_name": "DescriptionStyleModel",
          "model_module_version": "1.5.0",
          "state": {
            "_model_module": "@jupyter-widgets/controls",
            "_model_module_version": "1.5.0",
            "_model_name": "DescriptionStyleModel",
            "_view_count": null,
            "_view_module": "@jupyter-widgets/base",
            "_view_module_version": "1.2.0",
            "_view_name": "StyleView",
            "description_width": ""
          }
        },
        "ade6d690c16c4748973b75c17c2d3496": {
          "model_module": "@jupyter-widgets/base",
          "model_name": "LayoutModel",
          "model_module_version": "1.2.0",
          "state": {
            "_model_module": "@jupyter-widgets/base",
            "_model_module_version": "1.2.0",
            "_model_name": "LayoutModel",
            "_view_count": null,
            "_view_module": "@jupyter-widgets/base",
            "_view_module_version": "1.2.0",
            "_view_name": "LayoutView",
            "align_content": null,
            "align_items": null,
            "align_self": null,
            "border": null,
            "bottom": null,
            "display": null,
            "flex": null,
            "flex_flow": null,
            "grid_area": null,
            "grid_auto_columns": null,
            "grid_auto_flow": null,
            "grid_auto_rows": null,
            "grid_column": null,
            "grid_gap": null,
            "grid_row": null,
            "grid_template_areas": null,
            "grid_template_columns": null,
            "grid_template_rows": null,
            "height": null,
            "justify_content": null,
            "justify_items": null,
            "left": null,
            "margin": null,
            "max_height": null,
            "max_width": null,
            "min_height": null,
            "min_width": null,
            "object_fit": null,
            "object_position": null,
            "order": null,
            "overflow": null,
            "overflow_x": null,
            "overflow_y": null,
            "padding": null,
            "right": null,
            "top": null,
            "visibility": null,
            "width": null
          }
        },
        "c7704e8cc0744ed88290b0b2332aab0c": {
          "model_module": "@jupyter-widgets/controls",
          "model_name": "ProgressStyleModel",
          "model_module_version": "1.5.0",
          "state": {
            "_model_module": "@jupyter-widgets/controls",
            "_model_module_version": "1.5.0",
            "_model_name": "ProgressStyleModel",
            "_view_count": null,
            "_view_module": "@jupyter-widgets/base",
            "_view_module_version": "1.2.0",
            "_view_name": "StyleView",
            "bar_color": null,
            "description_width": ""
          }
        },
        "631bb0064e2c4e6084807bba870ec2f8": {
          "model_module": "@jupyter-widgets/base",
          "model_name": "LayoutModel",
          "model_module_version": "1.2.0",
          "state": {
            "_model_module": "@jupyter-widgets/base",
            "_model_module_version": "1.2.0",
            "_model_name": "LayoutModel",
            "_view_count": null,
            "_view_module": "@jupyter-widgets/base",
            "_view_module_version": "1.2.0",
            "_view_name": "LayoutView",
            "align_content": null,
            "align_items": null,
            "align_self": null,
            "border": null,
            "bottom": null,
            "display": null,
            "flex": null,
            "flex_flow": null,
            "grid_area": null,
            "grid_auto_columns": null,
            "grid_auto_flow": null,
            "grid_auto_rows": null,
            "grid_column": null,
            "grid_gap": null,
            "grid_row": null,
            "grid_template_areas": null,
            "grid_template_columns": null,
            "grid_template_rows": null,
            "height": null,
            "justify_content": null,
            "justify_items": null,
            "left": null,
            "margin": null,
            "max_height": null,
            "max_width": null,
            "min_height": null,
            "min_width": null,
            "object_fit": null,
            "object_position": null,
            "order": null,
            "overflow": null,
            "overflow_x": null,
            "overflow_y": null,
            "padding": null,
            "right": null,
            "top": null,
            "visibility": null,
            "width": null
          }
        },
        "451d1dd82ed349fe94b881609293e836": {
          "model_module": "@jupyter-widgets/controls",
          "model_name": "DescriptionStyleModel",
          "model_module_version": "1.5.0",
          "state": {
            "_model_module": "@jupyter-widgets/controls",
            "_model_module_version": "1.5.0",
            "_model_name": "DescriptionStyleModel",
            "_view_count": null,
            "_view_module": "@jupyter-widgets/base",
            "_view_module_version": "1.2.0",
            "_view_name": "StyleView",
            "description_width": ""
          }
        },
        "ec033f096c1243fb9cff64e8db5c8a64": {
          "model_module": "@jupyter-widgets/controls",
          "model_name": "HBoxModel",
          "model_module_version": "1.5.0",
          "state": {
            "_dom_classes": [],
            "_model_module": "@jupyter-widgets/controls",
            "_model_module_version": "1.5.0",
            "_model_name": "HBoxModel",
            "_view_count": null,
            "_view_module": "@jupyter-widgets/controls",
            "_view_module_version": "1.5.0",
            "_view_name": "HBoxView",
            "box_style": "",
            "children": [
              "IPY_MODEL_37565dcc355b4cfe8235cfb9a83f13a5",
              "IPY_MODEL_804f0a3cc2304c0293e494381eb043f6",
              "IPY_MODEL_0eb5099449bc4a73be5f8f66b1ada4d1"
            ],
            "layout": "IPY_MODEL_eaca45dd4f3544af9e196bface3c4f7a"
          }
        },
        "37565dcc355b4cfe8235cfb9a83f13a5": {
          "model_module": "@jupyter-widgets/controls",
          "model_name": "HTMLModel",
          "model_module_version": "1.5.0",
          "state": {
            "_dom_classes": [],
            "_model_module": "@jupyter-widgets/controls",
            "_model_module_version": "1.5.0",
            "_model_name": "HTMLModel",
            "_view_count": null,
            "_view_module": "@jupyter-widgets/controls",
            "_view_module_version": "1.5.0",
            "_view_name": "HTMLView",
            "description": "",
            "description_tooltip": null,
            "layout": "IPY_MODEL_d8037efaa1a34d9fa9ab99f13061db1d",
            "placeholder": "​",
            "style": "IPY_MODEL_75b9f9827e85448d9894aa32348a96ff",
            "value": "Kernel Rows: 100%"
          }
        },
        "804f0a3cc2304c0293e494381eb043f6": {
          "model_module": "@jupyter-widgets/controls",
          "model_name": "FloatProgressModel",
          "model_module_version": "1.5.0",
          "state": {
            "_dom_classes": [],
            "_model_module": "@jupyter-widgets/controls",
            "_model_module_version": "1.5.0",
            "_model_name": "FloatProgressModel",
            "_view_count": null,
            "_view_module": "@jupyter-widgets/controls",
            "_view_module_version": "1.5.0",
            "_view_name": "ProgressView",
            "bar_style": "success",
            "description": "",
            "description_tooltip": null,
            "layout": "IPY_MODEL_aab7a9e1a50c4f6d96a3a0cc650168a2",
            "max": 576,
            "min": 0,
            "orientation": "horizontal",
            "style": "IPY_MODEL_7d735eaee8224705b6c14ee6ffbd879a",
            "value": 576
          }
        },
        "0eb5099449bc4a73be5f8f66b1ada4d1": {
          "model_module": "@jupyter-widgets/controls",
          "model_name": "HTMLModel",
          "model_module_version": "1.5.0",
          "state": {
            "_dom_classes": [],
            "_model_module": "@jupyter-widgets/controls",
            "_model_module_version": "1.5.0",
            "_model_name": "HTMLModel",
            "_view_count": null,
            "_view_module": "@jupyter-widgets/controls",
            "_view_module_version": "1.5.0",
            "_view_name": "HTMLView",
            "description": "",
            "description_tooltip": null,
            "layout": "IPY_MODEL_717246087caf42cda27fe967969a5de6",
            "placeholder": "​",
            "style": "IPY_MODEL_1bad5a95b5804ea6a494cc68d493693c",
            "value": " 576/576 [02:13&lt;00:00,  3.52it/s]"
          }
        },
        "eaca45dd4f3544af9e196bface3c4f7a": {
          "model_module": "@jupyter-widgets/base",
          "model_name": "LayoutModel",
          "model_module_version": "1.2.0",
          "state": {
            "_model_module": "@jupyter-widgets/base",
            "_model_module_version": "1.2.0",
            "_model_name": "LayoutModel",
            "_view_count": null,
            "_view_module": "@jupyter-widgets/base",
            "_view_module_version": "1.2.0",
            "_view_name": "LayoutView",
            "align_content": null,
            "align_items": null,
            "align_self": null,
            "border": null,
            "bottom": null,
            "display": null,
            "flex": null,
            "flex_flow": null,
            "grid_area": null,
            "grid_auto_columns": null,
            "grid_auto_flow": null,
            "grid_auto_rows": null,
            "grid_column": null,
            "grid_gap": null,
            "grid_row": null,
            "grid_template_areas": null,
            "grid_template_columns": null,
            "grid_template_rows": null,
            "height": null,
            "justify_content": null,
            "justify_items": null,
            "left": null,
            "margin": null,
            "max_height": null,
            "max_width": null,
            "min_height": null,
            "min_width": null,
            "object_fit": null,
            "object_position": null,
            "order": null,
            "overflow": null,
            "overflow_x": null,
            "overflow_y": null,
            "padding": null,
            "right": null,
            "top": null,
            "visibility": null,
            "width": null
          }
        },
        "d8037efaa1a34d9fa9ab99f13061db1d": {
          "model_module": "@jupyter-widgets/base",
          "model_name": "LayoutModel",
          "model_module_version": "1.2.0",
          "state": {
            "_model_module": "@jupyter-widgets/base",
            "_model_module_version": "1.2.0",
            "_model_name": "LayoutModel",
            "_view_count": null,
            "_view_module": "@jupyter-widgets/base",
            "_view_module_version": "1.2.0",
            "_view_name": "LayoutView",
            "align_content": null,
            "align_items": null,
            "align_self": null,
            "border": null,
            "bottom": null,
            "display": null,
            "flex": null,
            "flex_flow": null,
            "grid_area": null,
            "grid_auto_columns": null,
            "grid_auto_flow": null,
            "grid_auto_rows": null,
            "grid_column": null,
            "grid_gap": null,
            "grid_row": null,
            "grid_template_areas": null,
            "grid_template_columns": null,
            "grid_template_rows": null,
            "height": null,
            "justify_content": null,
            "justify_items": null,
            "left": null,
            "margin": null,
            "max_height": null,
            "max_width": null,
            "min_height": null,
            "min_width": null,
            "object_fit": null,
            "object_position": null,
            "order": null,
            "overflow": null,
            "overflow_x": null,
            "overflow_y": null,
            "padding": null,
            "right": null,
            "top": null,
            "visibility": null,
            "width": null
          }
        },
        "75b9f9827e85448d9894aa32348a96ff": {
          "model_module": "@jupyter-widgets/controls",
          "model_name": "DescriptionStyleModel",
          "model_module_version": "1.5.0",
          "state": {
            "_model_module": "@jupyter-widgets/controls",
            "_model_module_version": "1.5.0",
            "_model_name": "DescriptionStyleModel",
            "_view_count": null,
            "_view_module": "@jupyter-widgets/base",
            "_view_module_version": "1.2.0",
            "_view_name": "StyleView",
            "description_width": ""
          }
        },
        "aab7a9e1a50c4f6d96a3a0cc650168a2": {
          "model_module": "@jupyter-widgets/base",
          "model_name": "LayoutModel",
          "model_module_version": "1.2.0",
          "state": {
            "_model_module": "@jupyter-widgets/base",
            "_model_module_version": "1.2.0",
            "_model_name": "LayoutModel",
            "_view_count": null,
            "_view_module": "@jupyter-widgets/base",
            "_view_module_version": "1.2.0",
            "_view_name": "LayoutView",
            "align_content": null,
            "align_items": null,
            "align_self": null,
            "border": null,
            "bottom": null,
            "display": null,
            "flex": null,
            "flex_flow": null,
            "grid_area": null,
            "grid_auto_columns": null,
            "grid_auto_flow": null,
            "grid_auto_rows": null,
            "grid_column": null,
            "grid_gap": null,
            "grid_row": null,
            "grid_template_areas": null,
            "grid_template_columns": null,
            "grid_template_rows": null,
            "height": null,
            "justify_content": null,
            "justify_items": null,
            "left": null,
            "margin": null,
            "max_height": null,
            "max_width": null,
            "min_height": null,
            "min_width": null,
            "object_fit": null,
            "object_position": null,
            "order": null,
            "overflow": null,
            "overflow_x": null,
            "overflow_y": null,
            "padding": null,
            "right": null,
            "top": null,
            "visibility": null,
            "width": null
          }
        },
        "7d735eaee8224705b6c14ee6ffbd879a": {
          "model_module": "@jupyter-widgets/controls",
          "model_name": "ProgressStyleModel",
          "model_module_version": "1.5.0",
          "state": {
            "_model_module": "@jupyter-widgets/controls",
            "_model_module_version": "1.5.0",
            "_model_name": "ProgressStyleModel",
            "_view_count": null,
            "_view_module": "@jupyter-widgets/base",
            "_view_module_version": "1.2.0",
            "_view_name": "StyleView",
            "bar_color": null,
            "description_width": ""
          }
        },
        "717246087caf42cda27fe967969a5de6": {
          "model_module": "@jupyter-widgets/base",
          "model_name": "LayoutModel",
          "model_module_version": "1.2.0",
          "state": {
            "_model_module": "@jupyter-widgets/base",
            "_model_module_version": "1.2.0",
            "_model_name": "LayoutModel",
            "_view_count": null,
            "_view_module": "@jupyter-widgets/base",
            "_view_module_version": "1.2.0",
            "_view_name": "LayoutView",
            "align_content": null,
            "align_items": null,
            "align_self": null,
            "border": null,
            "bottom": null,
            "display": null,
            "flex": null,
            "flex_flow": null,
            "grid_area": null,
            "grid_auto_columns": null,
            "grid_auto_flow": null,
            "grid_auto_rows": null,
            "grid_column": null,
            "grid_gap": null,
            "grid_row": null,
            "grid_template_areas": null,
            "grid_template_columns": null,
            "grid_template_rows": null,
            "height": null,
            "justify_content": null,
            "justify_items": null,
            "left": null,
            "margin": null,
            "max_height": null,
            "max_width": null,
            "min_height": null,
            "min_width": null,
            "object_fit": null,
            "object_position": null,
            "order": null,
            "overflow": null,
            "overflow_x": null,
            "overflow_y": null,
            "padding": null,
            "right": null,
            "top": null,
            "visibility": null,
            "width": null
          }
        },
        "1bad5a95b5804ea6a494cc68d493693c": {
          "model_module": "@jupyter-widgets/controls",
          "model_name": "DescriptionStyleModel",
          "model_module_version": "1.5.0",
          "state": {
            "_model_module": "@jupyter-widgets/controls",
            "_model_module_version": "1.5.0",
            "_model_name": "DescriptionStyleModel",
            "_view_count": null,
            "_view_module": "@jupyter-widgets/base",
            "_view_module_version": "1.2.0",
            "_view_name": "StyleView",
            "description_width": ""
          }
        },
        "1ccf473c08614af88d10badf0b79f191": {
          "model_module": "@jupyter-widgets/controls",
          "model_name": "HBoxModel",
          "model_module_version": "1.5.0",
          "state": {
            "_dom_classes": [],
            "_model_module": "@jupyter-widgets/controls",
            "_model_module_version": "1.5.0",
            "_model_name": "HBoxModel",
            "_view_count": null,
            "_view_module": "@jupyter-widgets/controls",
            "_view_module_version": "1.5.0",
            "_view_name": "HBoxView",
            "box_style": "",
            "children": [
              "IPY_MODEL_042ab38b05a641279b33e1cd38abaca4",
              "IPY_MODEL_dcffc923730442f89e1b8f9dc915514a",
              "IPY_MODEL_fce86ebbe2cc4c44aa0ea5403b3008d6"
            ],
            "layout": "IPY_MODEL_5453fcb754ee4ae1b38d728a1077e0b7"
          }
        },
        "042ab38b05a641279b33e1cd38abaca4": {
          "model_module": "@jupyter-widgets/controls",
          "model_name": "HTMLModel",
          "model_module_version": "1.5.0",
          "state": {
            "_dom_classes": [],
            "_model_module": "@jupyter-widgets/controls",
            "_model_module_version": "1.5.0",
            "_model_name": "HTMLModel",
            "_view_count": null,
            "_view_module": "@jupyter-widgets/controls",
            "_view_module_version": "1.5.0",
            "_view_name": "HTMLView",
            "description": "",
            "description_tooltip": null,
            "layout": "IPY_MODEL_29456387ca0949bd82d9b78298b921a9",
            "placeholder": "​",
            "style": "IPY_MODEL_144b0f9dc6f5432b9a6898ec8df13018",
            "value": "VQC Grid: 100%"
          }
        },
        "dcffc923730442f89e1b8f9dc915514a": {
          "model_module": "@jupyter-widgets/controls",
          "model_name": "FloatProgressModel",
          "model_module_version": "1.5.0",
          "state": {
            "_dom_classes": [],
            "_model_module": "@jupyter-widgets/controls",
            "_model_module_version": "1.5.0",
            "_model_name": "FloatProgressModel",
            "_view_count": null,
            "_view_module": "@jupyter-widgets/controls",
            "_view_module_version": "1.5.0",
            "_view_name": "ProgressView",
            "bar_style": "success",
            "description": "",
            "description_tooltip": null,
            "layout": "IPY_MODEL_4f93fefabdb54f23a0e5264c45067b45",
            "max": 576,
            "min": 0,
            "orientation": "horizontal",
            "style": "IPY_MODEL_da4b7dd311f9476591a5d81f44224cad",
            "value": 576
          }
        },
        "fce86ebbe2cc4c44aa0ea5403b3008d6": {
          "model_module": "@jupyter-widgets/controls",
          "model_name": "HTMLModel",
          "model_module_version": "1.5.0",
          "state": {
            "_dom_classes": [],
            "_model_module": "@jupyter-widgets/controls",
            "_model_module_version": "1.5.0",
            "_model_name": "HTMLModel",
            "_view_count": null,
            "_view_module": "@jupyter-widgets/controls",
            "_view_module_version": "1.5.0",
            "_view_name": "HTMLView",
            "description": "",
            "description_tooltip": null,
            "layout": "IPY_MODEL_e2482354375948b7a26ab61c6eff9ffa",
            "placeholder": "​",
            "style": "IPY_MODEL_9fa8c3064b8f42c58d4c2ecee55da20e",
            "value": " 576/576 [00:03&lt;00:00, 184.38it/s]"
          }
        },
        "5453fcb754ee4ae1b38d728a1077e0b7": {
          "model_module": "@jupyter-widgets/base",
          "model_name": "LayoutModel",
          "model_module_version": "1.2.0",
          "state": {
            "_model_module": "@jupyter-widgets/base",
            "_model_module_version": "1.2.0",
            "_model_name": "LayoutModel",
            "_view_count": null,
            "_view_module": "@jupyter-widgets/base",
            "_view_module_version": "1.2.0",
            "_view_name": "LayoutView",
            "align_content": null,
            "align_items": null,
            "align_self": null,
            "border": null,
            "bottom": null,
            "display": null,
            "flex": null,
            "flex_flow": null,
            "grid_area": null,
            "grid_auto_columns": null,
            "grid_auto_flow": null,
            "grid_auto_rows": null,
            "grid_column": null,
            "grid_gap": null,
            "grid_row": null,
            "grid_template_areas": null,
            "grid_template_columns": null,
            "grid_template_rows": null,
            "height": null,
            "justify_content": null,
            "justify_items": null,
            "left": null,
            "margin": null,
            "max_height": null,
            "max_width": null,
            "min_height": null,
            "min_width": null,
            "object_fit": null,
            "object_position": null,
            "order": null,
            "overflow": null,
            "overflow_x": null,
            "overflow_y": null,
            "padding": null,
            "right": null,
            "top": null,
            "visibility": null,
            "width": null
          }
        },
        "29456387ca0949bd82d9b78298b921a9": {
          "model_module": "@jupyter-widgets/base",
          "model_name": "LayoutModel",
          "model_module_version": "1.2.0",
          "state": {
            "_model_module": "@jupyter-widgets/base",
            "_model_module_version": "1.2.0",
            "_model_name": "LayoutModel",
            "_view_count": null,
            "_view_module": "@jupyter-widgets/base",
            "_view_module_version": "1.2.0",
            "_view_name": "LayoutView",
            "align_content": null,
            "align_items": null,
            "align_self": null,
            "border": null,
            "bottom": null,
            "display": null,
            "flex": null,
            "flex_flow": null,
            "grid_area": null,
            "grid_auto_columns": null,
            "grid_auto_flow": null,
            "grid_auto_rows": null,
            "grid_column": null,
            "grid_gap": null,
            "grid_row": null,
            "grid_template_areas": null,
            "grid_template_columns": null,
            "grid_template_rows": null,
            "height": null,
            "justify_content": null,
            "justify_items": null,
            "left": null,
            "margin": null,
            "max_height": null,
            "max_width": null,
            "min_height": null,
            "min_width": null,
            "object_fit": null,
            "object_position": null,
            "order": null,
            "overflow": null,
            "overflow_x": null,
            "overflow_y": null,
            "padding": null,
            "right": null,
            "top": null,
            "visibility": null,
            "width": null
          }
        },
        "144b0f9dc6f5432b9a6898ec8df13018": {
          "model_module": "@jupyter-widgets/controls",
          "model_name": "DescriptionStyleModel",
          "model_module_version": "1.5.0",
          "state": {
            "_model_module": "@jupyter-widgets/controls",
            "_model_module_version": "1.5.0",
            "_model_name": "DescriptionStyleModel",
            "_view_count": null,
            "_view_module": "@jupyter-widgets/base",
            "_view_module_version": "1.2.0",
            "_view_name": "StyleView",
            "description_width": ""
          }
        },
        "4f93fefabdb54f23a0e5264c45067b45": {
          "model_module": "@jupyter-widgets/base",
          "model_name": "LayoutModel",
          "model_module_version": "1.2.0",
          "state": {
            "_model_module": "@jupyter-widgets/base",
            "_model_module_version": "1.2.0",
            "_model_name": "LayoutModel",
            "_view_count": null,
            "_view_module": "@jupyter-widgets/base",
            "_view_module_version": "1.2.0",
            "_view_name": "LayoutView",
            "align_content": null,
            "align_items": null,
            "align_self": null,
            "border": null,
            "bottom": null,
            "display": null,
            "flex": null,
            "flex_flow": null,
            "grid_area": null,
            "grid_auto_columns": null,
            "grid_auto_flow": null,
            "grid_auto_rows": null,
            "grid_column": null,
            "grid_gap": null,
            "grid_row": null,
            "grid_template_areas": null,
            "grid_template_columns": null,
            "grid_template_rows": null,
            "height": null,
            "justify_content": null,
            "justify_items": null,
            "left": null,
            "margin": null,
            "max_height": null,
            "max_width": null,
            "min_height": null,
            "min_width": null,
            "object_fit": null,
            "object_position": null,
            "order": null,
            "overflow": null,
            "overflow_x": null,
            "overflow_y": null,
            "padding": null,
            "right": null,
            "top": null,
            "visibility": null,
            "width": null
          }
        },
        "da4b7dd311f9476591a5d81f44224cad": {
          "model_module": "@jupyter-widgets/controls",
          "model_name": "ProgressStyleModel",
          "model_module_version": "1.5.0",
          "state": {
            "_model_module": "@jupyter-widgets/controls",
            "_model_module_version": "1.5.0",
            "_model_name": "ProgressStyleModel",
            "_view_count": null,
            "_view_module": "@jupyter-widgets/base",
            "_view_module_version": "1.2.0",
            "_view_name": "StyleView",
            "bar_color": null,
            "description_width": ""
          }
        },
        "e2482354375948b7a26ab61c6eff9ffa": {
          "model_module": "@jupyter-widgets/base",
          "model_name": "LayoutModel",
          "model_module_version": "1.2.0",
          "state": {
            "_model_module": "@jupyter-widgets/base",
            "_model_module_version": "1.2.0",
            "_model_name": "LayoutModel",
            "_view_count": null,
            "_view_module": "@jupyter-widgets/base",
            "_view_module_version": "1.2.0",
            "_view_name": "LayoutView",
            "align_content": null,
            "align_items": null,
            "align_self": null,
            "border": null,
            "bottom": null,
            "display": null,
            "flex": null,
            "flex_flow": null,
            "grid_area": null,
            "grid_auto_columns": null,
            "grid_auto_flow": null,
            "grid_auto_rows": null,
            "grid_column": null,
            "grid_gap": null,
            "grid_row": null,
            "grid_template_areas": null,
            "grid_template_columns": null,
            "grid_template_rows": null,
            "height": null,
            "justify_content": null,
            "justify_items": null,
            "left": null,
            "margin": null,
            "max_height": null,
            "max_width": null,
            "min_height": null,
            "min_width": null,
            "object_fit": null,
            "object_position": null,
            "order": null,
            "overflow": null,
            "overflow_x": null,
            "overflow_y": null,
            "padding": null,
            "right": null,
            "top": null,
            "visibility": null,
            "width": null
          }
        },
        "9fa8c3064b8f42c58d4c2ecee55da20e": {
          "model_module": "@jupyter-widgets/controls",
          "model_name": "DescriptionStyleModel",
          "model_module_version": "1.5.0",
          "state": {
            "_model_module": "@jupyter-widgets/controls",
            "_model_module_version": "1.5.0",
            "_model_name": "DescriptionStyleModel",
            "_view_count": null,
            "_view_module": "@jupyter-widgets/base",
            "_view_module_version": "1.2.0",
            "_view_name": "StyleView",
            "description_width": ""
          }
        }
      }
    }
  },
  "nbformat": 4,
  "nbformat_minor": 0
}