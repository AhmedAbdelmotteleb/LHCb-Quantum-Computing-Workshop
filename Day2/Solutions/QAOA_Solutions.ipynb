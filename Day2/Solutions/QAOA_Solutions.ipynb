{
 "cells": [
  {
   "cell_type": "markdown",
   "id": "a7a41ff2",
   "metadata": {},
   "source": [
    "# QAOA Max-Cut Exercise: 2-Node Graph\n",
    "\n",
    "## Introduction and Problem Description\n",
    "\n",
    "### What is Max-Cut?\n",
    "\n",
    "The **Max-Cut problem** is a well-known challenge in computer science and optimisation. Given a graph (a collection of nodes connected by edges), the goal is to divide the nodes into two groups in a way that **maximises the number of edges that run between the two groups**.\n",
    "\n",
    "In simpler terms:\n",
    "- You’re trying to “cut” the graph by placing nodes into two separate sets.\n",
    "- Each edge that connects a node in one set to a node in the other is considered **cut**.\n",
    "- The more edges you cut, the better your solution.\n",
    "\n",
    "### Example: 2-Node Graph\n",
    "\n",
    "Let’s take the simplest possible case — a graph with **2 nodes** connected by **1 edge**.\n",
    "\n",
    "- There are only two ways to split these nodes:\n",
    "  1. Both nodes in the same group → **no edge is cut**\n",
    "  2. Nodes in different groups → **1 edge is cut**\n",
    "\n",
    "To **maximize the number of cut edges**, we should place each node in a different group. So the optimal solution cuts the single edge — and that's the **maximum cut** for this graph.\n",
    "\n",
    "\n",
    "---\n",
    "\n",
    "### What is QAOA?\n",
    "\n",
    "QAOA stands for **Quantum Approximate Optimisation Algorithm**. It is a hybrid quantum-classical algorithm designed to find approximate solutions to optimisation problems like Max-Cut.\n",
    "\n",
    "- QAOA prepares a quantum state that represents a superposition of all possible solutions.\n",
    "- It applies operators based on the problem structure (cost unitary) and mixing operators to explore solution space.\n",
    "- After measurement, the outcome with the highest probability corresponds to a good approximate solution.\n",
    "\n",
    "---\n",
    "\n",
    "### How does this circuit work?\n",
    "\n",
    "1. **Initialisation (Hadamard gates):**  \n",
    "   Each qubit is put into a superposition state, representing all possible ways to assign nodes to groups simultaneously.\n",
    "\n",
    "2. **Cost Unitary (RZZ gate):**  \n",
    "   This encodes the problem’s cost function (how good a cut is) by applying phases to the quantum states based on the edges in the graph.\n",
    "\n",
    "3. **Mixing Unitary (RX rotations):**  \n",
    "   These rotations allow the algorithm to explore different cuts by mixing the amplitudes of the quantum states.\n",
    "\n",
    "4. **Measurement:**  \n",
    "   Measuring the qubits collapses the quantum state to a classical bitstring, representing one possible cut.\n",
    "\n",
    "---\n",
    "\n",
    "### Parameters $\\gamma$ and $\\beta$\n",
    "\n",
    "- The angles $\\gamma$ and $\\beta$ control the strength of the cost and mixing operations.\n",
    "- Optimising these angles is key to improving the quality of solutions, but in this exercise, we will use fixed values for simplicity.\n",
    "- QAOA is sensitive to these parameters and usually requires optimisation (classical outer loop) to find the best angles. Since this example uses fixed angles, perfect separation isn’t guaranteed.\n",
    "\n",
    "---\n",
    "\n",
    "### What do the results mean?\n",
    "\n",
    "The output is a histogram showing how many times each possible solution was measured.  \n",
    "- Bitstrings where the two bits differ (e.g., \"01\" or \"10\") represent the maximum cut (nodes in different groups).\n",
    "- You should see these bitstrings appear more often than others, indicating the algorithm favors the best solutions.\n",
    "\n"
   ]
  },
  {
   "cell_type": "markdown",
   "id": "d03a582e",
   "metadata": {},
   "source": [
    "# Exercise problem\n",
    "\n",
    "You want to solve the Max-Cut problem on a simple graph with 2 nodes connected by 1 edge using QAOA with 1 layer (p=1).\n",
    "\n",
    "The Max-Cut problem aims to divide the nodes into two groups to maximize the number of edges between groups. For 2 nodes connected by an edge, the best cut separates the two nodes.\n",
    "\n",
    "---\n",
    "\n",
    "## Step 1: Setup and Initialisation\n",
    "\n",
    "- Create a 2-qubit quantum circuit with 2 classical bits for measurement.\n",
    "- Apply Hadamard gates to create superposition on both qubits.\n",
    "\n",
    "---\n",
    "\n",
    "## Step 2: Apply the Cost Unitary\n",
    "\n",
    "This step encodes the structure of the problem (the graph and its edges) into the quantum state.\n",
    "\n",
    "- For Max-Cut, the cost function rewards placing connected nodes in different groups.\n",
    "- This is implemented using an **RZZ gate**, which applies a rotation based on the parity of two qubits (i.e., whether their values are the same or different).\n",
    "- You apply an `RZZ(2γ)` gate between each pair of connected qubits. For this 2-node graph, there's only one edge — between qubit 0 and qubit 1.\n",
    "\n",
    "--> The `RZZ` gate introduces a phase that favors the cut (01 and 10) over no-cut (00 and 11), depending on the choice of γ.\n",
    "\n",
    "**Note: Since `RZZ` is not a standard basis gate, Qiskit does not provide a direct `qc.rzz(...)` method. You’ll need to figure out a way to import it and add it to your circuit. Internally, this custom gate will be decomposed into basic gates like `CX` and `RZ` during transpilation, so it remains compatible with real quantum hardware. You can also build `RZZ` yourself with standard gates in a function.**\n",
    "\n",
    "---\n",
    "\n",
    "## Step 3: Apply the Mixing Unitary\n",
    "\n",
    "This step allows the quantum state to explore different bitstring combinations by mixing the amplitudes.\n",
    "\n",
    "- You apply an `RX(2β)` rotation to each qubit.\n",
    "- These gates rotate the qubits around the X-axis of the Bloch sphere, changing their state from one basis state to another.\n",
    "- This helps avoid getting stuck in a local minimum and allows the algorithm to explore and interfere between possible solutions.\n",
    "\n",
    "--> Think of the `RX` gates as “shuffling” the solutions after the cost function has biased them.\n",
    "\n",
    "\n",
    "## Step 4: Measurement and Simulation\n",
    "\n",
    "- Measure both qubits.\n",
    "- Simulate the circuit and plot the measurement histogram.\n",
    "\n",
    "---\n",
    "\n",
    "## Given parameters:\n",
    "\n",
    "$\n",
    "\\gamma = -\\frac{\\pi}{4}, \\quad \\beta = \\frac{\\pi}{8}\n",
    "$\n",
    "\n",
    "---\n",
    "\n",
    "## Your tasks:  \n",
    "- Complete steps 2–4 by filling in the missing code.\n",
    "- Given the current parameter choices, the quantum circuit is expected to assign higher probabilities to the Max-Cut solutions \"01\" and \"10\", which represent the nodes being placed on opposite sides of the cut (i.e., separated). Try playing around with the parameters to see how the results can change.\n"
   ]
  },
  {
   "cell_type": "code",
   "execution_count": null,
   "id": "d3e6f5dc-e6f8-4fb1-a4b8-88bb34275343",
   "metadata": {
    "trusted": true
   },
   "outputs": [],
   "source": [
    "!pip install qiskit --quiet\n",
    "!pip install qiskit[visualization] --quiet\n",
    "!pip install qiskit_aer --quiet"
   ]
  },
  {
   "cell_type": "code",
   "execution_count": 18,
   "id": "a221e0b6",
   "metadata": {
    "trusted": false
   },
   "outputs": [
    {
     "data": {
      "image/png": "[encoded data removed]",
      "text/plain": [
       "<Figure size 621.739x284.278 with 1 Axes>"
      ]
     },
     "execution_count": 18,
     "metadata": {},
     "output_type": "execute_result"
    }
   ],
   "source": [
    "from qiskit import QuantumCircuit\n",
    "from qiskit_aer import Aer\n",
    "from qiskit.visualization import plot_histogram\n",
    "import numpy as np\n",
    "\n",
    "# Step 1: Setup and Initialization\n",
    "qc = QuantumCircuit(2, 2)\n",
    "qc.h([0, 1])  # Apply Hadamards\n",
    "\n",
    "# Parameters\n",
    "gamma = -np.pi / 4\n",
    "beta = np.pi / 8\n",
    "\n",
    "# Step 2: Apply the Cost Unitary\n",
    "# YOUR CODE HERE\n",
    "# Solution:\n",
    "from qiskit.circuit.library import RZZGate\n",
    "\n",
    "# or alternatively:\n",
    "# def RZZGate(theta):\n",
    "#     rzz_circuit = QuantumCircuit(2)\n",
    "#     rzz_circuit.cx(0, 1)\n",
    "#     rzz_circuit.rz(theta, 1)\n",
    "#     rzz_circuit.cx(0, 1)\n",
    "#     return rzz_circuit.to_gate(label=f\"RZZ({theta:.2f})\")\n",
    "\n",
    "qc.append(RZZGate(2 * gamma), [0, 1])\n",
    "#qc = qc.decompose() # Useful if you build your own gate function or examine the RZZ gate structure\n",
    "\n",
    "\n",
    "# Step 3: Apply the Mixing Unitary\n",
    "# YOUR CODE HERE\n",
    "# Solution:\n",
    "qc.rx(2 * beta, 0)\n",
    "qc.rx(2 * beta, 1)\n",
    "\n",
    "# Step 4: Measurement and Simulation\n",
    "# YOUR CODE HERE\n",
    "# Solution:\n",
    "qc.measure([0, 1], [0, 1])\n",
    "\n",
    "qc.draw('mpl')"
   ]
  },
  {
   "cell_type": "code",
   "execution_count": 19,
   "id": "c4a5f159",
   "metadata": {},
   "outputs": [
    {
     "name": "stdout",
     "output_type": "stream",
     "text": [
      "QAOA Max-Cut results:\n",
      "{'01': 515, '10': 509}\n"
     ]
    },
    {
     "data": {
      "image/png": "[encoded data removed]",
      "text/plain": [
       "<Figure size 640x480 with 1 Axes>"
      ]
     },
     "execution_count": 19,
     "metadata": {},
     "output_type": "execute_result"
    }
   ],
   "source": [
    "# Measurement\n",
    "backend = Aer.get_backend('aer_simulator')\n",
    "job = backend.run(qc, shots=1024)\n",
    "result = job.result()\n",
    "counts = result.get_counts()\n",
    "\n",
    "print(\"QAOA Max-Cut results:\")\n",
    "print(counts)\n",
    "plot_histogram(counts)"
   ]
  }
 ],
 "metadata": {
  "kernelspec": {
   "display_name": "Python 3",
   "language": "python",
   "name": "python3"
  },
  "language_info": {
   "codemirror_mode": {
    "name": "ipython",
    "version": 3
   },
   "file_extension": ".py",
   "mimetype": "text/x-python",
   "name": "python",
   "nbconvert_exporter": "python",
   "pygments_lexer": "ipython3",
   "version": "3.11.9"
  }
 },
 "nbformat": 4,
 "nbformat_minor": 5
}
